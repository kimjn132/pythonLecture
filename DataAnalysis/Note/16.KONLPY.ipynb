{
 "cells": [
  {
   "cell_type": "code",
   "execution_count": 1,
   "metadata": {},
   "outputs": [
    {
     "name": "stdout",
     "output_type": "stream",
     "text": [
      "Collecting tweepy==3.10.0\n",
      "  Downloading tweepy-3.10.0-py2.py3-none-any.whl (30 kB)\n",
      "Requirement already satisfied: requests[socks]>=2.11.1 in /Users/annakim/miniforge3/envs/tensorflow/lib/python3.9/site-packages (from tweepy==3.10.0) (2.28.2)\n",
      "Requirement already satisfied: requests-oauthlib>=0.7.0 in /Users/annakim/miniforge3/envs/tensorflow/lib/python3.9/site-packages (from tweepy==3.10.0) (1.3.1)\n",
      "Requirement already satisfied: six>=1.10.0 in /Users/annakim/miniforge3/envs/tensorflow/lib/python3.9/site-packages (from tweepy==3.10.0) (1.16.0)\n",
      "Requirement already satisfied: oauthlib>=3.0.0 in /Users/annakim/miniforge3/envs/tensorflow/lib/python3.9/site-packages (from requests-oauthlib>=0.7.0->tweepy==3.10.0) (3.2.2)\n",
      "Requirement already satisfied: certifi>=2017.4.17 in /Users/annakim/miniforge3/envs/tensorflow/lib/python3.9/site-packages (from requests[socks]>=2.11.1->tweepy==3.10.0) (2022.12.7)\n",
      "Requirement already satisfied: urllib3<1.27,>=1.21.1 in /Users/annakim/miniforge3/envs/tensorflow/lib/python3.9/site-packages (from requests[socks]>=2.11.1->tweepy==3.10.0) (1.26.14)\n",
      "Requirement already satisfied: idna<4,>=2.5 in /Users/annakim/miniforge3/envs/tensorflow/lib/python3.9/site-packages (from requests[socks]>=2.11.1->tweepy==3.10.0) (3.4)\n",
      "Requirement already satisfied: charset-normalizer<4,>=2 in /Users/annakim/miniforge3/envs/tensorflow/lib/python3.9/site-packages (from requests[socks]>=2.11.1->tweepy==3.10.0) (3.0.1)\n",
      "Requirement already satisfied: PySocks!=1.5.7,>=1.5.6 in /Users/annakim/miniforge3/envs/tensorflow/lib/python3.9/site-packages (from requests[socks]>=2.11.1->tweepy==3.10.0) (1.7.1)\n",
      "Installing collected packages: tweepy\n",
      "Successfully installed tweepy-3.10.0\n",
      "Collecting konlpy\n",
      "  Downloading konlpy-0.6.0-py2.py3-none-any.whl (19.4 MB)\n",
      "\u001b[2K     \u001b[90m━━━━━━━━━━━━━━━━━━━━━━━━━━━━━━━━━━━━━━━━\u001b[0m \u001b[32m19.4/19.4 MB\u001b[0m \u001b[31m2.4 MB/s\u001b[0m eta \u001b[36m0:00:00\u001b[0m00:01\u001b[0m00:01\u001b[0m\n",
      "\u001b[?25hRequirement already satisfied: lxml>=4.1.0 in /Users/annakim/miniforge3/envs/tensorflow/lib/python3.9/site-packages (from konlpy) (4.9.2)\n",
      "Collecting JPype1>=0.7.0\n",
      "  Downloading JPype1-1.4.1.tar.gz (797 kB)\n",
      "\u001b[2K     \u001b[90m━━━━━━━━━━━━━━━━━━━━━━━━━━━━━━━━━━━━━━━\u001b[0m \u001b[32m797.9/797.9 kB\u001b[0m \u001b[31m4.1 MB/s\u001b[0m eta \u001b[36m0:00:00\u001b[0m00:01\u001b[0m00:01\u001b[0m\n",
      "\u001b[?25h  Preparing metadata (setup.py) ... \u001b[?25ldone\n",
      "\u001b[?25hRequirement already satisfied: numpy>=1.6 in /Users/annakim/miniforge3/envs/tensorflow/lib/python3.9/site-packages (from konlpy) (1.23.2)\n",
      "Requirement already satisfied: packaging in /Users/annakim/miniforge3/envs/tensorflow/lib/python3.9/site-packages (from JPype1>=0.7.0->konlpy) (23.0)\n",
      "Building wheels for collected packages: JPype1\n",
      "  Building wheel for JPype1 (setup.py) ... \u001b[?25ldone\n",
      "\u001b[?25h  Created wheel for JPype1: filename=JPype1-1.4.1-cp39-cp39-macosx_11_0_arm64.whl size=372785 sha256=c7458fa6606f4232034135f65ffea29a08a706ade14b1d379b8c194d6e9226fc\n",
      "  Stored in directory: /Users/annakim/Library/Caches/pip/wheels/77/3e/9f/247c35a9fb0a81c752b163230f701d8fea158ee21bde5b7637\n",
      "Successfully built JPype1\n",
      "Installing collected packages: JPype1, konlpy\n",
      "Successfully installed JPype1-1.4.1 konlpy-0.6.0\n"
     ]
    }
   ],
   "source": [
    "# !pip install tweepy==3.10.0\n",
    "# !pip install konlpy     # korea national language python"
   ]
  },
  {
   "cell_type": "code",
   "execution_count": 12,
   "metadata": {},
   "outputs": [
    {
     "ename": "NameError",
     "evalue": "name 'plt' is not defined",
     "output_type": "error",
     "traceback": [
      "\u001b[0;31m---------------------------------------------------------------------------\u001b[0m",
      "\u001b[0;31mNameError\u001b[0m                                 Traceback (most recent call last)",
      "Cell \u001b[0;32mIn[12], line 10\u001b[0m\n\u001b[1;32m      8\u001b[0m \u001b[39mfrom\u001b[39;00m \u001b[39mmatplotlib\u001b[39;00m \u001b[39mimport\u001b[39;00m font_manager, rc\n\u001b[1;32m      9\u001b[0m \u001b[39m# unicode 설정\u001b[39;00m\n\u001b[0;32m---> 10\u001b[0m plt\u001b[39m.\u001b[39mrcParams[\u001b[39m'\u001b[39m\u001b[39maxes.unicode_minus\u001b[39m\u001b[39m'\u001b[39m] \u001b[39m=\u001b[39m \u001b[39mFalse\u001b[39;00m\n\u001b[1;32m     12\u001b[0m \u001b[39mif\u001b[39;00m platform\u001b[39m.\u001b[39msystem() \u001b[39m==\u001b[39m \u001b[39m'\u001b[39m\u001b[39mDarwin\u001b[39m\u001b[39m'\u001b[39m:\n\u001b[1;32m     13\u001b[0m     rc(\u001b[39m'\u001b[39m\u001b[39mfont\u001b[39m\u001b[39m'\u001b[39m, family\u001b[39m=\u001b[39m\u001b[39m'\u001b[39m\u001b[39mAppleGothic\u001b[39m\u001b[39m'\u001b[39m) \u001b[39m# os가 macos\u001b[39;00m\n",
      "\u001b[0;31mNameError\u001b[0m: name 'plt' is not defined"
     ]
    }
   ],
   "source": []
  },
  {
   "attachments": {},
   "cell_type": "markdown",
   "metadata": {},
   "source": [
    "### Kkma\n",
    "- 꼬꼬마"
   ]
  },
  {
   "cell_type": "code",
   "execution_count": 2,
   "metadata": {},
   "outputs": [],
   "source": [
    "from konlpy.tag import Kkma\n",
    "kkma = Kkma()"
   ]
  },
  {
   "cell_type": "code",
   "execution_count": 3,
   "metadata": {},
   "outputs": [
    {
     "data": {
      "text/plain": [
       "['나는 자랑스러운 태극기 앞에 자유롭고 정의로운 대한민국의 무궁한 영광을 위하여 충성을 다 할 것을 굳게 다짐합니다.']"
      ]
     },
     "execution_count": 3,
     "metadata": {},
     "output_type": "execute_result"
    }
   ],
   "source": [
    "kkma.sentences('나는 자랑스러운 태극기 앞에 자유롭고 정의로운 대한민국의 무궁한 영광을 위하여 충성을 다 할 것을 굳게 다짐합니다.')"
   ]
  },
  {
   "cell_type": "code",
   "execution_count": 4,
   "metadata": {},
   "outputs": [
    {
     "data": {
      "text/plain": [
       "['나', '자랑', '태극기', '앞', '자유', '정의', '대한', '대한민국', '민국', '무궁', '영광', '충성', '다짐']"
      ]
     },
     "execution_count": 4,
     "metadata": {},
     "output_type": "execute_result"
    }
   ],
   "source": [
    "# 명사만 추출\n",
    "kkma.nouns('나는 자랑스러운 태극기 앞에 자유롭고 정의로운 대한민국의 무궁한 영광을 위하여 충성을 다 할 것을 굳게 다짐합니다.')"
   ]
  },
  {
   "cell_type": "code",
   "execution_count": null,
   "metadata": {},
   "outputs": [],
   "source": [
    "kkma.pos('나는 자랑스러운 태극기 앞에 자유롭고 정의로운 대한민국의 무궁한 영광을 위하여 충성을 다 할 것을 굳게 다짐합니다.')"
   ]
  },
  {
   "attachments": {},
   "cell_type": "markdown",
   "metadata": {},
   "source": [
    "---\n",
    "## Hannanum"
   ]
  },
  {
   "cell_type": "code",
   "execution_count": 6,
   "metadata": {},
   "outputs": [],
   "source": [
    "from konlpy.tag import Hannanum\n",
    "Hannanum = Hannanum()"
   ]
  },
  {
   "cell_type": "code",
   "execution_count": 7,
   "metadata": {},
   "outputs": [
    {
     "data": {
      "text/plain": [
       "['나', '자랑', '태극기', '앞', '자유', '정의로운', '대한민국', '무궁한', '영광', '충성', '것', '다짐']"
      ]
     },
     "execution_count": 7,
     "metadata": {},
     "output_type": "execute_result"
    }
   ],
   "source": [
    "Hannanum.nouns('나는 자랑스러운 태극기 앞에 자유롭고 정의로운 대한민국의 무궁한 영광을 위하여 충성을 다 할 것을 굳게 다짐합니다.')"
   ]
  },
  {
   "cell_type": "code",
   "execution_count": 8,
   "metadata": {},
   "outputs": [
    {
     "data": {
      "text/plain": [
       "[('나', 'N'),\n",
       " ('는', 'J'),\n",
       " ('자랑', 'N'),\n",
       " ('스럽', 'X'),\n",
       " ('은', 'E'),\n",
       " ('태극기', 'N'),\n",
       " ('앞', 'N'),\n",
       " ('에', 'J'),\n",
       " ('자유', 'N'),\n",
       " ('롭', 'X'),\n",
       " ('고', 'E'),\n",
       " ('정의로운', 'N'),\n",
       " ('대한민국', 'N'),\n",
       " ('의', 'J'),\n",
       " ('무궁한', 'N'),\n",
       " ('영광', 'N'),\n",
       " ('을', 'J'),\n",
       " ('위하', 'P'),\n",
       " ('어', 'E'),\n",
       " ('충성', 'N'),\n",
       " ('을', 'J'),\n",
       " ('다', 'M'),\n",
       " ('하', 'P'),\n",
       " ('ㄹ', 'E'),\n",
       " ('것', 'N'),\n",
       " ('을', 'J'),\n",
       " ('굳', 'P'),\n",
       " ('게', 'E'),\n",
       " ('다짐', 'N'),\n",
       " ('하', 'X'),\n",
       " ('ㅂ니다', 'E'),\n",
       " ('.', 'S')]"
      ]
     },
     "execution_count": 8,
     "metadata": {},
     "output_type": "execute_result"
    }
   ],
   "source": [
    "Hannanum.pos('나는 자랑스러운 태극기 앞에 자유롭고 정의로운 대한민국의 무궁한 영광을 위하여 충성을 다 할 것을 굳게 다짐합니다.')"
   ]
  },
  {
   "attachments": {},
   "cell_type": "markdown",
   "metadata": {},
   "source": [
    "---\n",
    "## Okt\n",
    "- 형태소 분석"
   ]
  },
  {
   "cell_type": "code",
   "execution_count": 9,
   "metadata": {},
   "outputs": [],
   "source": [
    "from konlpy.tag import Okt\n",
    "t = Okt()"
   ]
  },
  {
   "cell_type": "code",
   "execution_count": 10,
   "metadata": {},
   "outputs": [
    {
     "data": {
      "text/plain": [
       "['나', '태극기', '앞', '자유', '정의', '대한민국', '무궁', '영광', '위', '충성', '것', '다짐']"
      ]
     },
     "execution_count": 10,
     "metadata": {},
     "output_type": "execute_result"
    }
   ],
   "source": [
    "t.nouns('나는 자랑스러운 태극기 앞에 자유롭고 정의로운 대한민국의 무궁한 영광을 위하여 충성을 다 할 것을 굳게 다짐합니다.')"
   ]
  },
  {
   "cell_type": "code",
   "execution_count": 11,
   "metadata": {},
   "outputs": [
    {
     "data": {
      "text/plain": [
       "[('나', 'Noun'),\n",
       " ('는', 'Josa'),\n",
       " ('자랑스러운', 'Adjective'),\n",
       " ('태극기', 'Noun'),\n",
       " ('앞', 'Noun'),\n",
       " ('에', 'Josa'),\n",
       " ('자유', 'Noun'),\n",
       " ('롭고', 'Josa'),\n",
       " ('정의', 'Noun'),\n",
       " ('로운', 'Josa'),\n",
       " ('대한민국', 'Noun'),\n",
       " ('의', 'Josa'),\n",
       " ('무궁', 'Noun'),\n",
       " ('한', 'Josa'),\n",
       " ('영광', 'Noun'),\n",
       " ('을', 'Josa'),\n",
       " ('위', 'Noun'),\n",
       " ('하여', 'Verb'),\n",
       " ('충성', 'Noun'),\n",
       " ('을', 'Josa'),\n",
       " ('다', 'Adverb'),\n",
       " ('할', 'Verb'),\n",
       " ('것', 'Noun'),\n",
       " ('을', 'Josa'),\n",
       " ('굳게', 'Adjective'),\n",
       " ('다짐', 'Noun'),\n",
       " ('합니다', 'Verb'),\n",
       " ('.', 'Punctuation')]"
      ]
     },
     "execution_count": 11,
     "metadata": {},
     "output_type": "execute_result"
    }
   ],
   "source": [
    "t.pos('나는 자랑스러운 태극기 앞에 자유롭고 정의로운 대한민국의 무궁한 영광을 위하여 충성을 다 할 것을 굳게 다짐합니다.')"
   ]
  },
  {
   "cell_type": "code",
   "execution_count": null,
   "metadata": {},
   "outputs": [],
   "source": []
  }
 ],
 "metadata": {
  "kernelspec": {
   "display_name": "tensorflow",
   "language": "python",
   "name": "python3"
  },
  "language_info": {
   "codemirror_mode": {
    "name": "ipython",
    "version": 3
   },
   "file_extension": ".py",
   "mimetype": "text/x-python",
   "name": "python",
   "nbconvert_exporter": "python",
   "pygments_lexer": "ipython3",
   "version": "3.9.13"
  },
  "orig_nbformat": 4,
  "vscode": {
   "interpreter": {
    "hash": "75f222f31d8106ed7e1b9fc13cea3e71535ba3320824bf9a24772f72bb580fe7"
   }
  }
 },
 "nbformat": 4,
 "nbformat_minor": 2
}

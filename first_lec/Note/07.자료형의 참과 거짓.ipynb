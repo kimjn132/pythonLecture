{
 "cells": [
  {
   "attachments": {},
   "cell_type": "markdown",
   "metadata": {},
   "source": [
    "### 자료형의 참과 거짓\n",
    "- 문자열인 경우 \"\"안에 데이터가 없으면 거짓, 있으면 참\n",
    "- 리스트인 경우 []안에 데이터가 없으면 거짓, 있으면 참\n",
    "- 튜플인 경우 ()안에 데이터가 없으면 거짓, 있으면 참\n",
    "- 딕셔너리인 경우 {}안에 데이터가 없으면 거짓, 있으면 참\n",
    "- 숫자인 경우 0이면 거짓, 0이 아닌 숫자인 경우는 참"
   ]
  },
  {
   "cell_type": "code",
   "execution_count": 1,
   "metadata": {},
   "outputs": [
    {
     "name": "stdout",
     "output_type": "stream",
     "text": [
      "4\n",
      "3\n",
      "2\n",
      "1\n"
     ]
    },
    {
     "data": {
      "text/plain": [
       "[]"
      ]
     },
     "execution_count": 1,
     "metadata": {},
     "output_type": "execute_result"
    }
   ],
   "source": [
    "# 리스트형에서 자료 출력하면서 자료 지우기\n",
    "var = [1,2,3,4]\n",
    "\n",
    "while(var):\n",
    "    print(var.pop())\n",
    "    \n",
    "var"
   ]
  },
  {
   "cell_type": "code",
   "execution_count": 5,
   "metadata": {},
   "outputs": [
    {
     "name": "stdout",
     "output_type": "stream",
     "text": [
      "1\n",
      "2\n",
      "False\n"
     ]
    }
   ],
   "source": [
    "# Tuple을 이용한 변수 생성\n",
    "var01, var02 = 1, 2\n",
    "print(var01)\n",
    "print(var02)\n",
    "print(var01 is var02)   #False"
   ]
  },
  {
   "cell_type": "code",
   "execution_count": 9,
   "metadata": {},
   "outputs": [
    {
     "name": "stdout",
     "output_type": "stream",
     "text": [
      "1\n",
      "Lee\n"
     ]
    }
   ],
   "source": [
    "(var01, var02) = (1, \"Lee\")\n",
    "print(var01)\n",
    "print(var02)"
   ]
  },
  {
   "cell_type": "code",
   "execution_count": 12,
   "metadata": {},
   "outputs": [],
   "source": [
    "var01 = var02 = 'Lee'"
   ]
  },
  {
   "cell_type": "code",
   "execution_count": 15,
   "metadata": {},
   "outputs": [
    {
     "name": "stdout",
     "output_type": "stream",
     "text": [
      "Lee Lee\n"
     ]
    }
   ],
   "source": [
    "print(var01, var02)     #Lee Lee"
   ]
  },
  {
   "cell_type": "code",
   "execution_count": 20,
   "metadata": {},
   "outputs": [
    {
     "name": "stdout",
     "output_type": "stream",
     "text": [
      "5 3\n"
     ]
    }
   ],
   "source": [
    "# 변수 값 교환\n",
    "var01 = 3\n",
    "var02 = 5\n",
    "var01, var02 = var02, var01\n",
    "print(var01, var02)"
   ]
  },
  {
   "cell_type": "code",
   "execution_count": 28,
   "metadata": {},
   "outputs": [
    {
     "name": "stdout",
     "output_type": "stream",
     "text": [
      "[1, 4, 6]\n",
      "[1, 4, 6]\n",
      "True\n"
     ]
    }
   ],
   "source": [
    "# 리스트의 복사(call by reference 방식 - 배열 순서만 복사한 것) >> 이렇게 복사하면 두 변수의 값 모두 바뀜(NO)\n",
    "# call by reference라 pointer가 동일한 위치를 가리킨다.(그래서 동일한 위치가 변하면 데이터가 동일하게 바뀐다.)\n",
    "var01 = [1,2,3]\n",
    "var02 = var01\n",
    "var02[2] = 6\n",
    "var01[1] = 4\n",
    "print(var01)\n",
    "print(var02)\n",
    "print(var01 is var02)   #True"
   ]
  },
  {
   "cell_type": "code",
   "execution_count": 31,
   "metadata": {},
   "outputs": [
    {
     "name": "stdout",
     "output_type": "stream",
     "text": [
      "[1, 4, 3]\n",
      "[1, 2, 3]\n",
      "False\n"
     ]
    }
   ],
   "source": [
    "# Slicing을 이용한 리스트 복사(call by value)\n",
    "var01 = [1,2,3]\n",
    "#var02 = var01   #이렇게 쓰면 안됨\n",
    "var02 = var01[:]\n",
    "var01[1] = 4\n",
    "print(var01)\n",
    "print(var02)\n",
    "print(var01 is var02)   #False"
   ]
  },
  {
   "cell_type": "code",
   "execution_count": 32,
   "metadata": {},
   "outputs": [
    {
     "name": "stdout",
     "output_type": "stream",
     "text": [
      "[1, 4, 3]\n",
      "[1, 2, 3]\n",
      "False\n"
     ]
    }
   ],
   "source": [
    "# Module을 이용한 리스트의 복사(call by value)\n",
    "from copy import copy\n",
    "var01 = [1,2,3]\n",
    "var02 = copy(var01)\n",
    "var01[1] = 4\n",
    "print(var01)\n",
    "print(var02)\n",
    "print(var01 is var02)"
   ]
  },
  {
   "attachments": {},
   "cell_type": "markdown",
   "metadata": {},
   "source": [
    "### Code의 집합 = Function\n",
    "### Function의 집합 = package"
   ]
  },
  {
   "cell_type": "code",
   "execution_count": 34,
   "metadata": {},
   "outputs": [
    {
     "name": "stdout",
     "output_type": "stream",
     "text": [
      "True\n",
      "False\n"
     ]
    }
   ],
   "source": [
    "print(4 in var01)\n",
    "print(10 in var01)\n",
    "# true, false 값은 if문에 사용(이런 것 생각하면서 보자)"
   ]
  }
 ],
 "metadata": {
  "kernelspec": {
   "display_name": "Python 3",
   "language": "python",
   "name": "python3"
  },
  "language_info": {
   "codemirror_mode": {
    "name": "ipython",
    "version": 3
   },
   "file_extension": ".py",
   "mimetype": "text/x-python",
   "name": "python",
   "nbconvert_exporter": "python",
   "pygments_lexer": "ipython3",
   "version": "3.10.5"
  },
  "orig_nbformat": 4,
  "vscode": {
   "interpreter": {
    "hash": "aee8b7b246df8f9039afb4144a1f6fd8d2ca17a180786b69acc140d282b71a49"
   }
  }
 },
 "nbformat": 4,
 "nbformat_minor": 2
}

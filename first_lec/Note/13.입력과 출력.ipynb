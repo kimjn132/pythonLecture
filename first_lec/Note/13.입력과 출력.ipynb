{
 "cells": [
  {
   "attachments": {},
   "cell_type": "markdown",
   "metadata": {},
   "source": [
    "# 파일을 쓰기모드로 열어 출력값 저장하기."
   ]
  },
  {
   "cell_type": "code",
   "execution_count": 1,
   "metadata": {},
   "outputs": [],
   "source": [
    "#파이썬만 가지고 쓸 때 \n",
    "f = open(\"./Data/new.txt\", \"w\")\n",
    "\n",
    "for i in range(1, 11):\n",
    "    data = \"%d번째 줄 입니다.\\n\"%i\n",
    "    f.write(data)\n",
    "    \n",
    "f.close()"
   ]
  },
  {
   "cell_type": "code",
   "execution_count": 2,
   "metadata": {},
   "outputs": [
    {
     "name": "stdout",
     "output_type": "stream",
     "text": [
      "1번째 줄 입니다.\n",
      "\n",
      "2번째 줄 입니다.\n",
      "\n",
      "3번째 줄 입니다.\n",
      "\n",
      "4번째 줄 입니다.\n",
      "\n",
      "5번째 줄 입니다.\n",
      "\n",
      "6번째 줄 입니다.\n",
      "\n",
      "7번째 줄 입니다.\n",
      "\n",
      "8번째 줄 입니다.\n",
      "\n",
      "9번째 줄 입니다.\n",
      "\n",
      "10번째 줄 입니다.\n",
      "\n"
     ]
    }
   ],
   "source": [
    "# 파일을 읽기 모드로 열어 파일 내용 출력하기 - 1\n",
    "\n",
    "f = open(\"./Data/new.txt\", \"r\")\n",
    "while True:\n",
    "    #데이터 한 줄씩 불러옴\n",
    "    line = f.readline()\n",
    "    if not line:\n",
    "        break\n",
    "    print(line)\n",
    "f.close()"
   ]
  },
  {
   "cell_type": "code",
   "execution_count": 3,
   "metadata": {},
   "outputs": [
    {
     "name": "stdout",
     "output_type": "stream",
     "text": [
      "1번째 줄 입니다.\n",
      "\n",
      "2번째 줄 입니다.\n",
      "\n",
      "3번째 줄 입니다.\n",
      "\n",
      "4번째 줄 입니다.\n",
      "\n",
      "5번째 줄 입니다.\n",
      "\n",
      "6번째 줄 입니다.\n",
      "\n",
      "7번째 줄 입니다.\n",
      "\n",
      "8번째 줄 입니다.\n",
      "\n",
      "9번째 줄 입니다.\n",
      "\n",
      "10번째 줄 입니다.\n",
      "\n"
     ]
    }
   ],
   "source": [
    "# 파일을 읽기 모드로 열어 파일 내용 출력하기 - 2\n",
    "\n",
    "f = open(\"./Data/new.txt\", \"r\")\n",
    "#데이터 한번에 불러오기(데이터가 엄청 많을 때는 쓰면 안됨>>대신 readline사용!)\n",
    "lines = f.readlines()\n",
    "for line in lines:\n",
    "    print(line)\n",
    "f.close()"
   ]
  },
  {
   "cell_type": "code",
   "execution_count": 5,
   "metadata": {},
   "outputs": [
    {
     "name": "stdout",
     "output_type": "stream",
     "text": [
      "1번째 줄 입니다.\n",
      "2번째 줄 입니다.\n",
      "3번째 줄 입니다.\n",
      "4번째 줄 입니다.\n",
      "5번째 줄 입니다.\n",
      "6번째 줄 입니다.\n",
      "7번째 줄 입니다.\n",
      "8번째 줄 입니다.\n",
      "9번째 줄 입니다.\n",
      "10번째 줄 입니다.\n",
      "\n"
     ]
    }
   ],
   "source": [
    "# 파일을 읽기 모드로 열어 파일 내용 출력하기 - 3\n",
    "\n",
    "f = open(\"./Data/new.txt\", \"r\")\n",
    "data = f.read()\n",
    "print(data)\n",
    "f.close()"
   ]
  },
  {
   "cell_type": "code",
   "execution_count": 6,
   "metadata": {},
   "outputs": [
    {
     "name": "stdout",
     "output_type": "stream",
     "text": [
      "1번째 줄 입니다.\n",
      "2번째 줄 입니다.\n",
      "3번째 줄 입니다.\n",
      "4번째 줄 입니다.\n",
      "5번째 줄 입니다.\n",
      "6번째 줄 입니다.\n",
      "7번째 줄 입니다.\n",
      "8번째 줄 입니다.\n",
      "9번째 줄 입니다.\n",
      "10번째 줄 입니다.\n",
      "11번째 줄 입니다.\n",
      "12번째 줄 입니다.\n",
      "13번째 줄 입니다.\n",
      "14번째 줄 입니다.\n",
      "15번째 줄 입니다.\n",
      "16번째 줄 입니다.\n",
      "17번째 줄 입니다.\n",
      "18번째 줄 입니다.\n",
      "19번째 줄 입니다.\n",
      "20번째 줄 입니다.\n",
      "\n"
     ]
    }
   ],
   "source": [
    "# 파일에 새로운 내용 추가하기\n",
    "f = open(\"./Data/new.txt\", \"a\")\n",
    "for i in range(11,21):\n",
    "    data = \"%d번째 줄 입니다.\\n\"%i\n",
    "    f.write(data)\n",
    "    \n",
    "f.close()\n",
    "\n",
    "\n",
    "f = open(\"./Data/new.txt\", \"r\")\n",
    "data = f.read()\n",
    "print(data)\n",
    "f.close()"
   ]
  },
  {
   "cell_type": "markdown",
   "metadata": {},
   "source": [
    "# with"
   ]
  },
  {
   "cell_type": "code",
   "execution_count": 15,
   "metadata": {},
   "outputs": [],
   "source": [
    "# 파일 만들기\n",
    "with open(\"./Data/new2.txt\", \"w\") as f:\n",
    "    for i in range(1, 11):\n",
    "        data = \"%d번째 줄 입니다. \\n\"%i\n",
    "        f.write(data)"
   ]
  },
  {
   "cell_type": "code",
   "execution_count": 17,
   "metadata": {},
   "outputs": [
    {
     "name": "stdout",
     "output_type": "stream",
     "text": [
      "1번째 줄 입니다. \n",
      "2번째 줄 입니다. \n",
      "3번째 줄 입니다. \n",
      "4번째 줄 입니다. \n",
      "5번째 줄 입니다. \n",
      "6번째 줄 입니다. \n",
      "7번째 줄 입니다. \n",
      "8번째 줄 입니다. \n",
      "9번째 줄 입니다. \n",
      "10번째 줄 입니다. \n",
      "\n"
     ]
    }
   ],
   "source": [
    "# 파일 읽기\n",
    "with open(\"./Data/new2.txt\", \"r\") as f:\n",
    "    data = f.read()\n",
    "    print(data)"
   ]
  },
  {
   "attachments": {},
   "cell_type": "markdown",
   "metadata": {},
   "source": [
    "--------\n",
    "# Pandas"
   ]
  },
  {
   "cell_type": "code",
   "execution_count": 3,
   "metadata": {},
   "outputs": [
    {
     "name": "stdout",
     "output_type": "stream",
     "text": [
      "Collecting pandas\n",
      "  Downloading pandas-1.5.2-cp39-cp39-macosx_11_0_arm64.whl (10.9 MB)\n",
      "\u001b[2K     \u001b[90m━━━━━━━━━━━━━━━━━━━━━━━━━━━━━━━━━━━━━━━━\u001b[0m \u001b[32m10.9/10.9 MB\u001b[0m \u001b[31m3.2 MB/s\u001b[0m eta \u001b[36m0:00:00\u001b[0m00:01\u001b[0m00:01\u001b[0m\n",
      "\u001b[?25hCollecting pytz>=2020.1\n",
      "  Downloading pytz-2022.7.1-py2.py3-none-any.whl (499 kB)\n",
      "\u001b[2K     \u001b[90m━━━━━━━━━━━━━━━━━━━━━━━━━━━━━━━━━━━━━━━\u001b[0m \u001b[32m499.4/499.4 kB\u001b[0m \u001b[31m3.6 MB/s\u001b[0m eta \u001b[36m0:00:00\u001b[0ma \u001b[36m0:00:01\u001b[0m\n",
      "\u001b[?25hRequirement already satisfied: python-dateutil>=2.8.1 in /Users/annakim/miniforge3/envs/tensorflow/lib/python3.9/site-packages (from pandas) (2.8.2)\n",
      "Requirement already satisfied: numpy>=1.20.3 in /Users/annakim/miniforge3/envs/tensorflow/lib/python3.9/site-packages (from pandas) (1.23.2)\n",
      "Requirement already satisfied: six>=1.5 in /Users/annakim/miniforge3/envs/tensorflow/lib/python3.9/site-packages (from python-dateutil>=2.8.1->pandas) (1.16.0)\n",
      "Installing collected packages: pytz, pandas\n",
      "Successfully installed pandas-1.5.2 pytz-2022.7.1\n"
     ]
    }
   ],
   "source": [
    "#!pip install pandas"
   ]
  },
  {
   "cell_type": "code",
   "execution_count": 4,
   "metadata": {},
   "outputs": [],
   "source": [
    "import pandas as pd"
   ]
  },
  {
   "cell_type": "code",
   "execution_count": 11,
   "metadata": {},
   "outputs": [
    {
     "data": {
      "text/html": [
       "<div>\n",
       "<style scoped>\n",
       "    .dataframe tbody tr th:only-of-type {\n",
       "        vertical-align: middle;\n",
       "    }\n",
       "\n",
       "    .dataframe tbody tr th {\n",
       "        vertical-align: top;\n",
       "    }\n",
       "\n",
       "    .dataframe thead th {\n",
       "        text-align: right;\n",
       "    }\n",
       "</style>\n",
       "<table border=\"1\" class=\"dataframe\">\n",
       "  <thead>\n",
       "    <tr style=\"text-align: right;\">\n",
       "      <th></th>\n",
       "      <th>0</th>\n",
       "    </tr>\n",
       "  </thead>\n",
       "  <tbody>\n",
       "    <tr>\n",
       "      <th>0</th>\n",
       "      <td>1번째 줄 입니다.</td>\n",
       "    </tr>\n",
       "    <tr>\n",
       "      <th>1</th>\n",
       "      <td>2번째 줄 입니다.</td>\n",
       "    </tr>\n",
       "    <tr>\n",
       "      <th>2</th>\n",
       "      <td>3번째 줄 입니다.</td>\n",
       "    </tr>\n",
       "    <tr>\n",
       "      <th>3</th>\n",
       "      <td>4번째 줄 입니다.</td>\n",
       "    </tr>\n",
       "    <tr>\n",
       "      <th>4</th>\n",
       "      <td>5번째 줄 입니다.</td>\n",
       "    </tr>\n",
       "  </tbody>\n",
       "</table>\n",
       "</div>"
      ],
      "text/plain": [
       "            0\n",
       "0  1번째 줄 입니다.\n",
       "1  2번째 줄 입니다.\n",
       "2  3번째 줄 입니다.\n",
       "3  4번째 줄 입니다.\n",
       "4  5번째 줄 입니다."
      ]
     },
     "execution_count": 11,
     "metadata": {},
     "output_type": "execute_result"
    }
   ],
   "source": [
    "# txt file 불러오기\n",
    "txtSample = pd.read_table(\"./Data/new.txt\", header=None)\n",
    "txtSample.head()    # 5줄만 보여줌 "
   ]
  },
  {
   "cell_type": "code",
   "execution_count": 12,
   "metadata": {},
   "outputs": [],
   "source": [
    "# txt file로 저장하기\n",
    "# index번호 저장 안함(false)\n",
    "# .to_string\n",
    "txtSample.to_string('./Data/Sample.txt', index=False)"
   ]
  },
  {
   "cell_type": "code",
   "execution_count": 14,
   "metadata": {},
   "outputs": [
    {
     "data": {
      "text/html": [
       "<div>\n",
       "<style scoped>\n",
       "    .dataframe tbody tr th:only-of-type {\n",
       "        vertical-align: middle;\n",
       "    }\n",
       "\n",
       "    .dataframe tbody tr th {\n",
       "        vertical-align: top;\n",
       "    }\n",
       "\n",
       "    .dataframe thead th {\n",
       "        text-align: right;\n",
       "    }\n",
       "</style>\n",
       "<table border=\"1\" class=\"dataframe\">\n",
       "  <thead>\n",
       "    <tr style=\"text-align: right;\">\n",
       "      <th></th>\n",
       "      <th>0</th>\n",
       "    </tr>\n",
       "  </thead>\n",
       "  <tbody>\n",
       "    <tr>\n",
       "      <th>0</th>\n",
       "      <td>1번째 줄 입니다.</td>\n",
       "    </tr>\n",
       "    <tr>\n",
       "      <th>1</th>\n",
       "      <td>2번째 줄 입니다.</td>\n",
       "    </tr>\n",
       "    <tr>\n",
       "      <th>2</th>\n",
       "      <td>3번째 줄 입니다.</td>\n",
       "    </tr>\n",
       "    <tr>\n",
       "      <th>3</th>\n",
       "      <td>4번째 줄 입니다.</td>\n",
       "    </tr>\n",
       "    <tr>\n",
       "      <th>4</th>\n",
       "      <td>5번째 줄 입니다.</td>\n",
       "    </tr>\n",
       "  </tbody>\n",
       "</table>\n",
       "</div>"
      ],
      "text/plain": [
       "             0\n",
       "0   1번째 줄 입니다.\n",
       "1   2번째 줄 입니다.\n",
       "2   3번째 줄 입니다.\n",
       "3   4번째 줄 입니다.\n",
       "4   5번째 줄 입니다."
      ]
     },
     "execution_count": 14,
     "metadata": {},
     "output_type": "execute_result"
    }
   ],
   "source": [
    "txtSample = pd.read_table(\"./Data/Sample.txt\")\n",
    "txtSample.head()    # 5줄만 보여줌"
   ]
  },
  {
   "cell_type": "code",
   "execution_count": null,
   "metadata": {},
   "outputs": [],
   "source": []
  }
 ],
 "metadata": {
  "kernelspec": {
   "display_name": "tensorflow",
   "language": "python",
   "name": "python3"
  },
  "language_info": {
   "codemirror_mode": {
    "name": "ipython",
    "version": 3
   },
   "file_extension": ".py",
   "mimetype": "text/x-python",
   "name": "python",
   "nbconvert_exporter": "python",
   "pygments_lexer": "ipython3",
   "version": "3.9.13 | packaged by conda-forge | (main, May 27 2022, 17:01:00) \n[Clang 13.0.1 ]"
  },
  "orig_nbformat": 4,
  "vscode": {
   "interpreter": {
    "hash": "75f222f31d8106ed7e1b9fc13cea3e71535ba3320824bf9a24772f72bb580fe7"
   }
  }
 },
 "nbformat": 4,
 "nbformat_minor": 2
}

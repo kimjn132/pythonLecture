{
 "cells": [
  {
   "attachments": {},
   "cell_type": "markdown",
   "metadata": {},
   "source": [
    "### 예외처리"
   ]
  },
  {
   "cell_type": "code",
   "execution_count": 3,
   "metadata": {},
   "outputs": [],
   "source": [
    "# Example 01 - 에러 처리\n",
    "try:\n",
    "    4 / 0   #Error\n",
    "# except ZeroDivisionError as e:\n",
    "#     print(e)    #print(\"Error\")\n",
    "except :\n",
    "    # print(\"Error\")\n",
    "    pass    #scrapy할 때 사용(로직에서는 X)"
   ]
  },
  {
   "cell_type": "code",
   "execution_count": 8,
   "metadata": {},
   "outputs": [
    {
     "name": "stdout",
     "output_type": "stream",
     "text": [
      "1번째 줄 입니다. \n",
      "2번째 줄 입니다. \n",
      "3번째 줄 입니다. \n",
      "4번째 줄 입니다. \n",
      "5번째 줄 입니다. \n",
      "6번째 줄 입니다. \n",
      "7번째 줄 입니다. \n",
      "8번째 줄 입니다. \n",
      "9번째 줄 입니다. \n",
      "10번째 줄 입니다. \n",
      "\n"
     ]
    }
   ],
   "source": [
    "# Example 02 - 파일 불러올 때\n",
    "try:\n",
    "    f = open(\"./Data/new2.txt\", \"r\")\n",
    "except: #에러일 때\n",
    "    print(\"File not found\")\n",
    "else:   #정상일 때\n",
    "    data = f.read()\n",
    "    print(data)\n",
    "    f.close()"
   ]
  },
  {
   "cell_type": "code",
   "execution_count": null,
   "metadata": {},
   "outputs": [],
   "source": []
  }
 ],
 "metadata": {
  "kernelspec": {
   "display_name": "tensorflow",
   "language": "python",
   "name": "python3"
  },
  "language_info": {
   "codemirror_mode": {
    "name": "ipython",
    "version": 3
   },
   "file_extension": ".py",
   "mimetype": "text/x-python",
   "name": "python",
   "nbconvert_exporter": "python",
   "pygments_lexer": "ipython3",
   "version": "3.9.13 | packaged by conda-forge | (main, May 27 2022, 17:01:00) \n[Clang 13.0.1 ]"
  },
  "orig_nbformat": 4,
  "vscode": {
   "interpreter": {
    "hash": "75f222f31d8106ed7e1b9fc13cea3e71535ba3320824bf9a24772f72bb580fe7"
   }
  }
 },
 "nbformat": 4,
 "nbformat_minor": 2
}

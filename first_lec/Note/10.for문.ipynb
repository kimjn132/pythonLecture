{
 "cells": [
  {
   "attachments": {},
   "cell_type": "markdown",
   "metadata": {},
   "source": [
    "### range 함수"
   ]
  },
  {
   "attachments": {},
   "cell_type": "markdown",
   "metadata": {},
   "source": [
    "- for i in len(배열변수) : 자바식\n",
    "- for score in scores : 파이썬식"
   ]
  },
  {
   "cell_type": "code",
   "execution_count": 2,
   "metadata": {},
   "outputs": [
    {
     "data": {
      "text/plain": [
       "[1, 2, 3, 4, 5, 6, 7, 8, 9, 10]"
      ]
     },
     "execution_count": 2,
     "metadata": {},
     "output_type": "execute_result"
    }
   ],
   "source": [
    "var = range(1, 11)\n",
    "list(var)"
   ]
  },
  {
   "cell_type": "code",
   "execution_count": 3,
   "metadata": {},
   "outputs": [
    {
     "data": {
      "text/plain": [
       "[0, 2, 4, 6, 8, 10]"
      ]
     },
     "execution_count": 3,
     "metadata": {},
     "output_type": "execute_result"
    }
   ],
   "source": [
    "# 0 ~ 10까지의 짝수\n",
    "list(range(0, 11, 2))"
   ]
  },
  {
   "cell_type": "code",
   "execution_count": 9,
   "metadata": {},
   "outputs": [
    {
     "data": {
      "text/plain": [
       "[10, 8, 6, 4, 2]"
      ]
     },
     "execution_count": 9,
     "metadata": {},
     "output_type": "execute_result"
    }
   ],
   "source": [
    "# 10 ~ 1까지의 짝수 출력\n",
    "list(range(10, 0, -2))"
   ]
  },
  {
   "cell_type": "code",
   "execution_count": 10,
   "metadata": {},
   "outputs": [
    {
     "data": {
      "text/plain": [
       "[0, 1, 2, 3, 4]"
      ]
     },
     "execution_count": 10,
     "metadata": {},
     "output_type": "execute_result"
    }
   ],
   "source": [
    "list(range(5))"
   ]
  },
  {
   "cell_type": "code",
   "execution_count": 169,
   "metadata": {},
   "outputs": [],
   "source": [
    "import math\n",
    "import numpy as np"
   ]
  },
  {
   "cell_type": "code",
   "execution_count": 15,
   "metadata": {},
   "outputs": [
    {
     "name": "stdout",
     "output_type": "stream",
     "text": [
      "0\n",
      "1\n",
      "2\n",
      "3\n",
      "4\n"
     ]
    }
   ],
   "source": [
    "for i in range(5):\n",
    "    print(i)"
   ]
  },
  {
   "cell_type": "code",
   "execution_count": 76,
   "metadata": {},
   "outputs": [
    {
     "name": "stdout",
     "output_type": "stream",
     "text": [
      "    1 : 1.0000000000\n",
      "    2 : 1.4142135624\n",
      "    3 : 1.7320508076\n",
      "    4 : 2.0000000000\n",
      "    5 : 2.2360679775\n",
      "    6 : 2.4494897428\n",
      "    7 : 2.6457513111\n",
      "    8 : 2.8284271247\n",
      "    9 : 3.0000000000\n",
      "   10 : 3.1622776602\n"
     ]
    }
   ],
   "source": [
    "#1에서 10까지의 제곱근을 출력하기\n",
    "\n",
    "for i in list(range(1,11)):\n",
    "    num1 = i\n",
    "    sq = math.sqrt(i)\n",
    "    print(\"{0:>5} : {1:0.10f}\".format(num1, sq))\n",
    "          \n",
    "#\"{0:>10}\".format('hi')\n",
    "#print(\"%0.4f\"%3.14159)"
   ]
  },
  {
   "cell_type": "code",
   "execution_count": 74,
   "metadata": {},
   "outputs": [
    {
     "name": "stdout",
     "output_type": "stream",
     "text": [
      "aaaa : \n",
      "bbbb\n"
     ]
    }
   ],
   "source": [
    "print(\"aaaa :\", end=\" \")    #end = \" \" : 가로 정렬\n",
    "print(\"\")   # \\n\n",
    "print(\"bbbb\")"
   ]
  },
  {
   "cell_type": "code",
   "execution_count": 77,
   "metadata": {},
   "outputs": [
    {
     "name": "stdout",
     "output_type": "stream",
     "text": [
      " 2  4  6  8 10 12 14 16 18  \n",
      " 3  6  9 12 15 18 21 24 27  \n",
      " 4  8 12 16 20 24 28 32 36  \n",
      " 5 10 15 20 25 30 35 40 45  \n",
      " 6 12 18 24 30 36 42 48 54  \n",
      " 7 14 21 28 35 42 49 56 63  \n",
      " 8 16 24 32 40 48 56 64 72  \n",
      " 9 18 27 36 45 54 63 72 81  \n"
     ]
    }
   ],
   "source": [
    "\n",
    "for i in list(range(2, 10)):\n",
    "    for j in list(range(1, 10)):\n",
    "        gugu = i*j\n",
    "        print(\"{0:>2}\".format(gugu), end=\" \")\n",
    "    print(\" \")"
   ]
  },
  {
   "cell_type": "code",
   "execution_count": 78,
   "metadata": {},
   "outputs": [
    {
     "name": "stdout",
     "output_type": "stream",
     "text": [
      "one\n",
      "two\n",
      "three\n"
     ]
    }
   ],
   "source": [
    "# for 문에 List 사용하기\n",
    "lists = ['one', 'two', 'three']\n",
    "\n",
    "for list in lists:\n",
    "    print(list)"
   ]
  },
  {
   "cell_type": "code",
   "execution_count": 80,
   "metadata": {},
   "outputs": [
    {
     "name": "stdout",
     "output_type": "stream",
     "text": [
      "1 : 2\n",
      "3 : 4\n",
      "5 : 6\n"
     ]
    }
   ],
   "source": [
    "# for문에 Tuple 사용하기 \n",
    "vars = [(1,2), (3,4), (5,6)]\n",
    "for first, last in vars:\n",
    "    print(first, \":\", last)"
   ]
  },
  {
   "cell_type": "code",
   "execution_count": 95,
   "metadata": {},
   "outputs": [
    {
     "name": "stdout",
     "output_type": "stream",
     "text": [
      "1의 학생은 90이므로 합격 입니다.\n",
      "2의 학생은 25이므로 불합격 입니다.\n",
      "3의 학생은 67이므로 합격 입니다.\n",
      "4의 학생은 45이므로 불합격 입니다.\n",
      "5의 학생은 80이므로 합격 입니다.\n"
     ]
    }
   ],
   "source": [
    "scores = [90, 25, 67, 45, 80]\n",
    "student = 0\n",
    "\n",
    "for score in scores:\n",
    "    student += 1 \n",
    "    grade = \"합격\" if score > 60 else \"불합격\"\n",
    "    print(f\"{student}의 학생은 {score}이므로 {grade} 입니다.\")\n",
    "\n",
    "#합격만 나오게 하기!! -> 아래 했음 "
   ]
  },
  {
   "cell_type": "code",
   "execution_count": 114,
   "metadata": {},
   "outputs": [
    {
     "name": "stdout",
     "output_type": "stream",
     "text": [
      "학급의 평균 점수는 61.40 입니다.\n",
      "1의 학생은 90이므로 합격 입니다.\n",
      "2의 학생은 25이므로 불합격 입니다.\n",
      "3의 학생은 67이므로 합격 입니다.\n",
      "4의 학생은 45이므로 불합격 입니다.\n",
      "5의 학생은 80이므로 합격 입니다.\n"
     ]
    }
   ],
   "source": [
    "scores = [90, 25, 67, 45, 80]\n",
    "student = 0\n",
    "\n",
    "\n",
    "avg = np.mean(scores)\n",
    "\n",
    "print(\"학급의 평균 점수는 {0:0.2f} 입니다.\".format(avg))\n",
    "\n",
    "while scores:\n",
    "    student += 1\n",
    "    score = scores.pop(0)\n",
    "    grade = \"합격\" if score > 60 else \"불합격\"\n",
    "    print(f\"{student}의 학생은 {score}이므로 {grade} 입니다.\")"
   ]
  },
  {
   "cell_type": "code",
   "execution_count": null,
   "metadata": {},
   "outputs": [],
   "source": [
    "# 리스트를 읽어서 리스트 값에 5를 곱한 새로운 리스트 만들기\n",
    "# future engineering(특성공학..?)"
   ]
  },
  {
   "cell_type": "code",
   "execution_count": 115,
   "metadata": {},
   "outputs": [
    {
     "name": "stdout",
     "output_type": "stream",
     "text": [
      "[5, 10, 15, 20]\n"
     ]
    }
   ],
   "source": [
    "var01 = [1,2,3,4]\n",
    "var02 = []\n",
    "\n",
    "for i in var01:\n",
    "    var02.append(i*5)\n",
    "    \n",
    "print(var02)"
   ]
  },
  {
   "cell_type": "code",
   "execution_count": null,
   "metadata": {},
   "outputs": [],
   "source": [
    "# 총 5명의 학생이 시험을 보았는데 시험점수가 60점을 넘으면 합격이고 그렇지 않으면 불합격이다.\n",
    "# 합격인 학생들의 번호만 새로운 list를 생성하여 출력하기\n",
    "# 다시 하기"
   ]
  },
  {
   "cell_type": "code",
   "execution_count": 149,
   "metadata": {},
   "outputs": [
    {
     "name": "stdout",
     "output_type": "stream",
     "text": [
      "1의 학생은 90이므로 합격 입니다.\n",
      "3의 학생은 67이므로 합격 입니다.\n",
      "5의 학생은 80이므로 합격 입니다.\n"
     ]
    }
   ],
   "source": [
    "scores = [90, 25, 67, 45, 80]\n",
    "student = 0\n",
    "accept = []\n",
    "\n",
    "while scores:\n",
    "    student += 1\n",
    "    score = scores.pop(0)\n",
    "    grade = \"합격\" if score > 60 else \"불합격\"\n",
    "    if grade == \"불합격\":\n",
    "        continue\n",
    "    print(f\"{student}의 학생은 {score}이므로 {grade} 입니다.\")\n",
    "    \n",
    "    accept.append(student)\n",
    "    "
   ]
  },
  {
   "cell_type": "code",
   "execution_count": 127,
   "metadata": {},
   "outputs": [
    {
     "data": {
      "text/plain": [
       "[1, 2, 3, 4, 5, 6]"
      ]
     },
     "execution_count": 127,
     "metadata": {},
     "output_type": "execute_result"
    }
   ],
   "source": [
    "var = [1,2,3,4]\n",
    "var.extend([5,6])   #append는 한개씩 넣고, extend는 여러개씩 배열에 데이터들을 넣을 수 있다.\n",
    "var"
   ]
  },
  {
   "attachments": {},
   "cell_type": "markdown",
   "metadata": {},
   "source": [
    "### 문장과 단어 추출"
   ]
  },
  {
   "cell_type": "code",
   "execution_count": 140,
   "metadata": {},
   "outputs": [],
   "source": [
    "string = \"\"\"나는 홍길동 입니다.\n",
    "주소는 서울시 입니다.\n",
    "나이는 35세 입니다.\"\"\""
   ]
  },
  {
   "cell_type": "code",
   "execution_count": 141,
   "metadata": {},
   "outputs": [],
   "source": [
    "sents = []\n",
    "words = []"
   ]
  },
  {
   "cell_type": "code",
   "execution_count": 142,
   "metadata": {},
   "outputs": [],
   "source": [
    "# 문단 -> 문장\n",
    "for sen in string.split(sep=\"\\n\"):\n",
    "    sents.append(sen)\n",
    "    #문장 -> 단어\n",
    "    for word in sen.split():\n",
    "        words.append(word)"
   ]
  },
  {
   "cell_type": "code",
   "execution_count": 151,
   "metadata": {},
   "outputs": [
    {
     "name": "stdout",
     "output_type": "stream",
     "text": [
      "문장 : ['나는 홍길동 입니다.', '주소는 서울시 입니다.', '나이는 35세 입니다.']\n",
      "문장 수: 3\n",
      "단어 : ['나는', '홍길동', '입니다.', '주소는', '서울시', '입니다.', '나이는', '35세', '입니다.']\n",
      "단어 수 : 9\n"
     ]
    }
   ],
   "source": [
    "print('문장 :', sents)\n",
    "print('문장 수:', len(sents))\n",
    "print('단어 :', words)\n",
    "print('단어 수 :', len(words))"
   ]
  },
  {
   "attachments": {},
   "cell_type": "markdown",
   "metadata": {},
   "source": [
    "### Python의 Listed For문"
   ]
  },
  {
   "cell_type": "code",
   "execution_count": 153,
   "metadata": {},
   "outputs": [
    {
     "name": "stdout",
     "output_type": "stream",
     "text": [
      "[5, 10, 15, 20]\n"
     ]
    }
   ],
   "source": [
    "var01 = [1,2,3,4]\n",
    "var02 = [i * 5 for i in var01]\n",
    "print(var02)"
   ]
  },
  {
   "cell_type": "code",
   "execution_count": 154,
   "metadata": {},
   "outputs": [
    {
     "name": "stdout",
     "output_type": "stream",
     "text": [
      "[10, 20]\n"
     ]
    }
   ],
   "source": [
    "var02 = [i * 5 for i in var01 if i % 2 == 0]\n",
    "print(var02)"
   ]
  },
  {
   "cell_type": "code",
   "execution_count": 163,
   "metadata": {},
   "outputs": [
    {
     "name": "stdout",
     "output_type": "stream",
     "text": [
      "[2, 4, 6, 8, 10, 12, 14, 16, 18, 3, 6, 9, 12, 15, 18, 21, 24, 27, 4, 8, 12, 16, 20, 24, 28, 32, 36, 5, 10, 15, 20, 25, 30, 35, 40, 45, 6, 12, 18, 24, 30, 36, 42, 48, 54, 7, 14, 21, 28, 35, 42, 49, 56, 63, 8, 16, 24, 32, 40, 48, 56, 64, 72, 9, 18, 27, 36, 45, 54, 63, 72, 81]\n"
     ]
    }
   ],
   "source": [
    "# 구구단 결과만 리스트로 만들기\n",
    "var03 = [i*j for i in range(2, 10) for j in range(1, 10)]\n",
    "print(var03)"
   ]
  },
  {
   "cell_type": "code",
   "execution_count": 172,
   "metadata": {},
   "outputs": [
    {
     "name": "stdout",
     "output_type": "stream",
     "text": [
      "[90, 67, 80]\n",
      "합격한 점수의 평균은 79.0 입니다.\n"
     ]
    }
   ],
   "source": [
    "# 60점 이상의 학생 점수만 List로 만들어 평균 구하기\n",
    "scores = [90, 25, 67, 45, 80]\n",
    "\n",
    "var04 = [i for i in scores if i > 60]\n",
    "print(var04)\n",
    "result = np.mean(var04)\n",
    "print(f\"합격한 점수의 평균은 {result} 입니다.\")"
   ]
  },
  {
   "cell_type": "code",
   "execution_count": null,
   "metadata": {},
   "outputs": [],
   "source": []
  }
 ],
 "metadata": {
  "kernelspec": {
   "display_name": "tensorflow",
   "language": "python",
   "name": "python3"
  },
  "language_info": {
   "codemirror_mode": {
    "name": "ipython",
    "version": 3
   },
   "file_extension": ".py",
   "mimetype": "text/x-python",
   "name": "python",
   "nbconvert_exporter": "python",
   "pygments_lexer": "ipython3",
   "version": "3.9.13 | packaged by conda-forge | (main, May 27 2022, 17:01:00) \n[Clang 13.0.1 ]"
  },
  "orig_nbformat": 4,
  "vscode": {
   "interpreter": {
    "hash": "75f222f31d8106ed7e1b9fc13cea3e71535ba3320824bf9a24772f72bb580fe7"
   }
  }
 },
 "nbformat": 4,
 "nbformat_minor": 2
}

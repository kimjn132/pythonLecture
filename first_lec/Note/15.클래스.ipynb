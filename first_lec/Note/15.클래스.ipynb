{
 "cells": [
  {
   "cell_type": "code",
   "execution_count": 16,
   "metadata": {},
   "outputs": [],
   "source": [
    "class Services:\n",
    "    secret = \"임금님 귀는 당나귀 귀다!\"\n",
    "    \n",
    "    # def setName(self, name):\n",
    "    #     #아래 함수에도 사용하려면 self 붙여야 됨(java로 치면 전역변수처럼 생각하면 됨)\n",
    "    #     self.name = name\n",
    "    \n",
    "    #생성자로 사용(setName 대신)\n",
    "    def __init__(self, name):\n",
    "        self.name = name\n",
    "    \n",
    "    #self 키워드가 없으면 함수가 실행이 안됨\n",
    "    def sum(self, num1, num2):\n",
    "        result = num1 + num2\n",
    "        print(\"%s님! %d + %d = %d 입니다.\"%(self.name, num1, num2, result))"
   ]
  },
  {
   "cell_type": "code",
   "execution_count": 17,
   "metadata": {},
   "outputs": [
    {
     "name": "stdout",
     "output_type": "stream",
     "text": [
      "관우님! 2 + 3 = 5 입니다.\n"
     ]
    }
   ],
   "source": [
    "# instance01 = Services()\n",
    "# print(instance01.secret)\n",
    "# instance01.setName(\"유비\")\n",
    "# instance01.sum(2,3)\n",
    "\n",
    "instance01 = Services('관우')\n",
    "instance01.secret\n",
    "instance01.sum(2,3)"
   ]
  },
  {
   "cell_type": "code",
   "execution_count": 39,
   "metadata": {},
   "outputs": [],
   "source": [
    "class Calculate:\n",
    "    \n",
    "    # def setData(self, data1):\n",
    "    #     #아래 함수에도 사용하려면 self 붙여야 됨(java로 치면 전역변수처럼 생각하면 됨)\n",
    "    #     self.data = data1\n",
    "    \n",
    "    #생성자로 사용(setName 대신)\n",
    "    def __init__(self, data1, data2):\n",
    "        self.data1 = data1\n",
    "        self.data2 = data2\n",
    "    \n",
    "    #self 키워드가 없으면 함수가 실행이 안됨\n",
    "    def sum(self):\n",
    "        return self.data1 + self.data2\n",
    "        \n",
    "    def mul(self):\n",
    "        return self.data1 * self.data2\n",
    "    \n",
    "    def sub(self):\n",
    "        return self.data1 - self.data2\n",
    "        \n",
    "    def div(self):\n",
    "        return self.data1 / self.data2\n",
    "    "
   ]
  },
  {
   "cell_type": "code",
   "execution_count": 42,
   "metadata": {},
   "outputs": [
    {
     "name": "stdout",
     "output_type": "stream",
     "text": [
      "덧셈:  6\n",
      "곱셈:  8\n",
      "뺄셈:  2\n",
      "나눗셈:  2.0\n"
     ]
    }
   ],
   "source": [
    "calc01 = Calculate(4, 2)\n",
    "# instance01.setData(4, 2)\n",
    "print('덧셈: ',calc01.sum())\n",
    "print('곱셈: ',calc01.mul())\n",
    "print('뺄셈: ',calc01.sub())\n",
    "print('나눗셈: ',calc01.div())"
   ]
  },
  {
   "cell_type": "code",
   "execution_count": null,
   "metadata": {},
   "outputs": [],
   "source": []
  }
 ],
 "metadata": {
  "kernelspec": {
   "display_name": "tensorflow",
   "language": "python",
   "name": "python3"
  },
  "language_info": {
   "codemirror_mode": {
    "name": "ipython",
    "version": 3
   },
   "file_extension": ".py",
   "mimetype": "text/x-python",
   "name": "python",
   "nbconvert_exporter": "python",
   "pygments_lexer": "ipython3",
   "version": "3.9.13 | packaged by conda-forge | (main, May 27 2022, 17:01:00) \n[Clang 13.0.1 ]"
  },
  "orig_nbformat": 4,
  "vscode": {
   "interpreter": {
    "hash": "75f222f31d8106ed7e1b9fc13cea3e71535ba3320824bf9a24772f72bb580fe7"
   }
  }
 },
 "nbformat": 4,
 "nbformat_minor": 2
}

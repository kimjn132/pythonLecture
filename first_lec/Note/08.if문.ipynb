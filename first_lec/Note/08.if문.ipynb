{
 "cells": [
  {
   "cell_type": "code",
   "execution_count": 1,
   "metadata": {},
   "outputs": [],
   "source": [
    "from random import randint"
   ]
  },
  {
   "cell_type": "code",
   "execution_count": 6,
   "metadata": {},
   "outputs": [
    {
     "name": "stdout",
     "output_type": "stream",
     "text": [
      "x is greater than 50\n",
      "--- End ---\n"
     ]
    }
   ],
   "source": [
    "x = randint(1, 100)\n",
    "\n",
    "if x > 50:\n",
    "    print('x is greater than 50')\n",
    "else:\n",
    "    print(\"x is less or equal to 50\")\n",
    "    \n",
    "print(\"--- End ---\")"
   ]
  },
  {
   "cell_type": "code",
   "execution_count": 20,
   "metadata": {},
   "outputs": [
    {
     "name": "stdout",
     "output_type": "stream",
     "text": [
      "x는 홀수입니다.\n",
      "--- End ---\n"
     ]
    }
   ],
   "source": [
    "# 홀짝수 구분\n",
    "x = 9\n",
    "\n",
    "if x%2==0:\n",
    "    print('x는 짝수입니다.')\n",
    "else:\n",
    "    print('x는 홀수입니다.')\n",
    "    \n",
    "print(\"--- End ---\")"
   ]
  },
  {
   "cell_type": "code",
   "execution_count": 23,
   "metadata": {},
   "outputs": [],
   "source": [
    "x = int(input(\"숫자를 입력하세요: \"))\n"
   ]
  },
  {
   "cell_type": "code",
   "execution_count": 16,
   "metadata": {},
   "outputs": [
    {
     "name": "stdout",
     "output_type": "stream",
     "text": [
      "x는 홀수입니다.\n",
      "--- End ---\n"
     ]
    }
   ],
   "source": [
    "if x%2==0:\n",
    "    print('x는 짝수입니다.')\n",
    "else:\n",
    "    print('x는 홀수입니다.')\n",
    "    \n",
    "print(\"--- End ---\")"
   ]
  },
  {
   "cell_type": "code",
   "execution_count": 24,
   "metadata": {},
   "outputs": [
    {
     "name": "stdout",
     "output_type": "stream",
     "text": [
      "x is less than 50.\n",
      "--- End ---\n"
     ]
    }
   ],
   "source": [
    "x = randint(1, 100)\n",
    "\n",
    "if x > 50:\n",
    "    print('x is greater than 50.')\n",
    "elif x < 50:\n",
    "    print(\"x is less than 50.\")\n",
    "else:\n",
    "    print('x is equal to 50.')\n",
    "    \n",
    "print(\"--- End ---\")"
   ]
  },
  {
   "cell_type": "code",
   "execution_count": 83,
   "metadata": {},
   "outputs": [],
   "source": [
    "# 사용자로부터 점수를 입력받아 학점 계산하기\n",
    "\n",
    "t = int(input(\"학점을 입력하세요: \"))\n"
   ]
  },
  {
   "cell_type": "code",
   "execution_count": 45,
   "metadata": {},
   "outputs": [
    {
     "name": "stdout",
     "output_type": "stream",
     "text": [
      "점수는 60이고 D학점 입니다.\n"
     ]
    }
   ],
   "source": [
    "if x >= 90:\n",
    "    print(f'점수는 {x}이고 A학점 입니다.')\n",
    "elif x >= 80:\n",
    "    print(f'점수는 {x}이고 B학점 입니다.')\n",
    "elif x >= 70:\n",
    "    print(f'점수는 {x}이고 C학점 입니다.')\n",
    "elif x >= 60:\n",
    "    print(f'점수는 {x}이고 D학점 입니다.')\n",
    "else:\n",
    "    print(f'점수는 {x}이고 F학점 입니다.')"
   ]
  },
  {
   "cell_type": "code",
   "execution_count": 50,
   "metadata": {},
   "outputs": [],
   "source": [
    "if x >= 90:\n",
    "    y = 'A'\n",
    "elif x >= 80:\n",
    "    y = 'B'\n",
    "elif x >= 70:\n",
    "    y = 'C'\n",
    "elif x >= 60:\n",
    "    y = 'D'\n",
    "else:\n",
    "    y = 'F'"
   ]
  },
  {
   "cell_type": "code",
   "execution_count": 84,
   "metadata": {},
   "outputs": [
    {
     "name": "stdout",
     "output_type": "stream",
     "text": [
      "점수는 45이고 F학점 입니다.\n"
     ]
    }
   ],
   "source": [
    "x = [90, 80, 70, 60, 0]\n",
    "y = ['A', 'B', 'C', 'D', 'F']\n",
    "for i in range(len(x)):\n",
    "    if t >= x[i]:\n",
    "        print(f'점수는 {t}이고 {y[i]}학점 입니다.')\n",
    "        break"
   ]
  },
  {
   "attachments": {},
   "cell_type": "markdown",
   "metadata": {},
   "source": [
    "#### 사용자로부터 점수를 입력받아 학점 계산하기\n",
    "#### 사용자로부터 숫자를 입력받아 5의 배수이면 제곱근을 구하고 아니면 입력한 수를 출력하기."
   ]
  },
  {
   "cell_type": "code",
   "execution_count": 121,
   "metadata": {},
   "outputs": [],
   "source": [
    "t1 = int(input(\"점수를 입력하세요: \"))"
   ]
  },
  {
   "cell_type": "code",
   "execution_count": 85,
   "metadata": {},
   "outputs": [],
   "source": [
    "import math"
   ]
  },
  {
   "cell_type": "code",
   "execution_count": 111,
   "metadata": {},
   "outputs": [
    {
     "name": "stdout",
     "output_type": "stream",
     "text": [
      "7.0710678118654755\n"
     ]
    }
   ],
   "source": [
    "if t1 % 5 == 0:\n",
    "    print(math.sqrt(t1))\n",
    "else:\n",
    "    print(t1)"
   ]
  },
  {
   "attachments": {},
   "cell_type": "markdown",
   "metadata": {},
   "source": [
    "### 삼항 연산자"
   ]
  },
  {
   "cell_type": "code",
   "execution_count": 120,
   "metadata": {},
   "outputs": [
    {
     "name": "stdout",
     "output_type": "stream",
     "text": [
      "5\n"
     ]
    }
   ],
   "source": [
    "num = 3\n",
    "result = 0\n",
    "\n",
    "result = num * 2 if num >= 5 else num + 2\n",
    "print(result)"
   ]
  },
  {
   "cell_type": "code",
   "execution_count": 125,
   "metadata": {},
   "outputs": [
    {
     "name": "stdout",
     "output_type": "stream",
     "text": [
      "2.23606797749979\n"
     ]
    }
   ],
   "source": [
    "t1 = int(input(\"숫자를 입력하세요: \"))\n",
    "\n",
    "result1 = math.sqrt(t1) if t1 % 5 == 0 else t1\n",
    "print(result1)"
   ]
  },
  {
   "attachments": {},
   "cell_type": "markdown",
   "metadata": {},
   "source": [
    "### listed for문"
   ]
  },
  {
   "cell_type": "code",
   "execution_count": 139,
   "metadata": {},
   "outputs": [
    {
     "name": "stdout",
     "output_type": "stream",
     "text": [
      "[5, 10, 15, 20]\n"
     ]
    }
   ],
   "source": [
    "var01 = [1,2,3,4]\n",
    "var02 = [i * 5 for i in var01]\n",
    "print(var02)        #[5, 10, 15, 20]"
   ]
  },
  {
   "cell_type": "code",
   "execution_count": 140,
   "metadata": {},
   "outputs": [],
   "source": [
    "# var01중 짝수인 경우에만 5를 곱하여 리스트 만들기\n",
    "var03 = [i * 5 for i in var01 if i % 2 == 0]"
   ]
  },
  {
   "cell_type": "code",
   "execution_count": 141,
   "metadata": {},
   "outputs": [
    {
     "name": "stdout",
     "output_type": "stream",
     "text": [
      "[10, 20]\n"
     ]
    }
   ],
   "source": [
    "print(var03)    #[10, 20]"
   ]
  },
  {
   "cell_type": "code",
   "execution_count": 152,
   "metadata": {},
   "outputs": [
    {
     "name": "stdout",
     "output_type": "stream",
     "text": [
      "현금으로 택시 타기\n",
      "-----End-----\n"
     ]
    }
   ],
   "source": [
    "pocket = ['paper', 'smartphone', 'money']\n",
    "card = 1\n",
    "\n",
    "# 배열 값에 따라 출력값이 다름\n",
    "if 'money' in pocket:\n",
    "    print('현금으로 택시 타기')\n",
    "elif card:\n",
    "    print(\"신용카드를 사용한 택시 타기\")\n",
    "else:\n",
    "    print(\"튼튼한 다리를 사용!\")\n",
    "    \n",
    "print('-----End-----')"
   ]
  },
  {
   "cell_type": "code",
   "execution_count": 151,
   "metadata": {},
   "outputs": [
    {
     "name": "stdout",
     "output_type": "stream",
     "text": [
      "택시를 타자!\n"
     ]
    }
   ],
   "source": [
    "money = 2000\n",
    "card = True\n",
    "\n",
    "if money >= 3000 or card:\n",
    "    print(\"택시를 타자!\")\n",
    "else:\n",
    "    print(\"걸어가자!\")"
   ]
  },
  {
   "cell_type": "code",
   "execution_count": null,
   "metadata": {},
   "outputs": [],
   "source": []
  }
 ],
 "metadata": {
  "kernelspec": {
   "display_name": "tensorflow",
   "language": "python",
   "name": "python3"
  },
  "language_info": {
   "codemirror_mode": {
    "name": "ipython",
    "version": 3
   },
   "file_extension": ".py",
   "mimetype": "text/x-python",
   "name": "python",
   "nbconvert_exporter": "python",
   "pygments_lexer": "ipython3",
   "version": "3.9.13"
  },
  "orig_nbformat": 4,
  "vscode": {
   "interpreter": {
    "hash": "75f222f31d8106ed7e1b9fc13cea3e71535ba3320824bf9a24772f72bb580fe7"
   }
  }
 },
 "nbformat": 4,
 "nbformat_minor": 2
}

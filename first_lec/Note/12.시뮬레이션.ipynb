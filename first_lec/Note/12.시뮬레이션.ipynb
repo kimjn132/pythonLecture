{
 "cells": [
  {
   "attachments": {},
   "cell_type": "markdown",
   "metadata": {},
   "source": [
    "### 시뮬레이션(몬테카를로 시뮬레이션)\n",
    ": 자료가 없을 경우 난수를 통해 가설 증명"
   ]
  },
  {
   "cell_type": "code",
   "execution_count": 1,
   "metadata": {},
   "outputs": [],
   "source": [
    "import random"
   ]
  },
  {
   "cell_type": "code",
   "execution_count": 7,
   "metadata": {},
   "outputs": [
    {
     "data": {
      "text/plain": [
       "6"
      ]
     },
     "execution_count": 7,
     "metadata": {},
     "output_type": "execute_result"
    }
   ],
   "source": [
    "random.randint(1, 10)"
   ]
  },
  {
   "cell_type": "code",
   "execution_count": 14,
   "metadata": {},
   "outputs": [],
   "source": [
    "def coinF(n):\n",
    "    coinFront = coinRear = 0\n",
    "    for i in range(1, n+1):\n",
    "        x = random.randint(1,2)\n",
    "        if x == 1:\n",
    "            coinFront+=1\n",
    "        else:\n",
    "            coinRear+=1\n",
    "    print(\"%7d번 시도시 동전의 앞면은 %6d번이고 동전의 뒷면은 %6d번 입니다.\"%(n, coinFront, coinRear))"
   ]
  },
  {
   "cell_type": "code",
   "execution_count": 15,
   "metadata": {},
   "outputs": [
    {
     "name": "stdout",
     "output_type": "stream",
     "text": [
      "     10번 시도시 동전의 앞면은      6번이고 동전의 뒷면은      4번 입니다.\n",
      "    100번 시도시 동전의 앞면은     44번이고 동전의 뒷면은     56번 입니다.\n",
      "   1000번 시도시 동전의 앞면은    474번이고 동전의 뒷면은    526번 입니다.\n",
      "  10000번 시도시 동전의 앞면은   4986번이고 동전의 뒷면은   5014번 입니다.\n",
      " 100000번 시도시 동전의 앞면은  49905번이고 동전의 뒷면은  50095번 입니다.\n",
      "1000000번 시도시 동전의 앞면은 500682번이고 동전의 뒷면은 499318번 입니다.\n"
     ]
    }
   ],
   "source": [
    "coinF(10)\n",
    "coinF(100)\n",
    "coinF(1000)\n",
    "coinF(10000)\n",
    "coinF(100000)\n",
    "coinF(1000000)"
   ]
  },
  {
   "cell_type": "code",
   "execution_count": null,
   "metadata": {},
   "outputs": [],
   "source": [
    "# 가위, 바위, 보 게임이 이길 확률이 같다는 것을 증명"
   ]
  },
  {
   "cell_type": "code",
   "execution_count": 33,
   "metadata": {},
   "outputs": [],
   "source": [
    "def rock(n):\n",
    "    rock = scissor = paper = 0\n",
    "    for i in range(1, n+2):\n",
    "        x = random.randint(1,3)\n",
    "        if x == 1:\n",
    "            rock+=1\n",
    "        elif x == 2:\n",
    "            scissor+=1\n",
    "        else:\n",
    "            paper+=1\n",
    "    print(\"%7d번 시도 시 바위는 %6d번이고 가위는 %6d번이고 보는 %6d 입니다.\"%(n, rock, scissor, paper))"
   ]
  },
  {
   "cell_type": "code",
   "execution_count": 34,
   "metadata": {},
   "outputs": [
    {
     "name": "stdout",
     "output_type": "stream",
     "text": [
      "     10번 시도 시 바위는      2번이고 가위는      4번이고 보는      5 입니다.\n",
      "    100번 시도 시 바위는     32번이고 가위는     37번이고 보는     32 입니다.\n",
      "   1000번 시도 시 바위는    328번이고 가위는    325번이고 보는    348 입니다.\n",
      "  10000번 시도 시 바위는   3274번이고 가위는   3398번이고 보는   3329 입니다.\n",
      " 100000번 시도 시 바위는  33419번이고 가위는  33458번이고 보는  33124 입니다.\n",
      "1000000번 시도 시 바위는 333017번이고 가위는 333499번이고 보는 333485 입니다.\n"
     ]
    }
   ],
   "source": [
    "rock(10)\n",
    "rock(100)\n",
    "rock(1000)\n",
    "rock(10000)\n",
    "rock(100000)\n",
    "rock(1000000)"
   ]
  },
  {
   "cell_type": "code",
   "execution_count": null,
   "metadata": {},
   "outputs": [],
   "source": []
  }
 ],
 "metadata": {
  "kernelspec": {
   "display_name": "tensorflow",
   "language": "python",
   "name": "python3"
  },
  "language_info": {
   "codemirror_mode": {
    "name": "ipython",
    "version": 3
   },
   "file_extension": ".py",
   "mimetype": "text/x-python",
   "name": "python",
   "nbconvert_exporter": "python",
   "pygments_lexer": "ipython3",
   "version": "3.9.13"
  },
  "orig_nbformat": 4,
  "vscode": {
   "interpreter": {
    "hash": "75f222f31d8106ed7e1b9fc13cea3e71535ba3320824bf9a24772f72bb580fe7"
   }
  }
 },
 "nbformat": 4,
 "nbformat_minor": 2
}

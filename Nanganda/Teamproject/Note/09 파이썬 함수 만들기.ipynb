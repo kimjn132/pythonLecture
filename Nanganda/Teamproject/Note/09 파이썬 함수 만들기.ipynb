{
 "cells": [
  {
   "cell_type": "code",
   "execution_count": null,
   "metadata": {},
   "outputs": [],
   "source": [
    "\"\"\"\n",
    "Create on 2023-02-10\n",
    "author : 노현석\n",
    "Description : Flutter와 Python의 AI의 예측값 보내기\n",
    "\"\"\"\n",
    "\n",
    "from flask import Flask, jsonify, render_template, request\n",
    "import joblib\n",
    "\n",
    "app = Flask(__name__)\n",
    "\n",
    "@app.route(\"/pcos\")\n",
    "def pcos():\n",
    "    sepalLength = float(request.args.get(\"sepalLength\"))\n",
    "    sepalWidth = float(request.args.get(\"sepalWidth\"))\n",
    "    petalLength = float(request.args.get(\"petalLength\"))\n",
    "    petalWidth = float(request.args.get(\"petalWidth\"))\n",
    "    petalWidth = float(request.args.get(\"petalWidth\"))\n",
    "    petalWidth = float(request.args.get(\"petalWidth\"))\n",
    "    petalWidth = float(request.args.get(\"petalWidth\"))\n",
    "    petalWidth = float(request.args.get(\"petalWidth\"))\n",
    "    petalWidth = float(request.args.get(\"petalWidth\"))\n",
    "\n",
    "    clf = joblib.load(\"./lr_PCOS.h5\")\n",
    "    pre = clf.predict([[sepalLength,sepalWidth,petalLength,petalWidth]])\n",
    "\n",
    "    return jsonify({\"result\":pre[0][5:]})\n",
    "\n",
    "if __name__ == \"__main__\":\n",
    "    app.run(host=\"127.0.0.1\", port = 5000, debug=True)"
   ]
  },
  {
   "attachments": {},
   "cell_type": "markdown",
   "metadata": {},
   "source": [
    "' Age (yrs)','Pulse rate(bpm) ','Cycle length(days)','No. of aborptions','Weight gain(Y/N)','hair growth(Y/N)','Skin darkening (Y/N)','Pimples(Y/N)','Fast food (Y/N)'"
   ]
  }
 ],
 "metadata": {
  "kernelspec": {
   "display_name": "base",
   "language": "python",
   "name": "python3"
  },
  "language_info": {
   "name": "python",
   "version": "3.9.13"
  },
  "orig_nbformat": 4,
  "vscode": {
   "interpreter": {
    "hash": "45e9faba6d136458d32a029f00b7a2ef346b3546525e3f790d5222a6141d7161"
   }
  }
 },
 "nbformat": 4,
 "nbformat_minor": 2
}

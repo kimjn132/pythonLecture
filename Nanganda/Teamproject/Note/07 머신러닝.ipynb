{
 "cells": [
  {
   "cell_type": "code",
   "execution_count": 871,
   "metadata": {},
   "outputs": [],
   "source": [
    "# 오류 무시\n",
    "import warnings\n",
    "warnings.filterwarnings('ignore')"
   ]
  },
  {
   "attachments": {},
   "cell_type": "markdown",
   "metadata": {},
   "source": [
    "# 머신러닝 돌려보기"
   ]
  },
  {
   "cell_type": "code",
   "execution_count": 872,
   "metadata": {},
   "outputs": [
    {
     "data": {
      "text/html": [
       "<div>\n",
       "<style scoped>\n",
       "    .dataframe tbody tr th:only-of-type {\n",
       "        vertical-align: middle;\n",
       "    }\n",
       "\n",
       "    .dataframe tbody tr th {\n",
       "        vertical-align: top;\n",
       "    }\n",
       "\n",
       "    .dataframe thead th {\n",
       "        text-align: right;\n",
       "    }\n",
       "</style>\n",
       "<table border=\"1\" class=\"dataframe\">\n",
       "  <thead>\n",
       "    <tr style=\"text-align: right;\">\n",
       "      <th></th>\n",
       "      <th>PCOS</th>\n",
       "      <th>Age</th>\n",
       "      <th>Pulse rate</th>\n",
       "      <th>Cycle length</th>\n",
       "      <th>aborptions</th>\n",
       "      <th>Weight gain</th>\n",
       "      <th>hair growth</th>\n",
       "      <th>Skin darkening</th>\n",
       "      <th>Pimples</th>\n",
       "      <th>Fast food</th>\n",
       "    </tr>\n",
       "  </thead>\n",
       "  <tbody>\n",
       "    <tr>\n",
       "      <th>0</th>\n",
       "      <td>0.0</td>\n",
       "      <td>28.0</td>\n",
       "      <td>78.0</td>\n",
       "      <td>5.0</td>\n",
       "      <td>0.0</td>\n",
       "      <td>0.0</td>\n",
       "      <td>0.0</td>\n",
       "      <td>0.0</td>\n",
       "      <td>0.0</td>\n",
       "      <td>1.0</td>\n",
       "    </tr>\n",
       "    <tr>\n",
       "      <th>1</th>\n",
       "      <td>0.0</td>\n",
       "      <td>36.0</td>\n",
       "      <td>74.0</td>\n",
       "      <td>5.0</td>\n",
       "      <td>0.0</td>\n",
       "      <td>0.0</td>\n",
       "      <td>0.0</td>\n",
       "      <td>0.0</td>\n",
       "      <td>0.0</td>\n",
       "      <td>0.0</td>\n",
       "    </tr>\n",
       "    <tr>\n",
       "      <th>2</th>\n",
       "      <td>1.0</td>\n",
       "      <td>33.0</td>\n",
       "      <td>72.0</td>\n",
       "      <td>5.0</td>\n",
       "      <td>0.0</td>\n",
       "      <td>0.0</td>\n",
       "      <td>0.0</td>\n",
       "      <td>0.0</td>\n",
       "      <td>1.0</td>\n",
       "      <td>1.0</td>\n",
       "    </tr>\n",
       "  </tbody>\n",
       "</table>\n",
       "</div>"
      ],
      "text/plain": [
       "   PCOS   Age  Pulse rate  Cycle length  aborptions  Weight gain  hair growth  \\\n",
       "0   0.0  28.0        78.0           5.0         0.0          0.0          0.0   \n",
       "1   0.0  36.0        74.0           5.0         0.0          0.0          0.0   \n",
       "2   1.0  33.0        72.0           5.0         0.0          0.0          0.0   \n",
       "\n",
       "   Skin darkening  Pimples  Fast food  \n",
       "0             0.0      0.0        1.0  \n",
       "1             0.0      0.0        0.0  \n",
       "2             0.0      1.0        1.0  "
      ]
     },
     "execution_count": 872,
     "metadata": {},
     "output_type": "execute_result"
    }
   ],
   "source": [
    "import pandas as pd\n",
    "df_PCOS = pd.read_csv('../Data/pcos_remove.csv')\n",
    "df_PCOS.head(3)"
   ]
  },
  {
   "cell_type": "code",
   "execution_count": 873,
   "metadata": {},
   "outputs": [
    {
     "data": {
      "text/plain": [
       "PCOS              float64\n",
       "Age               float64\n",
       "Pulse rate        float64\n",
       "Cycle length      float64\n",
       "aborptions        float64\n",
       "Weight gain       float64\n",
       "hair growth       float64\n",
       "Skin darkening    float64\n",
       "Pimples           float64\n",
       "Fast food         float64\n",
       "dtype: object"
      ]
     },
     "execution_count": 873,
     "metadata": {},
     "output_type": "execute_result"
    }
   ],
   "source": [
    "df_PCOS.dtypes"
   ]
  },
  {
   "cell_type": "code",
   "execution_count": 874,
   "metadata": {},
   "outputs": [
    {
     "name": "stdout",
     "output_type": "stream",
     "text": [
      "<class 'pandas.core.frame.DataFrame'>\n",
      "RangeIndex: 539 entries, 0 to 538\n",
      "Data columns (total 10 columns):\n",
      " #   Column          Non-Null Count  Dtype  \n",
      "---  ------          --------------  -----  \n",
      " 0   PCOS            539 non-null    float64\n",
      " 1   Age             539 non-null    float64\n",
      " 2   Pulse rate      539 non-null    float64\n",
      " 3   Cycle length    539 non-null    float64\n",
      " 4   aborptions      539 non-null    float64\n",
      " 5   Weight gain     539 non-null    float64\n",
      " 6   hair growth     539 non-null    float64\n",
      " 7   Skin darkening  539 non-null    float64\n",
      " 8   Pimples         539 non-null    float64\n",
      " 9   Fast food       539 non-null    float64\n",
      "dtypes: float64(10)\n",
      "memory usage: 42.2 KB\n"
     ]
    }
   ],
   "source": [
    "df_PCOS.info()"
   ]
  },
  {
   "attachments": {},
   "cell_type": "markdown",
   "metadata": {},
   "source": [
    "# 머신러닝 모델 돌려보기"
   ]
  },
  {
   "cell_type": "code",
   "execution_count": 875,
   "metadata": {},
   "outputs": [
    {
     "data": {
      "text/html": [
       "<div>\n",
       "<style scoped>\n",
       "    .dataframe tbody tr th:only-of-type {\n",
       "        vertical-align: middle;\n",
       "    }\n",
       "\n",
       "    .dataframe tbody tr th {\n",
       "        vertical-align: top;\n",
       "    }\n",
       "\n",
       "    .dataframe thead th {\n",
       "        text-align: right;\n",
       "    }\n",
       "</style>\n",
       "<table border=\"1\" class=\"dataframe\">\n",
       "  <thead>\n",
       "    <tr style=\"text-align: right;\">\n",
       "      <th></th>\n",
       "      <th>Age</th>\n",
       "      <th>Pulse rate</th>\n",
       "      <th>Cycle length</th>\n",
       "      <th>aborptions</th>\n",
       "      <th>Weight gain</th>\n",
       "      <th>hair growth</th>\n",
       "      <th>Skin darkening</th>\n",
       "      <th>Pimples</th>\n",
       "      <th>Fast food</th>\n",
       "    </tr>\n",
       "  </thead>\n",
       "  <tbody>\n",
       "    <tr>\n",
       "      <th>0</th>\n",
       "      <td>28.0</td>\n",
       "      <td>78.0</td>\n",
       "      <td>5.0</td>\n",
       "      <td>0.0</td>\n",
       "      <td>0.0</td>\n",
       "      <td>0.0</td>\n",
       "      <td>0.0</td>\n",
       "      <td>0.0</td>\n",
       "      <td>1.0</td>\n",
       "    </tr>\n",
       "    <tr>\n",
       "      <th>1</th>\n",
       "      <td>36.0</td>\n",
       "      <td>74.0</td>\n",
       "      <td>5.0</td>\n",
       "      <td>0.0</td>\n",
       "      <td>0.0</td>\n",
       "      <td>0.0</td>\n",
       "      <td>0.0</td>\n",
       "      <td>0.0</td>\n",
       "      <td>0.0</td>\n",
       "    </tr>\n",
       "    <tr>\n",
       "      <th>2</th>\n",
       "      <td>33.0</td>\n",
       "      <td>72.0</td>\n",
       "      <td>5.0</td>\n",
       "      <td>0.0</td>\n",
       "      <td>0.0</td>\n",
       "      <td>0.0</td>\n",
       "      <td>0.0</td>\n",
       "      <td>1.0</td>\n",
       "      <td>1.0</td>\n",
       "    </tr>\n",
       "  </tbody>\n",
       "</table>\n",
       "</div>"
      ],
      "text/plain": [
       "    Age  Pulse rate  Cycle length  aborptions  Weight gain  hair growth  \\\n",
       "0  28.0        78.0           5.0         0.0          0.0          0.0   \n",
       "1  36.0        74.0           5.0         0.0          0.0          0.0   \n",
       "2  33.0        72.0           5.0         0.0          0.0          0.0   \n",
       "\n",
       "   Skin darkening  Pimples  Fast food  \n",
       "0             0.0      0.0        1.0  \n",
       "1             0.0      0.0        0.0  \n",
       "2             0.0      1.0        1.0  "
      ]
     },
     "execution_count": 875,
     "metadata": {},
     "output_type": "execute_result"
    }
   ],
   "source": [
    "# Target을 제외한 나머지 데이터 추출\n",
    "x=df_PCOS.iloc[:,1:]\n",
    "x.head(3)"
   ]
  },
  {
   "cell_type": "code",
   "execution_count": 876,
   "metadata": {},
   "outputs": [
    {
     "data": {
      "text/plain": [
       "0      0.0\n",
       "1      0.0\n",
       "2      1.0\n",
       "3      0.0\n",
       "4      0.0\n",
       "      ... \n",
       "534    0.0\n",
       "535    0.0\n",
       "536    0.0\n",
       "537    0.0\n",
       "538    1.0\n",
       "Name: PCOS, Length: 539, dtype: float64"
      ]
     },
     "execution_count": 876,
     "metadata": {},
     "output_type": "execute_result"
    }
   ],
   "source": [
    "# Target인 PCOS (Y/N) 추출하기\n",
    "y=df_PCOS.iloc[:,0]\n",
    "y"
   ]
  },
  {
   "cell_type": "code",
   "execution_count": 877,
   "metadata": {},
   "outputs": [
    {
     "data": {
      "image/png": "[encoded data removed]",
      "text/plain": [
       "<Figure size 640x480 with 1 Axes>"
      ]
     },
     "metadata": {},
     "output_type": "display_data"
    }
   ],
   "source": [
    "import matplotlib.pyplot as plt\n",
    "# 차트화 0과 1의 비율\n",
    "PCOS_count = pd.value_counts(y, sort = True)\n",
    "\n",
    "PCOS_count.plot(kind = 'bar', rot=0, color=['blue', 'red'])\n",
    "\n",
    "plt.title(\"PCOS distribution\")\n",
    "plt.xlabel(\" PCOS (Y/N)\")\n",
    "plt.ylabel(\"Frequency\")\n",
    "plt.show()"
   ]
  },
  {
   "attachments": {},
   "cell_type": "markdown",
   "metadata": {},
   "source": [
    "### 0과 1의 개수가 균형있지 않아서 stratify로 훈련용 데이터와 데스트용 데이터의 균형을 맞춰줘야 한다."
   ]
  },
  {
   "attachments": {},
   "cell_type": "markdown",
   "metadata": {},
   "source": [
    "### 검증 세트 추가\n",
    "- 훈련(60%), 검증(20%), 테스트(20%)"
   ]
  },
  {
   "cell_type": "code",
   "execution_count": 878,
   "metadata": {},
   "outputs": [],
   "source": [
    "from sklearn.model_selection import train_test_split\n",
    "\n",
    "train_input, test_input, train_target, test_target = \\\n",
    "    train_test_split(x, y, test_size=0.2, stratify=y)"
   ]
  },
  {
   "cell_type": "code",
   "execution_count": 879,
   "metadata": {},
   "outputs": [],
   "source": [
    "sub_input, val_input, sub_target, val_target = \\\n",
    "    train_test_split(train_input, train_target, test_size=0.2, stratify=train_target)"
   ]
  },
  {
   "cell_type": "code",
   "execution_count": 880,
   "metadata": {},
   "outputs": [
    {
     "name": "stdout",
     "output_type": "stream",
     "text": [
      "Train : (344, 9)\n",
      "Valid : (87, 9)\n",
      "Test : (108, 9)\n"
     ]
    }
   ],
   "source": [
    "# 세트 별 크기\n",
    "print('Train :', sub_input.shape)\n",
    "print('Valid :', val_input.shape)\n",
    "print('Test :', test_input.shape)"
   ]
  },
  {
   "attachments": {},
   "cell_type": "markdown",
   "metadata": {},
   "source": [
    "### 여러 모델들을 통해 가장 점수가 좋은 모델을 찾아본다."
   ]
  },
  {
   "attachments": {},
   "cell_type": "markdown",
   "metadata": {},
   "source": [
    "## 사용해 볼 모델\n",
    "- Decision Tree Regression  \n",
    "- Random Forest Regression  \n",
    "- Gradient Boosting Regression (GBR)  \n",
    "- logistic Regression  "
   ]
  },
  {
   "attachments": {},
   "cell_type": "markdown",
   "metadata": {},
   "source": [
    "# Decision Tree Regression "
   ]
  },
  {
   "cell_type": "code",
   "execution_count": 881,
   "metadata": {},
   "outputs": [],
   "source": [
    "# 교차검증을 위한 import\n",
    "import numpy as np\n",
    "from sklearn.model_selection import cross_validate"
   ]
  },
  {
   "cell_type": "code",
   "execution_count": 882,
   "metadata": {},
   "outputs": [
    {
     "name": "stdout",
     "output_type": "stream",
     "text": [
      "Train score : 0.9846250111736837\n",
      "Valid score : 0.06896551724137923\n",
      "----------------------------------------\n",
      "교차검증 Train score : 0.9908768699341888\n",
      "교차검증 Test score: -0.09976829918753687\n"
     ]
    }
   ],
   "source": [
    "from sklearn.tree import DecisionTreeRegressor\n",
    "\n",
    "dtr = DecisionTreeRegressor()\n",
    "dtr.fit(sub_input, sub_target)\n",
    "\n",
    "\n",
    "print('Train score :', dtr.score(sub_input, sub_target))\n",
    "print('Valid score :', dtr.score(val_input, val_target))\n",
    "\n",
    "scores = cross_validate(dtr, train_input, train_target, return_train_score=True)\n",
    "print('-'*40)\n",
    "print('교차검증 Train score :',np.mean(scores['train_score']))\n",
    "print('교차검증 Test score:',np.mean(scores['test_score']))\n"
   ]
  },
  {
   "attachments": {},
   "cell_type": "markdown",
   "metadata": {},
   "source": [
    "# Random Forest Regression "
   ]
  },
  {
   "cell_type": "code",
   "execution_count": 883,
   "metadata": {},
   "outputs": [
    {
     "name": "stdout",
     "output_type": "stream",
     "text": [
      "Train score : 0.8969910532494549\n",
      "Valid score : 0.43343222748064747\n",
      "----------------------------------------\n",
      "교차검증 Train score : 0.9055000919045014\n",
      "교차검증 Test score: 0.3782408363186155\n"
     ]
    }
   ],
   "source": [
    "# RandomForest\n",
    "from sklearn.ensemble import RandomForestRegressor\n",
    "rfr = RandomForestRegressor()\n",
    "\n",
    "rfr.fit(sub_input, sub_target)\n",
    "print('Train score :', rfr.score(sub_input, sub_target))\n",
    "print('Valid score :', rfr.score(val_input, val_target))\n",
    "\n",
    "scores = cross_validate(rfr, train_input, train_target, return_train_score=True)\n",
    "print('-'*40)\n",
    "\n",
    "print('교차검증 Train score :',np.mean(scores['train_score']))\n",
    "print('교차검증 Test score:',np.mean(scores['test_score']))\n"
   ]
  },
  {
   "attachments": {},
   "cell_type": "markdown",
   "metadata": {},
   "source": [
    "# Gradient Boosting Regression (GBR)  "
   ]
  },
  {
   "cell_type": "code",
   "execution_count": 884,
   "metadata": {},
   "outputs": [
    {
     "name": "stdout",
     "output_type": "stream",
     "text": [
      "Train score : 0.7190416807610288\n",
      "Valid score : 0.5065859765394883\n",
      "----------------------------------------\n",
      "교차검증 Train score : 0.7395298038855607\n",
      "교차검증 Test score: 0.4260368749877408\n"
     ]
    }
   ],
   "source": [
    "from sklearn.ensemble import GradientBoostingRegressor\n",
    "gbr = GradientBoostingRegressor()\n",
    "\n",
    "gbr.fit(sub_input, sub_target)\n",
    "print('Train score :', gbr.score(sub_input, sub_target))\n",
    "print('Valid score :', gbr.score(val_input, val_target))\n",
    "\n",
    "scores = cross_validate(gbr, train_input, train_target, return_train_score=True)\n",
    "print('-'*40)\n",
    "\n",
    "print('교차검증 Train score :',np.mean(scores['train_score']))\n",
    "print('교차검증 Test score:',np.mean(scores['test_score']))"
   ]
  },
  {
   "attachments": {},
   "cell_type": "markdown",
   "metadata": {},
   "source": [
    "# Logistic Regression  "
   ]
  },
  {
   "cell_type": "code",
   "execution_count": 902,
   "metadata": {},
   "outputs": [
    {
     "name": "stdout",
     "output_type": "stream",
     "text": [
      "Train score : 0.8488372093023255\n",
      "Valid score : 0.8735632183908046\n",
      "----------------------------------------\n",
      "{'fit_time': array([0.02800417, 0.02400589, 0.02500582, 0.02200508, 0.02200317]), 'score_time': array([0.0010004 , 0.00200009, 0.0010004 , 0.00100088, 0.00199986]), 'test_score': array([0.79310345, 0.86046512, 0.80232558, 0.88372093, 0.86046512]), 'train_score': array([0.86337209, 0.85217391, 0.87246377, 0.85217391, 0.85217391])}\n",
      "교차검증 Train score : 0.8584715200539265\n",
      "교차검증 Test score: 0.8400160384923817\n"
     ]
    }
   ],
   "source": [
    "from sklearn.linear_model import LogisticRegression\n",
    "lr = LogisticRegression()\n",
    "\n",
    "lr.fit(sub_input, sub_target)\n",
    "print('Train score :', lr.score(sub_input, sub_target))\n",
    "print('Valid score :', lr.score(val_input, val_target))\n",
    "\n",
    "scores = cross_validate(lr, train_input, train_target, return_train_score=True)\n",
    "print('-'*40)\n",
    "#print(scores)\n",
    "print('교차검증 Train score :',np.mean(scores['train_score']))\n",
    "print('교차검증 Test score:',np.mean(scores['test_score']))"
   ]
  },
  {
   "attachments": {},
   "cell_type": "markdown",
   "metadata": {},
   "source": [
    "다중회귀분석을 찾아봐야한다.\n",
    "컬럼이 3개 이상이므로 다중회귀\n"
   ]
  },
  {
   "attachments": {},
   "cell_type": "markdown",
   "metadata": {},
   "source": [
    "# 가장 점수가 좋은 Logistic Regression을 모델로 사용하기로 결정"
   ]
  },
  {
   "attachments": {},
   "cell_type": "markdown",
   "metadata": {},
   "source": [
    "> 과대적합을 보이므로 Standardization, Regularization, Feature selection을 사용해야함"
   ]
  },
  {
   "attachments": {},
   "cell_type": "markdown",
   "metadata": {},
   "source": [
    "#### 이미 불필요한 Feature은 R에서 제거했으므로 Standardization와 Regularization을 사용하는 방향으로 생각했다."
   ]
  },
  {
   "cell_type": "code",
   "execution_count": 886,
   "metadata": {},
   "outputs": [
    {
     "name": "stdout",
     "output_type": "stream",
     "text": [
      "C 매개변수의 값 : 0.01\n",
      "Train Score :  0.7790697674418605\n",
      "Valid Score :  0.7126436781609196\n",
      "교차검증 Train Score : 0.7588235294117647\n",
      "교차검증 Valid Score : 0.6555555555555556\n",
      "----------------------------------------\n",
      "C 매개변수의 값 : 0.1\n",
      "Train Score :  0.8517441860465116\n",
      "Valid Score :  0.8390804597701149\n",
      "교차검증 Train Score : 0.8140238704177323\n",
      "교차검증 Valid Score : 0.7470588235294118\n",
      "----------------------------------------\n",
      "C 매개변수의 값 : 1\n",
      "Train Score :  0.8488372093023255\n",
      "Valid Score :  0.8735632183908046\n",
      "교차검증 Train Score : 0.8226768968456948\n",
      "교차검증 Valid Score : 0.8392156862745097\n",
      "----------------------------------------\n",
      "C 매개변수의 값 : 10\n",
      "Train Score :  0.8546511627906976\n",
      "Valid Score :  0.8850574712643678\n",
      "교차검증 Train Score : 0.8226342710997443\n",
      "교차검증 Valid Score : 0.826797385620915\n",
      "----------------------------------------\n",
      "C 매개변수의 값 : 100\n",
      "Train Score :  0.8488372093023255\n",
      "Valid Score :  0.8735632183908046\n",
      "교차검증 Train Score : 0.8168371696504689\n",
      "교차검증 Valid Score : 0.8156862745098039\n",
      "----------------------------------------\n"
     ]
    }
   ],
   "source": [
    "# C 매개변수를 통한 규제\n",
    "for c_num in [0.01, 0.1, 1, 10, 100]:\n",
    "    lr = LogisticRegression(C=c_num)\n",
    "    lr.fit(sub_input, sub_target)\n",
    "\n",
    "    print('C 매개변수의 값 :', c_num)\n",
    "    print(\"Train Score : \", lr.score(sub_input, sub_target))\n",
    "    print(\"Valid Score : \", lr.score(val_input, val_target))\n",
    "\n",
    "    scores = cross_validate(lr, sub_input, sub_target)\n",
    "    print('교차검증 Train Score :', np.mean(scores['test_score']))\n",
    "\n",
    "    scores = cross_validate(lr, val_input, val_target)\n",
    "    print('교차검증 Valid Score :', np.mean(scores['test_score']))\n",
    "\n",
    "    print('-'*40)\n",
    "\n"
   ]
  },
  {
   "attachments": {},
   "cell_type": "markdown",
   "metadata": {},
   "source": [
    "> C 매개변수의 값 : 0.1 일때 가장 좋은 수치를 보인다."
   ]
  },
  {
   "attachments": {},
   "cell_type": "markdown",
   "metadata": {},
   "source": [
    "#### 이번에는 Standardization를 해보자."
   ]
  },
  {
   "cell_type": "code",
   "execution_count": 887,
   "metadata": {},
   "outputs": [],
   "source": [
    "# 정규화\n",
    "from sklearn.preprocessing import StandardScaler\n",
    "ss = StandardScaler()\n",
    "ss.fit(sub_input)\n",
    "\n",
    "sub_scaled = ss.transform(sub_input)\n",
    "val_scaled = ss.transform(val_input)\n",
    "test_scaled = ss.transform(test_input)"
   ]
  },
  {
   "cell_type": "code",
   "execution_count": 888,
   "metadata": {},
   "outputs": [
    {
     "name": "stdout",
     "output_type": "stream",
     "text": [
      "Train Score : 0.8255754475703325\n",
      "Valid Score : 0.8045751633986928\n"
     ]
    }
   ],
   "source": [
    "#교차검증\n",
    "lr = LogisticRegression()\n",
    "lr.fit(sub_scaled, sub_target)\n",
    "scores = cross_validate(lr, sub_scaled, sub_target)\n",
    "print('Train Score :', np.mean(scores['test_score']))\n",
    "\n",
    "scores = cross_validate(lr, val_scaled, val_target)\n",
    "print('Valid Score :', np.mean(scores['test_score']))"
   ]
  },
  {
   "attachments": {},
   "cell_type": "markdown",
   "metadata": {},
   "source": [
    "> 정규화를 했을 때 점수가 더 안좋아졌다."
   ]
  },
  {
   "attachments": {},
   "cell_type": "markdown",
   "metadata": {},
   "source": [
    "## Standardization을 한 후에 C 매개변수를 통한 규제를 해보았다."
   ]
  },
  {
   "cell_type": "code",
   "execution_count": 889,
   "metadata": {},
   "outputs": [
    {
     "name": "stdout",
     "output_type": "stream",
     "text": [
      "C 매개변수의 값 : 0.01\n",
      "Train Score :  0.8401162790697675\n",
      "Valid Score :  0.8505747126436781\n",
      "교차검증 Train Score : 0.8081415174765558\n",
      "교차검증 Valid Score : 0.7235294117647058\n",
      "----------------------------------------\n",
      "C 매개변수의 값 : 0.1\n",
      "Train Score :  0.8459302325581395\n",
      "Valid Score :  0.8735632183908046\n",
      "교차검증 Train Score : 0.8343137254901961\n",
      "교차검증 Valid Score : 0.8503267973856209\n",
      "----------------------------------------\n",
      "C 매개변수의 값 : 1\n",
      "Train Score :  0.8517441860465116\n",
      "Valid Score :  0.8850574712643678\n",
      "교차검증 Train Score : 0.8255754475703325\n",
      "교차검증 Valid Score : 0.8045751633986928\n",
      "----------------------------------------\n",
      "C 매개변수의 값 : 10\n",
      "Train Score :  0.8546511627906976\n",
      "Valid Score :  0.8850574712643678\n",
      "교차검증 Train Score : 0.8255754475703325\n",
      "교차검증 Valid Score : 0.8045751633986928\n",
      "----------------------------------------\n",
      "C 매개변수의 값 : 100\n",
      "Train Score :  0.8546511627906976\n",
      "Valid Score :  0.8850574712643678\n",
      "교차검증 Train Score : 0.8255754475703325\n",
      "교차검증 Valid Score : 0.8045751633986928\n",
      "----------------------------------------\n"
     ]
    }
   ],
   "source": [
    "# C 매개변수를 통한 규제\n",
    "for c_num in [0.01, 0.1, 1, 10, 100]:\n",
    "    lr = LogisticRegression(C=c_num)\n",
    "    lr.fit(sub_scaled, sub_target)\n",
    "\n",
    "    print('C 매개변수의 값 :', c_num)\n",
    "    print(\"Train Score : \", lr.score(sub_scaled, sub_target))\n",
    "    print(\"Valid Score : \", lr.score(val_scaled, val_target))\n",
    "\n",
    "    scores = cross_validate(lr, sub_scaled, sub_target)\n",
    "    print('교차검증 Train Score :', np.mean(scores['test_score']))\n",
    "\n",
    "    scores = cross_validate(lr, val_scaled, val_target)\n",
    "    print('교차검증 Valid Score :', np.mean(scores['test_score']))\n",
    "\n",
    "    print('-'*40)"
   ]
  },
  {
   "attachments": {},
   "cell_type": "markdown",
   "metadata": {},
   "source": [
    "> standardization를 한 후에 C 매개변수(C = 0.1)를 통한 규제를 줬을때 가장 좋은 점수를 받았다."
   ]
  },
  {
   "attachments": {},
   "cell_type": "markdown",
   "metadata": {},
   "source": [
    "# Regularization"
   ]
  },
  {
   "attachments": {},
   "cell_type": "markdown",
   "metadata": {},
   "source": [
    "---\n",
    "### L1규제(Lasso) 회귀\n",
    "- 가중치의 절대값으로 규제하는 방법"
   ]
  },
  {
   "cell_type": "code",
   "execution_count": 890,
   "metadata": {},
   "outputs": [
    {
     "name": "stdout",
     "output_type": "stream",
     "text": [
      "Train Score : 0.0\n",
      "Valid Score : -0.00010563142239106149\n"
     ]
    }
   ],
   "source": [
    "from sklearn.linear_model import Lasso\n",
    "lasso = Lasso()\n",
    "lasso.fit(sub_scaled, sub_target)\n",
    "print('Train Score :', lasso.score(sub_scaled, sub_target))\n",
    "print('Valid Score :', lasso.score(val_scaled, val_target))"
   ]
  },
  {
   "cell_type": "code",
   "execution_count": 891,
   "metadata": {},
   "outputs": [],
   "source": [
    "#최적값 찾기\n",
    "\n",
    "train_score = []\n",
    "valid_score = []\n",
    "\n",
    "alpha_list = [0.001,0.01,0.1,1,10,100,1000]\n",
    "for alpha in alpha_list:\n",
    "    lasso = Lasso(alpha=alpha)\n",
    "    lasso.fit(sub_scaled, sub_target)\n",
    "    train_score.append(lasso.score(sub_scaled,sub_target))\n",
    "    valid_score.append(lasso.score(val_scaled,val_target))"
   ]
  },
  {
   "cell_type": "code",
   "execution_count": 892,
   "metadata": {},
   "outputs": [
    {
     "data": {
      "image/png": "[encoded data removed]",
      "text/plain": [
       "<Figure size 640x480 with 1 Axes>"
      ]
     },
     "metadata": {},
     "output_type": "display_data"
    }
   ],
   "source": [
    "import matplotlib.pyplot as plt\n",
    "plt.plot(alpha_list,train_score)\n",
    "plt.plot(alpha_list,valid_score)\n",
    "plt.show()"
   ]
  },
  {
   "cell_type": "code",
   "execution_count": 893,
   "metadata": {},
   "outputs": [
    {
     "name": "stdout",
     "output_type": "stream",
     "text": [
      "Train Score : 0.4145324921390692\n",
      "Valid Score : 0.4991617247502671\n"
     ]
    }
   ],
   "source": [
    "lasso = Lasso(alpha=0.001)\n",
    "lasso.fit(sub_scaled, sub_target)\n",
    "print('Train Score :', lasso.score(sub_scaled, sub_target))\n",
    "print('Valid Score :', lasso.score(val_scaled, val_target))"
   ]
  },
  {
   "attachments": {},
   "cell_type": "markdown",
   "metadata": {},
   "source": [
    "> 점수가 너무 낮아서 의미가 없어보인다."
   ]
  },
  {
   "attachments": {},
   "cell_type": "markdown",
   "metadata": {},
   "source": [
    "### Ridge(L2 규제) 회귀\n",
    ": 가중치의 제곱으로 규제하는 방법"
   ]
  },
  {
   "cell_type": "code",
   "execution_count": 894,
   "metadata": {},
   "outputs": [
    {
     "name": "stdout",
     "output_type": "stream",
     "text": [
      "Train score : 0.4145562661482426\n",
      "Valid score : 0.49926618269000334\n"
     ]
    }
   ],
   "source": [
    "from sklearn.linear_model import Ridge\n",
    "\n",
    "ridge=Ridge()\n",
    "ridge.fit(sub_scaled,sub_target)\n",
    "print('Train score :', ridge.score(sub_scaled,sub_target))\n",
    "print('Valid score :', ridge.score(val_scaled,val_target))"
   ]
  },
  {
   "attachments": {},
   "cell_type": "markdown",
   "metadata": {},
   "source": [
    "### 적절한 규제 강도(Hyper paramter) 찾기"
   ]
  },
  {
   "cell_type": "code",
   "execution_count": 895,
   "metadata": {},
   "outputs": [],
   "source": [
    "train_score = []\n",
    "valid_score = []\n",
    "\n",
    "alpha_list = [0.001,0.01,0.1,1,10,100,1000]\n",
    "for alpha in alpha_list:\n",
    "    ridge = Ridge(alpha=alpha)\n",
    "    ridge.fit(sub_scaled,sub_target)\n",
    "    train_score.append(ridge.score(sub_scaled,sub_target))\n",
    "    valid_score.append(ridge.score(val_scaled,val_target))"
   ]
  },
  {
   "cell_type": "code",
   "execution_count": 896,
   "metadata": {},
   "outputs": [
    {
     "data": {
      "image/png": "[encoded data removed]",
      "text/plain": [
       "<Figure size 640x480 with 1 Axes>"
      ]
     },
     "metadata": {},
     "output_type": "display_data"
    }
   ],
   "source": [
    "import matplotlib.pyplot as plt\n",
    "plt.plot(alpha_list,train_score)\n",
    "plt.plot(alpha_list,valid_score)\n",
    "plt.show()"
   ]
  },
  {
   "cell_type": "code",
   "execution_count": 897,
   "metadata": {},
   "outputs": [
    {
     "data": {
      "image/png": "[encoded data removed]",
      "text/plain": [
       "<Figure size 1000x500 with 1 Axes>"
      ]
     },
     "metadata": {},
     "output_type": "display_data"
    }
   ],
   "source": [
    "import numpy as np\n",
    "\n",
    "plt.figure(figsize=(10,5))\n",
    "plt.plot(np.log10(alpha_list),train_score)\n",
    "plt.plot(np.log10(alpha_list),valid_score)#서로 제일 가까워지는 구간 끝자락 말고\n",
    "plt.show()"
   ]
  },
  {
   "attachments": {},
   "cell_type": "markdown",
   "metadata": {},
   "source": [
    "alpha가 2인 경우가 train과 valid가 제일 가깝다. <-골디락스(Goldilocks) 포인트           \n",
    "2는 100이다 (log)"
   ]
  },
  {
   "cell_type": "code",
   "execution_count": 898,
   "metadata": {},
   "outputs": [
    {
     "name": "stdout",
     "output_type": "stream",
     "text": [
      "Train score : 0.407090564179719\n",
      "Valid score : 0.4871570292468502\n"
     ]
    }
   ],
   "source": [
    "ridge=Ridge(alpha=100)\n",
    "ridge.fit(sub_scaled,sub_target)\n",
    "print('Train score :', ridge.score(sub_scaled,sub_target))\n",
    "print('Valid score :', ridge.score(val_scaled,val_target))"
   ]
  },
  {
   "attachments": {},
   "cell_type": "markdown",
   "metadata": {},
   "source": [
    "### 점수가 둘 다 너무 낮아서 의미가 없다."
   ]
  },
  {
   "attachments": {},
   "cell_type": "markdown",
   "metadata": {},
   "source": [
    "### 결론: > standardization를 한 후에 C 매개변수를 통한 규제를 줬을때 가장 좋은 점수를 받았다. "
   ]
  },
  {
   "attachments": {},
   "cell_type": "markdown",
   "metadata": {},
   "source": [
    "# 최종 테스트"
   ]
  },
  {
   "cell_type": "code",
   "execution_count": 899,
   "metadata": {},
   "outputs": [
    {
     "name": "stdout",
     "output_type": "stream",
     "text": [
      "C 매개변수의 값 : 0.01\n",
      "Train Score :  0.8401162790697675\n",
      "Test Score :  0.8518518518518519\n",
      "----------------------------------------\n",
      "C 매개변수의 값 : 0.1\n",
      "Train Score :  0.8459302325581395\n",
      "Test Score :  0.8611111111111112\n",
      "----------------------------------------\n",
      "C 매개변수의 값 : 1\n",
      "Train Score :  0.8517441860465116\n",
      "Test Score :  0.8611111111111112\n",
      "----------------------------------------\n",
      "C 매개변수의 값 : 10\n",
      "Train Score :  0.8546511627906976\n",
      "Test Score :  0.8611111111111112\n",
      "----------------------------------------\n",
      "C 매개변수의 값 : 100\n",
      "Train Score :  0.8546511627906976\n",
      "Test Score :  0.8611111111111112\n",
      "----------------------------------------\n"
     ]
    }
   ],
   "source": [
    "# C 매개변수를 통한 규제\n",
    "for c_num in [0.01, 0.1, 1, 10, 100]:\n",
    "    lr = LogisticRegression(C=c_num)\n",
    "    lr.fit(sub_scaled, sub_target)\n",
    "\n",
    "    print('C 매개변수의 값 :', c_num)\n",
    "    print(\"Train Score : \", lr.score(sub_scaled, sub_target))\n",
    "    print(\"Test Score : \", lr.score(test_scaled, test_target))\n",
    "    print('-'*40)"
   ]
  },
  {
   "attachments": {},
   "cell_type": "markdown",
   "metadata": {},
   "source": [
    "# 답안지 확인"
   ]
  },
  {
   "cell_type": "code",
   "execution_count": 900,
   "metadata": {},
   "outputs": [
    {
     "data": {
      "text/html": [
       "<div>\n",
       "<style scoped>\n",
       "    .dataframe tbody tr th:only-of-type {\n",
       "        vertical-align: middle;\n",
       "    }\n",
       "\n",
       "    .dataframe tbody tr th {\n",
       "        vertical-align: top;\n",
       "    }\n",
       "\n",
       "    .dataframe thead th {\n",
       "        text-align: right;\n",
       "    }\n",
       "</style>\n",
       "<table border=\"1\" class=\"dataframe\">\n",
       "  <thead>\n",
       "    <tr style=\"text-align: right;\">\n",
       "      <th></th>\n",
       "      <th>예측값</th>\n",
       "      <th>정답</th>\n",
       "    </tr>\n",
       "  </thead>\n",
       "  <tbody>\n",
       "    <tr>\n",
       "      <th>264</th>\n",
       "      <td>0.0</td>\n",
       "      <td>0.0</td>\n",
       "    </tr>\n",
       "    <tr>\n",
       "      <th>373</th>\n",
       "      <td>0.0</td>\n",
       "      <td>1.0</td>\n",
       "    </tr>\n",
       "    <tr>\n",
       "      <th>397</th>\n",
       "      <td>0.0</td>\n",
       "      <td>0.0</td>\n",
       "    </tr>\n",
       "    <tr>\n",
       "      <th>96</th>\n",
       "      <td>0.0</td>\n",
       "      <td>1.0</td>\n",
       "    </tr>\n",
       "    <tr>\n",
       "      <th>485</th>\n",
       "      <td>0.0</td>\n",
       "      <td>0.0</td>\n",
       "    </tr>\n",
       "    <tr>\n",
       "      <th>100</th>\n",
       "      <td>0.0</td>\n",
       "      <td>0.0</td>\n",
       "    </tr>\n",
       "    <tr>\n",
       "      <th>389</th>\n",
       "      <td>0.0</td>\n",
       "      <td>0.0</td>\n",
       "    </tr>\n",
       "    <tr>\n",
       "      <th>245</th>\n",
       "      <td>0.0</td>\n",
       "      <td>0.0</td>\n",
       "    </tr>\n",
       "    <tr>\n",
       "      <th>37</th>\n",
       "      <td>0.0</td>\n",
       "      <td>0.0</td>\n",
       "    </tr>\n",
       "    <tr>\n",
       "      <th>536</th>\n",
       "      <td>0.0</td>\n",
       "      <td>0.0</td>\n",
       "    </tr>\n",
       "  </tbody>\n",
       "</table>\n",
       "</div>"
      ],
      "text/plain": [
       "     예측값   정답\n",
       "264  0.0  0.0\n",
       "373  0.0  1.0\n",
       "397  0.0  0.0\n",
       "96   0.0  1.0\n",
       "485  0.0  0.0\n",
       "100  0.0  0.0\n",
       "389  0.0  0.0\n",
       "245  0.0  0.0\n",
       "37   0.0  0.0\n",
       "536  0.0  0.0"
      ]
     },
     "execution_count": 900,
     "metadata": {},
     "output_type": "execute_result"
    }
   ],
   "source": [
    "pred = lr.predict(test_scaled)\n",
    "\n",
    "comparison = pd.DataFrame(\n",
    "    {'예측값' : pred,\n",
    "    '정답': test_target}\n",
    ")\n",
    "comparison.head(10)"
   ]
  },
  {
   "cell_type": "code",
   "execution_count": 901,
   "metadata": {},
   "outputs": [
    {
     "name": "stdout",
     "output_type": "stream",
     "text": [
      "[[0.74501244 0.25498756]]\n",
      "분석결과 당신은 PCOS에 걸렸을 확률이  25.5 % 입니다.\n"
     ]
    }
   ],
   "source": [
    "\n",
    "user= [[27.0, 74.0, 2.0, 0.0, 0.0, 0.0, 0.0, 1.0, 0.0]]\n",
    "\n",
    "# 유저 입력 값 데이터프레임 만들기\n",
    "user = pd.DataFrame(user)\n",
    "\n",
    "# 유저 입력 값 scaled 만들기\n",
    "user_scaled= ss.transform(user)\n",
    "\n",
    "\n",
    "pred = lr.predict(user_scaled)\n",
    "#print(pred)\n",
    "pred_proba = lr.predict_proba(user_scaled)\n",
    "print(pred_proba)\n",
    "print('분석결과 당신은 PCOS에 걸렸을 확률이 ', round(pred_proba[0][1] * 100, 2),'% 입니다.')\n",
    "\n"
   ]
  },
  {
   "attachments": {},
   "cell_type": "markdown",
   "metadata": {},
   "source": [
    "yes인 답안지를 넣어보고 확률값이 얼마나 나오나.   \n",
    "그것에 대한 분포. 정답을 몇퍼센트로 맞췄는지 확인.  \n",
    " 몇퍼센트부터 yes인지 확인 후 그것을 어플에서 위험도 판단기준으로 삼음.  \n",
    "no도 마찬가지.   \n",
    "최소값이 넘으면 위험한것 느낌.   "
   ]
  }
 ],
 "metadata": {
  "kernelspec": {
   "display_name": "tensorflow",
   "language": "python",
   "name": "python3"
  },
  "language_info": {
   "codemirror_mode": {
    "name": "ipython",
    "version": 3
   },
   "file_extension": ".py",
   "mimetype": "text/x-python",
   "name": "python",
   "nbconvert_exporter": "python",
   "pygments_lexer": "ipython3",
   "version": "3.9.13"
  },
  "orig_nbformat": 4,
  "vscode": {
   "interpreter": {
    "hash": "75f222f31d8106ed7e1b9fc13cea3e71535ba3320824bf9a24772f72bb580fe7"
   }
  }
 },
 "nbformat": 4,
 "nbformat_minor": 2
}

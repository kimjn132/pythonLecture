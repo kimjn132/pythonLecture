{
 "cells": [
  {
   "attachments": {},
   "cell_type": "markdown",
   "metadata": {},
   "source": [
    "# 데이터 불러오기"
   ]
  },
  {
   "cell_type": "code",
   "execution_count": 2,
   "metadata": {},
   "outputs": [
    {
     "data": {
      "text/html": [
       "<div>\n",
       "<style scoped>\n",
       "    .dataframe tbody tr th:only-of-type {\n",
       "        vertical-align: middle;\n",
       "    }\n",
       "\n",
       "    .dataframe tbody tr th {\n",
       "        vertical-align: top;\n",
       "    }\n",
       "\n",
       "    .dataframe thead th {\n",
       "        text-align: right;\n",
       "    }\n",
       "</style>\n",
       "<table border=\"1\" class=\"dataframe\">\n",
       "  <thead>\n",
       "    <tr style=\"text-align: right;\">\n",
       "      <th></th>\n",
       "      <th>PCOS</th>\n",
       "      <th>Age</th>\n",
       "      <th>Pulse rate</th>\n",
       "      <th>Cycle length</th>\n",
       "      <th>aborptions</th>\n",
       "      <th>Weight gain</th>\n",
       "      <th>hair growth</th>\n",
       "      <th>Skin darkening</th>\n",
       "      <th>Pimples</th>\n",
       "      <th>Fast food</th>\n",
       "    </tr>\n",
       "  </thead>\n",
       "  <tbody>\n",
       "    <tr>\n",
       "      <th>0</th>\n",
       "      <td>0.0</td>\n",
       "      <td>28.0</td>\n",
       "      <td>78.0</td>\n",
       "      <td>5.0</td>\n",
       "      <td>0.0</td>\n",
       "      <td>0.0</td>\n",
       "      <td>0.0</td>\n",
       "      <td>0.0</td>\n",
       "      <td>0.0</td>\n",
       "      <td>1.0</td>\n",
       "    </tr>\n",
       "    <tr>\n",
       "      <th>1</th>\n",
       "      <td>0.0</td>\n",
       "      <td>36.0</td>\n",
       "      <td>74.0</td>\n",
       "      <td>5.0</td>\n",
       "      <td>0.0</td>\n",
       "      <td>0.0</td>\n",
       "      <td>0.0</td>\n",
       "      <td>0.0</td>\n",
       "      <td>0.0</td>\n",
       "      <td>0.0</td>\n",
       "    </tr>\n",
       "    <tr>\n",
       "      <th>2</th>\n",
       "      <td>1.0</td>\n",
       "      <td>33.0</td>\n",
       "      <td>72.0</td>\n",
       "      <td>5.0</td>\n",
       "      <td>0.0</td>\n",
       "      <td>0.0</td>\n",
       "      <td>0.0</td>\n",
       "      <td>0.0</td>\n",
       "      <td>1.0</td>\n",
       "      <td>1.0</td>\n",
       "    </tr>\n",
       "  </tbody>\n",
       "</table>\n",
       "</div>"
      ],
      "text/plain": [
       "   PCOS   Age  Pulse rate  Cycle length  aborptions  Weight gain  hair growth  \\\n",
       "0   0.0  28.0        78.0           5.0         0.0          0.0          0.0   \n",
       "1   0.0  36.0        74.0           5.0         0.0          0.0          0.0   \n",
       "2   1.0  33.0        72.0           5.0         0.0          0.0          0.0   \n",
       "\n",
       "   Skin darkening  Pimples  Fast food  \n",
       "0             0.0      0.0        1.0  \n",
       "1             0.0      0.0        0.0  \n",
       "2             0.0      1.0        1.0  "
      ]
     },
     "execution_count": 2,
     "metadata": {},
     "output_type": "execute_result"
    }
   ],
   "source": [
    "import pandas as pd\n",
    "pcos = pd.read_csv('../Data/pcos_remove.csv')\n",
    "pcos.head(3)"
   ]
  },
  {
   "cell_type": "code",
   "execution_count": 19,
   "metadata": {},
   "outputs": [
    {
     "data": {
      "text/plain": [
       "0      0.0\n",
       "1      0.0\n",
       "2      1.0\n",
       "3      0.0\n",
       "4      0.0\n",
       "      ... \n",
       "534    0.0\n",
       "535    0.0\n",
       "536    0.0\n",
       "537    0.0\n",
       "538    1.0\n",
       "Name: PCOS, Length: 539, dtype: float64"
      ]
     },
     "execution_count": 19,
     "metadata": {},
     "output_type": "execute_result"
    }
   ],
   "source": [
    "pcos.iloc[:,0]"
   ]
  },
  {
   "cell_type": "code",
   "execution_count": 145,
   "metadata": {},
   "outputs": [
    {
     "data": {
      "text/plain": [
       "0.9259259259259259"
      ]
     },
     "execution_count": 145,
     "metadata": {},
     "output_type": "execute_result"
    }
   ],
   "source": [
    "pcos_data = pcos.iloc[:, 1:]\n",
    "pcos_target = pcos.iloc[:,0]\n",
    "\n",
    "i = 0\n",
    "\n",
    "from sklearn.model_selection import train_test_split\n",
    "\n",
    "# 점수가 90점 이상이 나올 때 까지 계속 머신러닝 돌리기\n",
    "while True:\n",
    "    train_data, test_data, train_target, test_target = train_test_split(pcos_data, pcos_target, test_size=0.2, stratify=pcos_target)\n",
    "\n",
    "    # 로지스틱 회귀 모델\n",
    "\n",
    "    from sklearn.linear_model import LogisticRegression\n",
    "    lr = LogisticRegression(C=0.1)\n",
    "\n",
    "    #표준화\n",
    "    from sklearn.preprocessing import StandardScaler\n",
    "    ss = StandardScaler()\n",
    "    ss.fit(train_data)\n",
    "\n",
    "    train_scaled = ss.transform(train_data)\n",
    "    test_scaled = ss.transform(test_data)\n",
    "\n",
    "    lr.fit(train_scaled, train_target)\n",
    "\n",
    "    score = lr.score(test_scaled,test_target )\n",
    "    score\n",
    "    # print(score)\n",
    "    # print('-'*40)\n",
    "    i = int(score*10)\n",
    "    if i >=9:\n",
    "        break\n",
    "\n",
    "score\n",
    "\n",
    "\n"
   ]
  },
  {
   "attachments": {},
   "cell_type": "markdown",
   "metadata": {},
   "source": [
    "이 h5 파일에는 StandardScaler로 표준화된 데이터가 입력되어야한다. "
   ]
  },
  {
   "cell_type": "code",
   "execution_count": 130,
   "metadata": {},
   "outputs": [
    {
     "data": {
      "text/plain": [
       "['../Data/lr_PCOS.h5']"
      ]
     },
     "execution_count": 130,
     "metadata": {},
     "output_type": "execute_result"
    }
   ],
   "source": [
    "#모델 저장하기\n",
    "import joblib\n",
    "filename = '../Data/lr_PCOS.h5'\n",
    "joblib.dump(lr, filename)\n"
   ]
  }
 ],
 "metadata": {
  "kernelspec": {
   "display_name": "base",
   "language": "python",
   "name": "python3"
  },
  "language_info": {
   "codemirror_mode": {
    "name": "ipython",
    "version": 3
   },
   "file_extension": ".py",
   "mimetype": "text/x-python",
   "name": "python",
   "nbconvert_exporter": "python",
   "pygments_lexer": "ipython3",
   "version": "3.9.13"
  },
  "orig_nbformat": 4,
  "vscode": {
   "interpreter": {
    "hash": "45e9faba6d136458d32a029f00b7a2ef346b3546525e3f790d5222a6141d7161"
   }
  }
 },
 "nbformat": 4,
 "nbformat_minor": 2
}

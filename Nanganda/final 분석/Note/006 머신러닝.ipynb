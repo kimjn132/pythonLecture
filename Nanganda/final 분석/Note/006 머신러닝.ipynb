{
 "cells": [
  {
   "cell_type": "code",
   "execution_count": 1,
   "metadata": {},
   "outputs": [],
   "source": [
    "# 오류 무시\n",
    "import warnings\n",
    "warnings.filterwarnings('ignore')"
   ]
  },
  {
   "attachments": {},
   "cell_type": "markdown",
   "metadata": {},
   "source": [
    "# 머신러닝 돌려보기"
   ]
  },
  {
   "cell_type": "code",
   "execution_count": 2,
   "metadata": {},
   "outputs": [
    {
     "data": {
      "text/plain": [
       "PCOS               0.000000\n",
       "hair growth        0.000000\n",
       "Skin darkening     0.000000\n",
       "Weight gain        0.000000\n",
       "BMI               25.103878\n",
       "Waist             35.000000\n",
       "Fast food          0.000000\n",
       "Pimples            0.000000\n",
       "Name: 55, dtype: float64"
      ]
     },
     "execution_count": 2,
     "metadata": {},
     "output_type": "execute_result"
    }
   ],
   "source": [
    "import pandas as pd\n",
    "df_PCOS = pd.read_csv('../Data/pcos_final_select.csv')\n",
    "df_PCOS.iloc[55,:]"
   ]
  },
  {
   "cell_type": "code",
   "execution_count": 57,
   "metadata": {},
   "outputs": [
    {
     "name": "stdout",
     "output_type": "stream",
     "text": [
      "<class 'pandas.core.frame.DataFrame'>\n",
      "RangeIndex: 354 entries, 0 to 353\n",
      "Data columns (total 8 columns):\n",
      " #   Column          Non-Null Count  Dtype  \n",
      "---  ------          --------------  -----  \n",
      " 0   PCOS            354 non-null    float64\n",
      " 1   hair growth     354 non-null    float64\n",
      " 2   Skin darkening  354 non-null    float64\n",
      " 3   Weight gain     354 non-null    float64\n",
      " 4   BMI             354 non-null    float64\n",
      " 5   Waist           354 non-null    float64\n",
      " 6   Fast food       354 non-null    float64\n",
      " 7   Pimples         354 non-null    float64\n",
      "dtypes: float64(8)\n",
      "memory usage: 22.2 KB\n"
     ]
    }
   ],
   "source": [
    "df_PCOS.info()"
   ]
  },
  {
   "attachments": {},
   "cell_type": "markdown",
   "metadata": {},
   "source": [
    "# 머신러닝 모델 돌려보기"
   ]
  },
  {
   "cell_type": "code",
   "execution_count": 58,
   "metadata": {},
   "outputs": [
    {
     "data": {
      "text/html": [
       "<div>\n",
       "<style scoped>\n",
       "    .dataframe tbody tr th:only-of-type {\n",
       "        vertical-align: middle;\n",
       "    }\n",
       "\n",
       "    .dataframe tbody tr th {\n",
       "        vertical-align: top;\n",
       "    }\n",
       "\n",
       "    .dataframe thead th {\n",
       "        text-align: right;\n",
       "    }\n",
       "</style>\n",
       "<table border=\"1\" class=\"dataframe\">\n",
       "  <thead>\n",
       "    <tr style=\"text-align: right;\">\n",
       "      <th></th>\n",
       "      <th>hair growth</th>\n",
       "      <th>Skin darkening</th>\n",
       "      <th>Weight gain</th>\n",
       "      <th>BMI</th>\n",
       "      <th>Waist</th>\n",
       "      <th>Fast food</th>\n",
       "      <th>Pimples</th>\n",
       "    </tr>\n",
       "  </thead>\n",
       "  <tbody>\n",
       "    <tr>\n",
       "      <th>0</th>\n",
       "      <td>1.0</td>\n",
       "      <td>1.0</td>\n",
       "      <td>1.0</td>\n",
       "      <td>23.437500</td>\n",
       "      <td>32.0</td>\n",
       "      <td>0.0</td>\n",
       "      <td>1.0</td>\n",
       "    </tr>\n",
       "    <tr>\n",
       "      <th>1</th>\n",
       "      <td>1.0</td>\n",
       "      <td>1.0</td>\n",
       "      <td>1.0</td>\n",
       "      <td>30.110279</td>\n",
       "      <td>36.0</td>\n",
       "      <td>1.0</td>\n",
       "      <td>1.0</td>\n",
       "    </tr>\n",
       "    <tr>\n",
       "      <th>2</th>\n",
       "      <td>1.0</td>\n",
       "      <td>1.0</td>\n",
       "      <td>1.0</td>\n",
       "      <td>19.606329</td>\n",
       "      <td>32.0</td>\n",
       "      <td>1.0</td>\n",
       "      <td>1.0</td>\n",
       "    </tr>\n",
       "  </tbody>\n",
       "</table>\n",
       "</div>"
      ],
      "text/plain": [
       "   hair growth  Skin darkening  Weight gain        BMI  Waist  Fast food  \\\n",
       "0          1.0             1.0          1.0  23.437500   32.0        0.0   \n",
       "1          1.0             1.0          1.0  30.110279   36.0        1.0   \n",
       "2          1.0             1.0          1.0  19.606329   32.0        1.0   \n",
       "\n",
       "   Pimples  \n",
       "0      1.0  \n",
       "1      1.0  \n",
       "2      1.0  "
      ]
     },
     "execution_count": 58,
     "metadata": {},
     "output_type": "execute_result"
    }
   ],
   "source": [
    "# Target을 제외한 나머지 데이터 추출\n",
    "x=df_PCOS.iloc[:,1:]\n",
    "x.head(3)"
   ]
  },
  {
   "cell_type": "code",
   "execution_count": 59,
   "metadata": {},
   "outputs": [
    {
     "data": {
      "text/plain": [
       "0      0.0\n",
       "1      0.0\n",
       "2      0.0\n",
       "3      0.0\n",
       "4      0.0\n",
       "      ... \n",
       "349    1.0\n",
       "350    1.0\n",
       "351    1.0\n",
       "352    1.0\n",
       "353    1.0\n",
       "Name: PCOS, Length: 354, dtype: float64"
      ]
     },
     "execution_count": 59,
     "metadata": {},
     "output_type": "execute_result"
    }
   ],
   "source": [
    "# Target인 PCOS (Y/N) 추출하기\n",
    "y=df_PCOS.iloc[:,0]\n",
    "y"
   ]
  },
  {
   "cell_type": "code",
   "execution_count": 60,
   "metadata": {},
   "outputs": [
    {
     "data": {
      "image/png": "[encoded data removed]",
      "text/plain": [
       "<Figure size 640x480 with 1 Axes>"
      ]
     },
     "metadata": {},
     "output_type": "display_data"
    }
   ],
   "source": [
    "import matplotlib.pyplot as plt\n",
    "# 차트화 0과 1의 비율\n",
    "PCOS_count = pd.value_counts(y, sort = True)\n",
    "\n",
    "PCOS_count.plot(kind = 'bar', rot=0, color=['blue', 'red'])\n",
    "\n",
    "plt.title(\"PCOS distribution\")\n",
    "plt.xlabel(\" PCOS (Y/N)\")\n",
    "plt.ylabel(\"Frequency\")\n",
    "plt.show()"
   ]
  },
  {
   "attachments": {},
   "cell_type": "markdown",
   "metadata": {},
   "source": [
    "### 검증 세트 추가\n",
    "- 훈련(60%), 검증(20%), 테스트(20%)"
   ]
  },
  {
   "cell_type": "code",
   "execution_count": 137,
   "metadata": {},
   "outputs": [
    {
     "name": "stdout",
     "output_type": "stream",
     "text": [
      "Train : (226, 7)\n",
      "Valid : (57, 7)\n",
      "Test : (71, 7)\n"
     ]
    }
   ],
   "source": [
    "from sklearn.model_selection import train_test_split\n",
    "\n",
    "train_input, test_input, train_target, test_target = \\\n",
    "    train_test_split(x, y, test_size=0.2)\n",
    "sub_input, val_input, sub_target, val_target = \\\n",
    "train_test_split(train_input, train_target, test_size=0.2)\n",
    "# 세트 별 크기\n",
    "print('Train :', sub_input.shape)\n",
    "print('Valid :', val_input.shape)\n",
    "print('Test :', test_input.shape)"
   ]
  },
  {
   "attachments": {},
   "cell_type": "markdown",
   "metadata": {},
   "source": [
    "### 여러 모델들을 통해 가장 점수가 좋은 모델을 찾아본다."
   ]
  },
  {
   "attachments": {},
   "cell_type": "markdown",
   "metadata": {},
   "source": [
    "## 사용해 볼 모델\n",
    "- Decision Tree Regression  \n",
    "- Random Forest Regression  \n",
    "- Gradient Boosting Regression (GBR)  \n",
    "- logistic Regression  "
   ]
  },
  {
   "attachments": {},
   "cell_type": "markdown",
   "metadata": {},
   "source": [
    "# Decision Tree Regression "
   ]
  },
  {
   "cell_type": "code",
   "execution_count": 64,
   "metadata": {},
   "outputs": [],
   "source": [
    "# 교차검증을 위한 import\n",
    "import numpy as np\n",
    "from sklearn.model_selection import cross_validate"
   ]
  },
  {
   "cell_type": "code",
   "execution_count": 65,
   "metadata": {},
   "outputs": [
    {
     "name": "stdout",
     "output_type": "stream",
     "text": [
      "Train score : 1.0\n",
      "Valid score : -0.38491048593350397\n",
      "----------------------------------------\n",
      "교차검증 Train score : 0.9893603918365679\n",
      "교차검증 Test score: -0.3374455216859876\n"
     ]
    }
   ],
   "source": [
    "from sklearn.tree import DecisionTreeRegressor\n",
    "\n",
    "dtr = DecisionTreeRegressor()\n",
    "dtr.fit(sub_input, sub_target)\n",
    "\n",
    "\n",
    "print('Train score :', dtr.score(sub_input, sub_target))\n",
    "print('Valid score :', dtr.score(val_input, val_target))\n",
    "\n",
    "scores = cross_validate(dtr, train_input, train_target, return_train_score=True)\n",
    "print('-'*40)\n",
    "print('교차검증 Train score :',np.mean(scores['train_score']))\n",
    "print('교차검증 Test score:',np.mean(scores['test_score']))\n"
   ]
  },
  {
   "attachments": {},
   "cell_type": "markdown",
   "metadata": {},
   "source": [
    "# Random Forest Regression "
   ]
  },
  {
   "cell_type": "code",
   "execution_count": 138,
   "metadata": {},
   "outputs": [
    {
     "name": "stdout",
     "output_type": "stream",
     "text": [
      "Train score : 0.8864931702344547\n",
      "Valid score : 0.21084507575757594\n",
      "----------------------------------------\n",
      "교차검증 Train score : 0.8840587420369695\n",
      "교차검증 Test score: 0.15277939096036386\n"
     ]
    }
   ],
   "source": [
    "# RandomForest\n",
    "from sklearn.ensemble import RandomForestRegressor\n",
    "rfr = RandomForestRegressor()\n",
    "\n",
    "rfr.fit(sub_input, sub_target)\n",
    "print('Train score :', rfr.score(sub_input, sub_target))\n",
    "print('Valid score :', rfr.score(val_input, val_target))\n",
    "\n",
    "scores = cross_validate(rfr, train_input, train_target, return_train_score=True)\n",
    "print('-'*40)\n",
    "\n",
    "print('교차검증 Train score :',np.mean(scores['train_score']))\n",
    "print('교차검증 Test score:',np.mean(scores['test_score']))\n"
   ]
  },
  {
   "attachments": {},
   "cell_type": "markdown",
   "metadata": {},
   "source": [
    "# Gradient Boosting Regression (GBR)  "
   ]
  },
  {
   "cell_type": "code",
   "execution_count": 139,
   "metadata": {},
   "outputs": [
    {
     "name": "stdout",
     "output_type": "stream",
     "text": [
      "Train score : 0.774632891067998\n",
      "Valid score : 0.1788553496872286\n",
      "----------------------------------------\n",
      "교차검증 Train score : 0.7604201388102169\n",
      "교차검증 Test score: 0.13367830776877176\n"
     ]
    }
   ],
   "source": [
    "from sklearn.ensemble import GradientBoostingRegressor\n",
    "gbr = GradientBoostingRegressor()\n",
    "\n",
    "gbr.fit(sub_input, sub_target)\n",
    "print('Train score :', gbr.score(sub_input, sub_target))\n",
    "print('Valid score :', gbr.score(val_input, val_target))\n",
    "\n",
    "scores = cross_validate(gbr, train_input, train_target, return_train_score=True)\n",
    "print('-'*40)\n",
    "\n",
    "print('교차검증 Train score :',np.mean(scores['train_score']))\n",
    "print('교차검증 Test score:',np.mean(scores['test_score']))"
   ]
  },
  {
   "attachments": {},
   "cell_type": "markdown",
   "metadata": {},
   "source": [
    "# Logistic Regression  "
   ]
  },
  {
   "cell_type": "code",
   "execution_count": 165,
   "metadata": {},
   "outputs": [
    {
     "name": "stdout",
     "output_type": "stream",
     "text": [
      "Train score : 0.8141592920353983\n",
      "Valid score : 0.8421052631578947\n",
      "----------------------------------------\n",
      "교차검증 Train score : 0.8100697828544696\n",
      "교차검증 Test score: 0.8020676691729323\n"
     ]
    }
   ],
   "source": [
    "from sklearn.linear_model import LogisticRegression\n",
    "\n",
    "train_input, test_input, train_target, test_target = \\\n",
    "    train_test_split(x, y, test_size=0.2)\n",
    "sub_input, val_input, sub_target, val_target = \\\n",
    "train_test_split(train_input, train_target, test_size=0.2)\n",
    "\n",
    "\n",
    "lr = LogisticRegression()\n",
    "\n",
    "lr.fit(sub_input, sub_target)\n",
    "print('Train score :', lr.score(sub_input, sub_target))\n",
    "print('Valid score :', lr.score(val_input, val_target))\n",
    "\n",
    "scores = cross_validate(lr, train_input, train_target, return_train_score=True)\n",
    "print('-'*40)\n",
    "#print(scores)\n",
    "print('교차검증 Train score :',np.mean(scores['train_score']))\n",
    "print('교차검증 Test score:',np.mean(scores['test_score']))\n",
    "# 81,80 나옴"
   ]
  },
  {
   "attachments": {},
   "cell_type": "markdown",
   "metadata": {},
   "source": [
    "# 가장 점수가 좋은 Logistic Regression을 모델로 사용하기로 결정"
   ]
  },
  {
   "attachments": {},
   "cell_type": "markdown",
   "metadata": {},
   "source": [
    "# 점수가 좋게 나와서 바로 사용하도록 한다."
   ]
  },
  {
   "attachments": {},
   "cell_type": "markdown",
   "metadata": {},
   "source": [
    "# 최종 테스트"
   ]
  },
  {
   "attachments": {},
   "cell_type": "markdown",
   "metadata": {},
   "source": [
    "# 답안지 확인"
   ]
  },
  {
   "cell_type": "code",
   "execution_count": 167,
   "metadata": {},
   "outputs": [
    {
     "name": "stdout",
     "output_type": "stream",
     "text": [
      "Train score : 0.8141592920353983\n",
      "Valid score : 0.8421052631578947\n",
      "----------------------------------------\n",
      "{'fit_time': array([0.00999284, 0.01300263, 0.01200271, 0.01200199, 0.01100278]), 'score_time': array([0.00201035, 0.0010004 , 0.0010004 , 0.00200057, 0.00200033]), 'test_score': array([0.78947368, 0.8245614 , 0.80701754, 0.75      , 0.83928571]), 'train_score': array([0.82300885, 0.80088496, 0.80530973, 0.81497797, 0.8061674 ])}\n",
      "교차검증 Train score : 0.8100697828544696\n",
      "교차검증 Test score: 0.8020676691729323\n"
     ]
    }
   ],
   "source": [
    "from sklearn.linear_model import LogisticRegression\n",
    "lr = LogisticRegression()\n",
    "\n",
    "lr.fit(sub_input, sub_target)\n",
    "print('Train score :', lr.score(sub_input, sub_target))\n",
    "print('Valid score :', lr.score(val_input, val_target))\n",
    "\n",
    "scores = cross_validate(lr, train_input, train_target, return_train_score=True)\n",
    "print('-'*40)\n",
    "print(scores)\n",
    "print('교차검증 Train score :',np.mean(scores['train_score']))\n",
    "print('교차검증 Test score:',np.mean(scores['test_score']))"
   ]
  },
  {
   "cell_type": "code",
   "execution_count": 240,
   "metadata": {},
   "outputs": [
    {
     "data": {
      "text/html": [
       "<div>\n",
       "<style scoped>\n",
       "    .dataframe tbody tr th:only-of-type {\n",
       "        vertical-align: middle;\n",
       "    }\n",
       "\n",
       "    .dataframe tbody tr th {\n",
       "        vertical-align: top;\n",
       "    }\n",
       "\n",
       "    .dataframe thead th {\n",
       "        text-align: right;\n",
       "    }\n",
       "</style>\n",
       "<table border=\"1\" class=\"dataframe\">\n",
       "  <thead>\n",
       "    <tr style=\"text-align: right;\">\n",
       "      <th></th>\n",
       "      <th>예측값</th>\n",
       "      <th>정답</th>\n",
       "    </tr>\n",
       "  </thead>\n",
       "  <tbody>\n",
       "    <tr>\n",
       "      <th>195</th>\n",
       "      <td>0.0</td>\n",
       "      <td>1.0</td>\n",
       "    </tr>\n",
       "    <tr>\n",
       "      <th>212</th>\n",
       "      <td>1.0</td>\n",
       "      <td>1.0</td>\n",
       "    </tr>\n",
       "    <tr>\n",
       "      <th>192</th>\n",
       "      <td>1.0</td>\n",
       "      <td>1.0</td>\n",
       "    </tr>\n",
       "    <tr>\n",
       "      <th>259</th>\n",
       "      <td>1.0</td>\n",
       "      <td>1.0</td>\n",
       "    </tr>\n",
       "    <tr>\n",
       "      <th>202</th>\n",
       "      <td>1.0</td>\n",
       "      <td>1.0</td>\n",
       "    </tr>\n",
       "    <tr>\n",
       "      <th>115</th>\n",
       "      <td>0.0</td>\n",
       "      <td>0.0</td>\n",
       "    </tr>\n",
       "    <tr>\n",
       "      <th>55</th>\n",
       "      <td>0.0</td>\n",
       "      <td>0.0</td>\n",
       "    </tr>\n",
       "    <tr>\n",
       "      <th>350</th>\n",
       "      <td>0.0</td>\n",
       "      <td>1.0</td>\n",
       "    </tr>\n",
       "    <tr>\n",
       "      <th>219</th>\n",
       "      <td>1.0</td>\n",
       "      <td>1.0</td>\n",
       "    </tr>\n",
       "    <tr>\n",
       "      <th>97</th>\n",
       "      <td>0.0</td>\n",
       "      <td>0.0</td>\n",
       "    </tr>\n",
       "  </tbody>\n",
       "</table>\n",
       "</div>"
      ],
      "text/plain": [
       "     예측값   정답\n",
       "195  0.0  1.0\n",
       "212  1.0  1.0\n",
       "192  1.0  1.0\n",
       "259  1.0  1.0\n",
       "202  1.0  1.0\n",
       "115  0.0  0.0\n",
       "55   0.0  0.0\n",
       "350  0.0  1.0\n",
       "219  1.0  1.0\n",
       "97   0.0  0.0"
      ]
     },
     "execution_count": 240,
     "metadata": {},
     "output_type": "execute_result"
    }
   ],
   "source": [
    "pred = lr.predict(test_input)\n",
    "\n",
    "comparison = pd.DataFrame(\n",
    "    {'예측값' : pred,\n",
    "    '정답': test_target}\n",
    ")\n",
    "comparison.head(10)"
   ]
  },
  {
   "attachments": {},
   "cell_type": "markdown",
   "metadata": {},
   "source": [
    "# 정답이 1인 정답지 만들기"
   ]
  },
  {
   "cell_type": "code",
   "execution_count": 260,
   "metadata": {},
   "outputs": [
    {
     "name": "stdout",
     "output_type": "stream",
     "text": [
      "75.1 %\n",
      "정답 판단 최소 확률 50.4 %\n",
      "정답 판단 최대 확률 93.8 %\n"
     ]
    }
   ],
   "source": [
    "pcos_1 = df_PCOS[df_PCOS['PCOS']==1]\n",
    "pcos_1.reset_index(inplace=True) # index 번호 초기화\n",
    "pcos_1.drop('index', axis=1,inplace=True)# index 칼럼 삭제\n",
    "\n",
    "pcos_1_target = pcos_1.iloc[:,0]\n",
    "pcos_1_input = pcos_1.iloc[:,1:]\n",
    "pred = lr.predict(pcos_1_input)\n",
    "\n",
    "comparison = pd.DataFrame(\n",
    "    {'예측값' : pred,\n",
    "    '정답': pcos_1_target}\n",
    ")\n",
    "print(round((sum(comparison.예측값 == comparison.정답)/len(comparison)),3) *100,'%')\n",
    "\n",
    "#정답을 맞춘 사람의 최소 확률\n",
    "print('정답 판단 최소 확률',round(np.min(lr.predict_proba(pcos_1_input)[comparison[(comparison.예측값 == comparison.정답)==True].index][:,1]),3)*100,'%')\n",
    "\n",
    "#정답을 맞춘 사람의 최대 확률\n",
    "\n",
    "print('정답 판단 최대 확률',round(np.max(lr.predict_proba(pcos_1_input)[comparison[(comparison.예측값 == comparison.정답)==True].index][:,1]),3)*100,'%')\n",
    "\n"
   ]
  },
  {
   "cell_type": "code",
   "execution_count": 273,
   "metadata": {},
   "outputs": [
    {
     "data": {
      "text/html": [
       "<div>\n",
       "<style scoped>\n",
       "    .dataframe tbody tr th:only-of-type {\n",
       "        vertical-align: middle;\n",
       "    }\n",
       "\n",
       "    .dataframe tbody tr th {\n",
       "        vertical-align: top;\n",
       "    }\n",
       "\n",
       "    .dataframe thead th {\n",
       "        text-align: right;\n",
       "    }\n",
       "</style>\n",
       "<table border=\"1\" class=\"dataframe\">\n",
       "  <thead>\n",
       "    <tr style=\"text-align: right;\">\n",
       "      <th></th>\n",
       "      <th>0</th>\n",
       "    </tr>\n",
       "  </thead>\n",
       "  <tbody>\n",
       "    <tr>\n",
       "      <th>count</th>\n",
       "      <td>177.000000</td>\n",
       "    </tr>\n",
       "    <tr>\n",
       "      <th>mean</th>\n",
       "      <td>0.649546</td>\n",
       "    </tr>\n",
       "    <tr>\n",
       "      <th>std</th>\n",
       "      <td>0.249718</td>\n",
       "    </tr>\n",
       "    <tr>\n",
       "      <th>min</th>\n",
       "      <td>0.074315</td>\n",
       "    </tr>\n",
       "    <tr>\n",
       "      <th>25%</th>\n",
       "      <td>0.503974</td>\n",
       "    </tr>\n",
       "    <tr>\n",
       "      <th>50%</th>\n",
       "      <td>0.742714</td>\n",
       "    </tr>\n",
       "    <tr>\n",
       "      <th>75%</th>\n",
       "      <td>0.832412</td>\n",
       "    </tr>\n",
       "    <tr>\n",
       "      <th>max</th>\n",
       "      <td>0.938449</td>\n",
       "    </tr>\n",
       "  </tbody>\n",
       "</table>\n",
       "</div>"
      ],
      "text/plain": [
       "                0\n",
       "count  177.000000\n",
       "mean     0.649546\n",
       "std      0.249718\n",
       "min      0.074315\n",
       "25%      0.503974\n",
       "50%      0.742714\n",
       "75%      0.832412\n",
       "max      0.938449"
      ]
     },
     "execution_count": 273,
     "metadata": {},
     "output_type": "execute_result"
    }
   ],
   "source": [
    "pd.DataFrame(lr.predict_proba(pcos_1_input)[:,1]).describe()"
   ]
  },
  {
   "cell_type": "code",
   "execution_count": 275,
   "metadata": {},
   "outputs": [
    {
     "data": {
      "text/html": [
       "<div>\n",
       "<style scoped>\n",
       "    .dataframe tbody tr th:only-of-type {\n",
       "        vertical-align: middle;\n",
       "    }\n",
       "\n",
       "    .dataframe tbody tr th {\n",
       "        vertical-align: top;\n",
       "    }\n",
       "\n",
       "    .dataframe thead th {\n",
       "        text-align: right;\n",
       "    }\n",
       "</style>\n",
       "<table border=\"1\" class=\"dataframe\">\n",
       "  <thead>\n",
       "    <tr style=\"text-align: right;\">\n",
       "      <th></th>\n",
       "      <th>0</th>\n",
       "    </tr>\n",
       "  </thead>\n",
       "  <tbody>\n",
       "    <tr>\n",
       "      <th>count</th>\n",
       "      <td>145.000000</td>\n",
       "    </tr>\n",
       "    <tr>\n",
       "      <th>mean</th>\n",
       "      <td>0.642188</td>\n",
       "    </tr>\n",
       "    <tr>\n",
       "      <th>std</th>\n",
       "      <td>0.249461</td>\n",
       "    </tr>\n",
       "    <tr>\n",
       "      <th>min</th>\n",
       "      <td>0.078004</td>\n",
       "    </tr>\n",
       "    <tr>\n",
       "      <th>25%</th>\n",
       "      <td>0.486807</td>\n",
       "    </tr>\n",
       "    <tr>\n",
       "      <th>50%</th>\n",
       "      <td>0.731007</td>\n",
       "    </tr>\n",
       "    <tr>\n",
       "      <th>75%</th>\n",
       "      <td>0.832412</td>\n",
       "    </tr>\n",
       "    <tr>\n",
       "      <th>max</th>\n",
       "      <td>0.938449</td>\n",
       "    </tr>\n",
       "  </tbody>\n",
       "</table>\n",
       "</div>"
      ],
      "text/plain": [
       "                0\n",
       "count  145.000000\n",
       "mean     0.642188\n",
       "std      0.249461\n",
       "min      0.078004\n",
       "25%      0.486807\n",
       "50%      0.731007\n",
       "75%      0.832412\n",
       "max      0.938449"
      ]
     },
     "execution_count": 275,
     "metadata": {},
     "output_type": "execute_result"
    }
   ],
   "source": [
    "# 확률 표준편차를 구해서 건강유의를 알려줘야 하는 사람의 기준을 구해줌.\n",
    "pd.DataFrame(lr.predict_proba(pcos_1_input)[comparison[(comparison.예측값 == comparison.정답)==True].index][:,1]).describe()"
   ]
  },
  {
   "attachments": {},
   "cell_type": "markdown",
   "metadata": {},
   "source": [
    "# 기준 정해짐"
   ]
  },
  {
   "cell_type": "code",
   "execution_count": 276,
   "metadata": {},
   "outputs": [
    {
     "data": {
      "text/plain": [
       "0.392727"
      ]
     },
     "execution_count": 276,
     "metadata": {},
     "output_type": "execute_result"
    }
   ],
   "source": [
    "0.642188-0.249461"
   ]
  },
  {
   "cell_type": "code",
   "execution_count": 194,
   "metadata": {},
   "outputs": [
    {
     "name": "stdout",
     "output_type": "stream",
     "text": [
      "[[0.32261586 0.67738414]]\n",
      "분석결과 당신은 PCOS에 걸렸을 확률이  67.74 % 입니다.\n"
     ]
    }
   ],
   "source": [
    "\n",
    "a= [[1.0,1.0,1.0,30.1,46.0,1.0,1.0]] # 걸린사람\n",
    "b = [[1.0,1.0,1.0,24.000000,34.0,1.0,0.0]] # 안걸린사람\n",
    "c = [[0.0,0.0,0.0,25.103878,35.0,0.0,0.0]] # 안걸린사람\n",
    "hs = [[0,0,0,19.35,28,1,1]] # 안걸린사람\n",
    "jh = [[0,0,1,22.3,26,0,0]] #  안걸린사람\n",
    "yj = [[0,0,0,19,26,1,0]]# 안걸린사람\n",
    "pyj = [[0,0,1,23,28,0,1]] # 안걸린사람\n",
    "lhs = [[1,0,1,27,32,1,1]] #위험한사람\n",
    "\n",
    "# 유저 입력 값 데이터프레임 만들기\n",
    "user = pd.DataFrame(lhs)\n",
    "\n",
    "pred = lr.predict(user)\n",
    "#print(pred)\n",
    "pred_proba = lr.predict_proba(user)\n",
    "print(pred_proba)\n",
    "print('분석결과 당신은 PCOS에 걸렸을 확률이 ', round(pred_proba[0][1] * 100, 2),'% 입니다.')\n",
    "\n"
   ]
  }
 ],
 "metadata": {
  "kernelspec": {
   "display_name": "tensorflow",
   "language": "python",
   "name": "python3"
  },
  "language_info": {
   "codemirror_mode": {
    "name": "ipython",
    "version": 3
   },
   "file_extension": ".py",
   "mimetype": "text/x-python",
   "name": "python",
   "nbconvert_exporter": "python",
   "pygments_lexer": "ipython3",
   "version": "3.9.13"
  },
  "orig_nbformat": 4,
  "vscode": {
   "interpreter": {
    "hash": "75f222f31d8106ed7e1b9fc13cea3e71535ba3320824bf9a24772f72bb580fe7"
   }
  }
 },
 "nbformat": 4,
 "nbformat_minor": 2
}

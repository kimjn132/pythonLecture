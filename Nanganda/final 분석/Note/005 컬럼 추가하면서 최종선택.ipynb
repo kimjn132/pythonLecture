{
 "cells": [
  {
   "cell_type": "code",
   "execution_count": 8,
   "metadata": {},
   "outputs": [],
   "source": [
    "# 오류 무시\n",
    "import warnings\n",
    "warnings.filterwarnings('ignore')"
   ]
  },
  {
   "cell_type": "code",
   "execution_count": 9,
   "metadata": {},
   "outputs": [
    {
     "data": {
      "text/html": [
       "<div>\n",
       "<style scoped>\n",
       "    .dataframe tbody tr th:only-of-type {\n",
       "        vertical-align: middle;\n",
       "    }\n",
       "\n",
       "    .dataframe tbody tr th {\n",
       "        vertical-align: top;\n",
       "    }\n",
       "\n",
       "    .dataframe thead th {\n",
       "        text-align: right;\n",
       "    }\n",
       "</style>\n",
       "<table border=\"1\" class=\"dataframe\">\n",
       "  <thead>\n",
       "    <tr style=\"text-align: right;\">\n",
       "      <th></th>\n",
       "      <th>PCOS</th>\n",
       "      <th>Age</th>\n",
       "      <th>Weight</th>\n",
       "      <th>Height</th>\n",
       "      <th>BMI</th>\n",
       "      <th>Blood Type</th>\n",
       "      <th>Pulse rate</th>\n",
       "      <th>Cycle length</th>\n",
       "      <th>Marraige Status</th>\n",
       "      <th>Pregnant</th>\n",
       "      <th>...</th>\n",
       "      <th>Waist:Hip Ratio</th>\n",
       "      <th>Weight gain</th>\n",
       "      <th>hair growth</th>\n",
       "      <th>Skin darkening</th>\n",
       "      <th>Hair loss</th>\n",
       "      <th>Pimples</th>\n",
       "      <th>Fast food</th>\n",
       "      <th>Reg.Exercise</th>\n",
       "      <th>BP_Systolic</th>\n",
       "      <th>BP_Diastolic</th>\n",
       "    </tr>\n",
       "  </thead>\n",
       "  <tbody>\n",
       "    <tr>\n",
       "      <th>0</th>\n",
       "      <td>0.0</td>\n",
       "      <td>28.0</td>\n",
       "      <td>60.0</td>\n",
       "      <td>160.00</td>\n",
       "      <td>23.437500</td>\n",
       "      <td>15.0</td>\n",
       "      <td>72.0</td>\n",
       "      <td>7.0</td>\n",
       "      <td>3.0</td>\n",
       "      <td>0.0</td>\n",
       "      <td>...</td>\n",
       "      <td>0.842105</td>\n",
       "      <td>1.0</td>\n",
       "      <td>1.0</td>\n",
       "      <td>1.0</td>\n",
       "      <td>1.0</td>\n",
       "      <td>1.0</td>\n",
       "      <td>0.0</td>\n",
       "      <td>0.0</td>\n",
       "      <td>120.0</td>\n",
       "      <td>80.0</td>\n",
       "    </tr>\n",
       "    <tr>\n",
       "      <th>1</th>\n",
       "      <td>0.0</td>\n",
       "      <td>28.0</td>\n",
       "      <td>80.0</td>\n",
       "      <td>163.00</td>\n",
       "      <td>30.110279</td>\n",
       "      <td>15.0</td>\n",
       "      <td>74.0</td>\n",
       "      <td>6.0</td>\n",
       "      <td>6.0</td>\n",
       "      <td>1.0</td>\n",
       "      <td>...</td>\n",
       "      <td>0.900000</td>\n",
       "      <td>1.0</td>\n",
       "      <td>1.0</td>\n",
       "      <td>1.0</td>\n",
       "      <td>1.0</td>\n",
       "      <td>1.0</td>\n",
       "      <td>1.0</td>\n",
       "      <td>0.0</td>\n",
       "      <td>120.0</td>\n",
       "      <td>80.0</td>\n",
       "    </tr>\n",
       "    <tr>\n",
       "      <th>2</th>\n",
       "      <td>0.0</td>\n",
       "      <td>30.0</td>\n",
       "      <td>55.1</td>\n",
       "      <td>167.64</td>\n",
       "      <td>19.606329</td>\n",
       "      <td>11.0</td>\n",
       "      <td>72.0</td>\n",
       "      <td>5.0</td>\n",
       "      <td>8.5</td>\n",
       "      <td>0.0</td>\n",
       "      <td>...</td>\n",
       "      <td>0.941176</td>\n",
       "      <td>1.0</td>\n",
       "      <td>1.0</td>\n",
       "      <td>1.0</td>\n",
       "      <td>1.0</td>\n",
       "      <td>1.0</td>\n",
       "      <td>1.0</td>\n",
       "      <td>0.0</td>\n",
       "      <td>110.0</td>\n",
       "      <td>80.0</td>\n",
       "    </tr>\n",
       "    <tr>\n",
       "      <th>3</th>\n",
       "      <td>0.0</td>\n",
       "      <td>26.0</td>\n",
       "      <td>54.0</td>\n",
       "      <td>150.00</td>\n",
       "      <td>24.000000</td>\n",
       "      <td>11.0</td>\n",
       "      <td>72.0</td>\n",
       "      <td>3.0</td>\n",
       "      <td>5.0</td>\n",
       "      <td>0.0</td>\n",
       "      <td>...</td>\n",
       "      <td>0.944444</td>\n",
       "      <td>1.0</td>\n",
       "      <td>1.0</td>\n",
       "      <td>1.0</td>\n",
       "      <td>1.0</td>\n",
       "      <td>0.0</td>\n",
       "      <td>1.0</td>\n",
       "      <td>0.0</td>\n",
       "      <td>120.0</td>\n",
       "      <td>70.0</td>\n",
       "    </tr>\n",
       "    <tr>\n",
       "      <th>4</th>\n",
       "      <td>0.0</td>\n",
       "      <td>27.0</td>\n",
       "      <td>65.0</td>\n",
       "      <td>162.00</td>\n",
       "      <td>24.767566</td>\n",
       "      <td>15.0</td>\n",
       "      <td>72.0</td>\n",
       "      <td>5.0</td>\n",
       "      <td>3.5</td>\n",
       "      <td>0.0</td>\n",
       "      <td>...</td>\n",
       "      <td>0.947368</td>\n",
       "      <td>1.0</td>\n",
       "      <td>1.0</td>\n",
       "      <td>1.0</td>\n",
       "      <td>1.0</td>\n",
       "      <td>1.0</td>\n",
       "      <td>0.0</td>\n",
       "      <td>0.0</td>\n",
       "      <td>110.0</td>\n",
       "      <td>80.0</td>\n",
       "    </tr>\n",
       "  </tbody>\n",
       "</table>\n",
       "<p>5 rows × 23 columns</p>\n",
       "</div>"
      ],
      "text/plain": [
       "   PCOS   Age  Weight  Height        BMI  Blood Type  Pulse rate  \\\n",
       "0   0.0  28.0    60.0  160.00  23.437500        15.0        72.0   \n",
       "1   0.0  28.0    80.0  163.00  30.110279        15.0        74.0   \n",
       "2   0.0  30.0    55.1  167.64  19.606329        11.0        72.0   \n",
       "3   0.0  26.0    54.0  150.00  24.000000        11.0        72.0   \n",
       "4   0.0  27.0    65.0  162.00  24.767566        15.0        72.0   \n",
       "\n",
       "   Cycle length  Marraige Status  Pregnant  ...  Waist:Hip Ratio  Weight gain  \\\n",
       "0           7.0              3.0       0.0  ...         0.842105          1.0   \n",
       "1           6.0              6.0       1.0  ...         0.900000          1.0   \n",
       "2           5.0              8.5       0.0  ...         0.941176          1.0   \n",
       "3           3.0              5.0       0.0  ...         0.944444          1.0   \n",
       "4           5.0              3.5       0.0  ...         0.947368          1.0   \n",
       "\n",
       "   hair growth  Skin darkening  Hair loss  Pimples  Fast food  Reg.Exercise  \\\n",
       "0          1.0             1.0        1.0      1.0        0.0           0.0   \n",
       "1          1.0             1.0        1.0      1.0        1.0           0.0   \n",
       "2          1.0             1.0        1.0      1.0        1.0           0.0   \n",
       "3          1.0             1.0        1.0      0.0        1.0           0.0   \n",
       "4          1.0             1.0        1.0      1.0        0.0           0.0   \n",
       "\n",
       "   BP_Systolic  BP_Diastolic  \n",
       "0        120.0          80.0  \n",
       "1        120.0          80.0  \n",
       "2        110.0          80.0  \n",
       "3        120.0          70.0  \n",
       "4        110.0          80.0  \n",
       "\n",
       "[5 rows x 23 columns]"
      ]
     },
     "execution_count": 9,
     "metadata": {},
     "output_type": "execute_result"
    }
   ],
   "source": [
    "import pandas as pd\n",
    "pcos = pd.read_csv('../Data/pcos_sameYN.csv')\n",
    "pcos.head()"
   ]
  },
  {
   "cell_type": "code",
   "execution_count": 10,
   "metadata": {},
   "outputs": [
    {
     "data": {
      "text/html": [
       "<div>\n",
       "<style scoped>\n",
       "    .dataframe tbody tr th:only-of-type {\n",
       "        vertical-align: middle;\n",
       "    }\n",
       "\n",
       "    .dataframe tbody tr th {\n",
       "        vertical-align: top;\n",
       "    }\n",
       "\n",
       "    .dataframe thead th {\n",
       "        text-align: right;\n",
       "    }\n",
       "</style>\n",
       "<table border=\"1\" class=\"dataframe\">\n",
       "  <thead>\n",
       "    <tr style=\"text-align: right;\">\n",
       "      <th></th>\n",
       "      <th>PCOS</th>\n",
       "      <th>hair growth</th>\n",
       "      <th>Skin darkening</th>\n",
       "      <th>Weight gain</th>\n",
       "    </tr>\n",
       "  </thead>\n",
       "  <tbody>\n",
       "    <tr>\n",
       "      <th>0</th>\n",
       "      <td>0.0</td>\n",
       "      <td>1.0</td>\n",
       "      <td>1.0</td>\n",
       "      <td>1.0</td>\n",
       "    </tr>\n",
       "    <tr>\n",
       "      <th>1</th>\n",
       "      <td>0.0</td>\n",
       "      <td>1.0</td>\n",
       "      <td>1.0</td>\n",
       "      <td>1.0</td>\n",
       "    </tr>\n",
       "    <tr>\n",
       "      <th>2</th>\n",
       "      <td>0.0</td>\n",
       "      <td>1.0</td>\n",
       "      <td>1.0</td>\n",
       "      <td>1.0</td>\n",
       "    </tr>\n",
       "  </tbody>\n",
       "</table>\n",
       "</div>"
      ],
      "text/plain": [
       "   PCOS  hair growth  Skin darkening  Weight gain\n",
       "0   0.0          1.0             1.0          1.0\n",
       "1   0.0          1.0             1.0          1.0\n",
       "2   0.0          1.0             1.0          1.0"
      ]
     },
     "execution_count": 10,
     "metadata": {},
     "output_type": "execute_result"
    }
   ],
   "source": [
    "pcos_3 = pcos[['PCOS','hair growth', 'Skin darkening', 'Weight gain']]\n",
    "pcos_3.head(3)"
   ]
  },
  {
   "attachments": {},
   "cell_type": "markdown",
   "metadata": {},
   "source": [
    "### LogisticRegression 모델로  3개의 칼럼을 기본으로 나머지 칼럼을 추가하여 점수변화를 보고 Feature Column으로 사용 여부를 판단"
   ]
  },
  {
   "cell_type": "code",
   "execution_count": 11,
   "metadata": {},
   "outputs": [
    {
     "data": {
      "text/html": [
       "<div>\n",
       "<style scoped>\n",
       "    .dataframe tbody tr th:only-of-type {\n",
       "        vertical-align: middle;\n",
       "    }\n",
       "\n",
       "    .dataframe tbody tr th {\n",
       "        vertical-align: top;\n",
       "    }\n",
       "\n",
       "    .dataframe thead th {\n",
       "        text-align: right;\n",
       "    }\n",
       "</style>\n",
       "<table border=\"1\" class=\"dataframe\">\n",
       "  <thead>\n",
       "    <tr style=\"text-align: right;\">\n",
       "      <th></th>\n",
       "      <th>hair growth</th>\n",
       "      <th>Skin darkening</th>\n",
       "      <th>Weight gain</th>\n",
       "    </tr>\n",
       "  </thead>\n",
       "  <tbody>\n",
       "    <tr>\n",
       "      <th>0</th>\n",
       "      <td>1.0</td>\n",
       "      <td>1.0</td>\n",
       "      <td>1.0</td>\n",
       "    </tr>\n",
       "    <tr>\n",
       "      <th>1</th>\n",
       "      <td>1.0</td>\n",
       "      <td>1.0</td>\n",
       "      <td>1.0</td>\n",
       "    </tr>\n",
       "    <tr>\n",
       "      <th>2</th>\n",
       "      <td>1.0</td>\n",
       "      <td>1.0</td>\n",
       "      <td>1.0</td>\n",
       "    </tr>\n",
       "  </tbody>\n",
       "</table>\n",
       "</div>"
      ],
      "text/plain": [
       "   hair growth  Skin darkening  Weight gain\n",
       "0          1.0             1.0          1.0\n",
       "1          1.0             1.0          1.0\n",
       "2          1.0             1.0          1.0"
      ]
     },
     "execution_count": 11,
     "metadata": {},
     "output_type": "execute_result"
    }
   ],
   "source": [
    "# Target을 제외한 나머지 데이터 추출\n",
    "x=pcos_3.iloc[:,1:]\n",
    "x.head(3)"
   ]
  },
  {
   "cell_type": "code",
   "execution_count": 14,
   "metadata": {},
   "outputs": [
    {
     "data": {
      "text/plain": [
       "0    0.0\n",
       "1    0.0\n",
       "2    0.0\n",
       "Name: PCOS, dtype: float64"
      ]
     },
     "execution_count": 14,
     "metadata": {},
     "output_type": "execute_result"
    }
   ],
   "source": [
    "# Target인 PCOS (Y/N) 추출하기\n",
    "y=pcos_3.iloc[:,0]\n",
    "y.head(3)"
   ]
  },
  {
   "cell_type": "code",
   "execution_count": 24,
   "metadata": {},
   "outputs": [
    {
     "name": "stdout",
     "output_type": "stream",
     "text": [
      "교차검증 Train score : 0.8021213524779991\n",
      "교차검증 Test score: 0.8022167487684729\n"
     ]
    }
   ],
   "source": [
    "from sklearn.linear_model import LogisticRegression\n",
    "# 교차검증을 위한 import\n",
    "import numpy as np\n",
    "from sklearn.model_selection import cross_validate\n",
    "from sklearn.model_selection import train_test_split\n",
    "lr = LogisticRegression()\n",
    "\n",
    "i = 0\n",
    "j = 0\n",
    "while True:\n",
    "    train_input, test_input, train_target, test_target = \\\n",
    "        train_test_split(x, y, test_size=0.2, stratify=y)\n",
    "\n",
    "    lr.fit(train_input, train_target)\n",
    "    scores = cross_validate(lr, train_input, train_target, return_train_score=True, cv=10,n_jobs=-1)\n",
    "    \n",
    "    # print('train score : ',scores['train_score'])\n",
    "    # print('test score : ',scores['test_score'])\n",
    "    # print('-'*40)\n",
    "    i = int(np.mean(scores['train_score'])*100)\n",
    "    j = int(np.mean(scores['test_score'])*100)\n",
    "    if i >=80 & j>= 80:\n",
    "        break\n",
    "print('교차검증 Train score :',np.mean(scores['train_score']))\n",
    "print('교차검증 Test score:',np.mean(scores['test_score']))"
   ]
  },
  {
   "attachments": {},
   "cell_type": "markdown",
   "metadata": {},
   "source": [
    "# Age 추가. 현재 'hair growth', 'Skin darkening', 'Weight gain','Age',"
   ]
  },
  {
   "cell_type": "code",
   "execution_count": 21,
   "metadata": {},
   "outputs": [
    {
     "name": "stdout",
     "output_type": "stream",
     "text": [
      "교차검증 Train score : 0.8044804693530956\n",
      "교차검증 Test score: 0.8025862068965518\n"
     ]
    }
   ],
   "source": [
    "pcos_select = pcos[['PCOS','hair growth', 'Skin darkening', 'Weight gain','Age']]\n",
    "# Target을 제외한 나머지 데이터 추출\n",
    "x=pcos_select.iloc[:,1:]\n",
    "# Target인 PCOS (Y/N) 추출하기\n",
    "y=pcos_select.iloc[:,0]\n",
    "\n",
    "i = 0\n",
    "j = 0\n",
    "while True:\n",
    "    train_input, test_input, train_target, test_target = \\\n",
    "        train_test_split(x, y, test_size=0.2, stratify=y)\n",
    "\n",
    "    lr.fit(train_input, train_target)\n",
    "    scores = cross_validate(lr, train_input, train_target, return_train_score=True, cv=10,n_jobs=-1)\n",
    "    \n",
    "    # print('train score : ',scores['train_score'])\n",
    "    # print('test score : ',scores['test_score'])\n",
    "    # print('-'*40)\n",
    "    i = int(np.mean(scores['train_score'])*100)\n",
    "    j = int(np.mean(scores['test_score'])*100)\n",
    "    if i >=80 & j>= 80:\n",
    "        break\n",
    "print('교차검증 Train score :',np.mean(scores['train_score']))\n",
    "print('교차검증 Test score:',np.mean(scores['test_score']))"
   ]
  },
  {
   "attachments": {},
   "cell_type": "markdown",
   "metadata": {},
   "source": [
    "# 점수가 변화가 없어서 추가하지 않는다."
   ]
  },
  {
   "attachments": {},
   "cell_type": "markdown",
   "metadata": {},
   "source": [
    "# Weight 추가. 현재 'hair growth', 'Skin darkening', 'Weight gain','Weight'"
   ]
  },
  {
   "cell_type": "code",
   "execution_count": 25,
   "metadata": {},
   "outputs": [
    {
     "name": "stdout",
     "output_type": "stream",
     "text": [
      "교차검증 Train score : 0.8056553960166744\n",
      "교차검증 Test score: 0.8057881773399014\n"
     ]
    }
   ],
   "source": [
    "pcos_select = pcos[['PCOS','hair growth', 'Skin darkening', 'Weight gain','Weight']]\n",
    "# Target을 제외한 나머지 데이터 추출\n",
    "x=pcos_select.iloc[:,1:]\n",
    "# Target인 PCOS (Y/N) 추출하기\n",
    "y=pcos_select.iloc[:,0]\n",
    "\n",
    "i = 0\n",
    "j = 0\n",
    "while True:\n",
    "    train_input, test_input, train_target, test_target = \\\n",
    "        train_test_split(x, y, test_size=0.2, stratify=y)\n",
    "\n",
    "    lr.fit(train_input, train_target)\n",
    "    scores = cross_validate(lr, train_input, train_target, return_train_score=True, cv=10,n_jobs=-1)\n",
    "    \n",
    "    # print('train score : ',scores['train_score'])\n",
    "    # print('test score : ',scores['test_score'])\n",
    "    # print('-'*40)\n",
    "    i = int(np.mean(scores['train_score'])*100)\n",
    "    j = int(np.mean(scores['test_score'])*100)\n",
    "    if i >=80 & j>= 80:\n",
    "        break\n",
    "print('교차검증 Train score :',np.mean(scores['train_score']))\n",
    "print('교차검증 Test score:',np.mean(scores['test_score']))"
   ]
  },
  {
   "cell_type": "markdown",
   "metadata": {},
   "source": []
  },
  {
   "attachments": {},
   "cell_type": "markdown",
   "metadata": {},
   "source": [
    "# 점수가 변화가 없어서 추가하지 않는다."
   ]
  },
  {
   "cell_type": "markdown",
   "metadata": {},
   "source": []
  },
  {
   "attachments": {},
   "cell_type": "markdown",
   "metadata": {},
   "source": [
    "# Height 추가. 현재 'hair growth', 'Skin darkening', 'Weight gain','Height'"
   ]
  },
  {
   "cell_type": "code",
   "execution_count": 27,
   "metadata": {},
   "outputs": [
    {
     "name": "stdout",
     "output_type": "stream",
     "text": [
      "교차검증 Train score : 0.8072147599197159\n",
      "교차검증 Test score: 0.8050492610837438\n"
     ]
    }
   ],
   "source": [
    "pcos_select = pcos[['PCOS','hair growth', 'Skin darkening', 'Weight gain','Height']]\n",
    "# Target을 제외한 나머지 데이터 추출\n",
    "x=pcos_select.iloc[:,1:]\n",
    "# Target인 PCOS (Y/N) 추출하기\n",
    "y=pcos_select.iloc[:,0]\n",
    "\n",
    "\n",
    "i = 0\n",
    "j = 0\n",
    "while True:\n",
    "    train_input, test_input, train_target, test_target = \\\n",
    "        train_test_split(x, y, test_size=0.2, stratify=y)\n",
    "\n",
    "    lr.fit(train_input, train_target)\n",
    "    scores = cross_validate(lr, train_input, train_target, return_train_score=True, cv=10, n_jobs=-1)\n",
    "    \n",
    "    # print('train score : ',scores['train_score'])\n",
    "    # print('test score : ',scores['test_score'])\n",
    "    # print('-'*40)\n",
    "    i = int(np.mean(scores['train_score'])*100)\n",
    "    j = int(np.mean(scores['test_score'])*100)\n",
    "    if i >=80 & j>= 80:\n",
    "        break\n",
    "print('교차검증 Train score :',np.mean(scores['train_score']))\n",
    "print('교차검증 Test score:',np.mean(scores['test_score']))"
   ]
  },
  {
   "attachments": {},
   "cell_type": "markdown",
   "metadata": {},
   "source": [
    "# 점수가 변화가 없어서 추가하지 않는다."
   ]
  },
  {
   "attachments": {},
   "cell_type": "markdown",
   "metadata": {},
   "source": [
    "# BMI 추가  현재 'hair growth', 'Skin darkening', 'Weight gain','BMI',"
   ]
  },
  {
   "cell_type": "code",
   "execution_count": 29,
   "metadata": {},
   "outputs": [
    {
     "name": "stdout",
     "output_type": "stream",
     "text": [
      "교차검증 Train score : 0.812723483094025\n",
      "교차검증 Test score: 0.8129310344827587\n"
     ]
    }
   ],
   "source": [
    "pcos_select = pcos[['PCOS','hair growth', 'Skin darkening', 'Weight gain','BMI']]\n",
    "# Target을 제외한 나머지 데이터 추출\n",
    "x=pcos_select.iloc[:,1:]\n",
    "# Target인 PCOS (Y/N) 추출하기\n",
    "y=pcos_select.iloc[:,0]\n",
    "\n",
    "\n",
    "i = 0\n",
    "j = 0\n",
    "while True:\n",
    "    train_input, test_input, train_target, test_target = \\\n",
    "        train_test_split(x, y, test_size=0.2, stratify=y)\n",
    "\n",
    "    lr.fit(train_input, train_target)\n",
    "    scores = cross_validate(lr, train_input, train_target, return_train_score=True, cv=10, n_jobs=-1)\n",
    "    \n",
    "    # print('train score : ',scores['train_score'])\n",
    "    # print('test score : ',scores['test_score'])\n",
    "    # print('-'*40)\n",
    "    i = int(np.mean(scores['train_score'])*100)\n",
    "    j = int(np.mean(scores['test_score'])*100)\n",
    "    if i >= 80 & j>= 80:\n",
    "        break\n",
    "print('교차검증 Train score :',np.mean(scores['train_score']))\n",
    "print('교차검증 Test score:',np.mean(scores['test_score']))"
   ]
  },
  {
   "attachments": {},
   "cell_type": "markdown",
   "metadata": {},
   "source": [
    "# 점수가 좋아져서 추가한다."
   ]
  },
  {
   "attachments": {},
   "cell_type": "markdown",
   "metadata": {},
   "source": [
    "# Pulse rate 추가. 현재 'PCOS','hair growth', 'Skin darkening', 'Weight gain','BMI','Pulse rate'"
   ]
  },
  {
   "cell_type": "code",
   "execution_count": 30,
   "metadata": {},
   "outputs": [
    {
     "name": "stdout",
     "output_type": "stream",
     "text": [
      "교차검증 Train score : 0.8064319901188822\n",
      "교차검증 Test score: 0.8086206896551724\n"
     ]
    }
   ],
   "source": [
    "pcos_select = pcos[['PCOS','hair growth', 'Skin darkening', 'Weight gain','BMI','Pulse rate']]\n",
    "# Target을 제외한 나머지 데이터 추출\n",
    "x=pcos_select.iloc[:,1:]\n",
    "# Target인 PCOS (Y/N) 추출하기\n",
    "y=pcos_select.iloc[:,0]\n",
    "\n",
    "\n",
    "i = 0\n",
    "j = 0\n",
    "while True:\n",
    "    train_input, test_input, train_target, test_target = \\\n",
    "        train_test_split(x, y, test_size=0.2, stratify=y)\n",
    "\n",
    "    lr.fit(train_input, train_target)\n",
    "    scores = cross_validate(lr, train_input, train_target, return_train_score=True, cv=10, n_jobs=-1)\n",
    "    \n",
    "    # print('train score : ',scores['train_score'])\n",
    "    # print('test score : ',scores['test_score'])\n",
    "    # print('-'*40)\n",
    "    i = int(np.mean(scores['train_score'])*100)\n",
    "    j = int(np.mean(scores['test_score'])*100)\n",
    "    if i >=80 & j>= 80:\n",
    "        break\n",
    "print('교차검증 Train score :',np.mean(scores['train_score']))\n",
    "print('교차검증 Test score:',np.mean(scores['test_score']))"
   ]
  },
  {
   "attachments": {},
   "cell_type": "markdown",
   "metadata": {},
   "source": [
    "# 점수가 낮아져서 추가하지 않는다."
   ]
  },
  {
   "attachments": {},
   "cell_type": "markdown",
   "metadata": {},
   "source": [
    "# Hip 추가. 현재 'PCOS','hair growth', 'Skin darkening', 'BMI', 'Hip'"
   ]
  },
  {
   "cell_type": "code",
   "execution_count": 33,
   "metadata": {},
   "outputs": [
    {
     "name": "stdout",
     "output_type": "stream",
     "text": [
      "교차검증 Train score : 0.8064397097421645\n",
      "교차검증 Test score: 0.8055418719211822\n"
     ]
    }
   ],
   "source": [
    "pcos_select = pcos[['PCOS','hair growth', 'Skin darkening', 'Weight gain','BMI','Hip']]\n",
    "# Target을 제외한 나머지 데이터 추출\n",
    "x=pcos_select.iloc[:,1:]\n",
    "# Target인 PCOS (Y/N) 추출하기\n",
    "y=pcos_select.iloc[:,0]\n",
    "\n",
    "i = 0\n",
    "j = 0\n",
    "while True:\n",
    "    train_input, test_input, train_target, test_target = \\\n",
    "        train_test_split(x, y, test_size=0.2, stratify=y)\n",
    "\n",
    "    lr.fit(train_input, train_target)\n",
    "    scores = cross_validate(lr, train_input, train_target, return_train_score=True, cv=10, n_jobs=-1)\n",
    "    \n",
    "    # print('train score : ',scores['train_score'])\n",
    "    # print('test score : ',scores['test_score'])\n",
    "    # print('-'*40)\n",
    "    i = int(np.mean(scores['train_score'])*100)\n",
    "    j = int(np.mean(scores['test_score'])*100)\n",
    "    if i >=80 & j>= 80:\n",
    "        break\n",
    "print('교차검증 Train score :',np.mean(scores['train_score']))\n",
    "print('교차검증 Test score:',np.mean(scores['test_score']))"
   ]
  },
  {
   "attachments": {},
   "cell_type": "markdown",
   "metadata": {},
   "source": [
    "# 점수가 낮아져서 채택하지 않는다."
   ]
  },
  {
   "attachments": {},
   "cell_type": "markdown",
   "metadata": {},
   "source": [
    "# Waist 추가. 현재 'PCOS','hair growth', 'Skin darkening', 'Weight gain','BMI','Waist'"
   ]
  },
  {
   "cell_type": "code",
   "execution_count": 35,
   "metadata": {},
   "outputs": [
    {
     "name": "stdout",
     "output_type": "stream",
     "text": [
      "교차검증 Train score : 0.8146935309556893\n",
      "교차검증 Test score: 0.8135467980295568\n"
     ]
    }
   ],
   "source": [
    "pcos_select = pcos[['PCOS','hair growth', 'Skin darkening', 'Weight gain','BMI','Waist']]\n",
    "# Target을 제외한 나머지 데이터 추출\n",
    "x=pcos_select.iloc[:,1:]\n",
    "# Target인 PCOS (Y/N) 추출하기\n",
    "y=pcos_select.iloc[:,0]\n",
    "\n",
    "i = 0\n",
    "j = 0\n",
    "while True:\n",
    "    train_input, test_input, train_target, test_target = \\\n",
    "        train_test_split(x, y, test_size=0.2, stratify=y)\n",
    "\n",
    "    lr.fit(train_input, train_target)\n",
    "    scores = cross_validate(lr, train_input, train_target, return_train_score=True, cv=10, n_jobs=-1)\n",
    "    \n",
    "    # print('train score : ',scores['train_score'])\n",
    "    # print('test score : ',scores['test_score'])\n",
    "    # print('-'*40)\n",
    "    i = int(np.mean(scores['train_score'])*100)\n",
    "    j = int(np.mean(scores['test_score'])*100)\n",
    "    if i >=81 & j>= 81:\n",
    "        break\n",
    "print('교차검증 Train score :',np.mean(scores['train_score']))\n",
    "print('교차검증 Test score:',np.mean(scores['test_score']))"
   ]
  },
  {
   "attachments": {},
   "cell_type": "markdown",
   "metadata": {},
   "source": [
    "# 점수가 좋아져서 채택한다."
   ]
  },
  {
   "attachments": {},
   "cell_type": "markdown",
   "metadata": {},
   "source": [
    "# Hair loss 추가. 현재 'PCOS','hair growth', 'Skin darkening', 'Weight gain','BMI','Waist','Hair loss'"
   ]
  },
  {
   "cell_type": "code",
   "execution_count": 37,
   "metadata": {},
   "outputs": [
    {
     "name": "stdout",
     "output_type": "stream",
     "text": [
      "교차검증 Train score : 0.8119329936699089\n",
      "교차검증 Test score: 0.8124384236453203\n"
     ]
    }
   ],
   "source": [
    "pcos_select = pcos[['PCOS','hair growth', 'Skin darkening', 'Weight gain','BMI','Waist','Hair loss']]\n",
    "# Target을 제외한 나머지 데이터 추출\n",
    "x=pcos_select.iloc[:,1:]\n",
    "# Target인 PCOS (Y/N) 추출하기\n",
    "y=pcos_select.iloc[:,0]\n",
    "\n",
    "i = 0\n",
    "j = 0\n",
    "while True:\n",
    "    train_input, test_input, train_target, test_target = \\\n",
    "        train_test_split(x, y, test_size=0.2, stratify=y)\n",
    "\n",
    "    lr.fit(train_input, train_target)\n",
    "    scores = cross_validate(lr, train_input, train_target, return_train_score=True, cv=10, n_jobs=-1)\n",
    "    \n",
    "    # print('train score : ',scores['train_score'])\n",
    "    # print('test score : ',scores['test_score'])\n",
    "    # print('-'*40)\n",
    "    i = int(np.mean(scores['train_score'])*100)\n",
    "    j = int(np.mean(scores['test_score'])*100)\n",
    "    if i >=81 & j>= 81:\n",
    "        break\n",
    "print('교차검증 Train score :',np.mean(scores['train_score']))\n",
    "print('교차검증 Test score:',np.mean(scores['test_score']))"
   ]
  },
  {
   "attachments": {},
   "cell_type": "markdown",
   "metadata": {},
   "source": [
    "# 점수가 낮아져서 채택하지 않는다."
   ]
  },
  {
   "attachments": {},
   "cell_type": "markdown",
   "metadata": {},
   "source": [
    "# Fast food 추가 현재 PCOS','hair growth', 'Skin darkening', 'Weight gain','BMI','Waist','Fast food'"
   ]
  },
  {
   "cell_type": "code",
   "execution_count": 38,
   "metadata": {},
   "outputs": [
    {
     "name": "stdout",
     "output_type": "stream",
     "text": [
      "교차검증 Train score : 0.8154685811332406\n",
      "교차검증 Test score: 0.816256157635468\n"
     ]
    }
   ],
   "source": [
    "pcos_select = pcos[['PCOS','hair growth', 'Skin darkening', 'Weight gain','BMI','Waist','Fast food']]\n",
    "# Target을 제외한 나머지 데이터 추출\n",
    "x=pcos_select.iloc[:,1:]\n",
    "# Target인 PCOS (Y/N) 추출하기\n",
    "y=pcos_select.iloc[:,0]\n",
    "\n",
    "i = 0\n",
    "j = 0\n",
    "while True:\n",
    "    train_input, test_input, train_target, test_target = \\\n",
    "        train_test_split(x, y, test_size=0.2, stratify=y)\n",
    "\n",
    "    lr.fit(train_input, train_target)\n",
    "    scores = cross_validate(lr, train_input, train_target, return_train_score=True, cv=10, n_jobs=-1)\n",
    "    \n",
    "    # print('train score : ',scores['train_score'])\n",
    "    # print('test score : ',scores['test_score'])\n",
    "    # print('-'*40)\n",
    "    i = int(np.mean(scores['train_score'])*100)\n",
    "    j = int(np.mean(scores['test_score'])*100)\n",
    "    if i >=81 & j>= 81:\n",
    "        break\n",
    "print('교차검증 Train score :',np.mean(scores['train_score']))\n",
    "print('교차검증 Test score:',np.mean(scores['test_score']))"
   ]
  },
  {
   "attachments": {},
   "cell_type": "markdown",
   "metadata": {},
   "source": [
    "# 점수가 조금 좋아졌다고 생각해서 채택한다."
   ]
  },
  {
   "attachments": {},
   "cell_type": "markdown",
   "metadata": {},
   "source": [
    "## Pimples 추가. 현재 'PCOS','hair growth', 'Skin darkening', 'Weight gain','BMI','Waist','Fast food','Pimples'"
   ]
  },
  {
   "cell_type": "code",
   "execution_count": 43,
   "metadata": {},
   "outputs": [
    {
     "name": "stdout",
     "output_type": "stream",
     "text": [
      "교차검증 Train score : 0.8276424270495599\n",
      "교차검증 Test score: 0.8167487684729065\n"
     ]
    }
   ],
   "source": [
    "pcos_select = pcos[['PCOS','hair growth', 'Skin darkening', 'Weight gain','BMI','Waist','Fast food','Pimples']]\n",
    "# Target을 제외한 나머지 데이터 추출\n",
    "x=pcos_select.iloc[:,1:]\n",
    "# Target인 PCOS (Y/N) 추출하기\n",
    "y=pcos_select.iloc[:,0]\n",
    "\n",
    "i = 0\n",
    "j = 0\n",
    "while True:\n",
    "    train_input, test_input, train_target, test_target = \\\n",
    "        train_test_split(x, y, test_size=0.2, stratify=y)\n",
    "\n",
    "    lr.fit(train_input, train_target)\n",
    "    scores = cross_validate(lr, train_input, train_target, return_train_score=True, cv=10, n_jobs=-1)\n",
    "    \n",
    "    # print('train score : ',scores['train_score'])\n",
    "    # print('test score : ',scores['test_score'])\n",
    "    # print('-'*40)\n",
    "    i = int(np.mean(scores['train_score'])*100)\n",
    "    j = int(np.mean(scores['test_score'])*100)\n",
    "    if i >=81 & j>= 81:\n",
    "        break\n",
    "print('교차검증 Train score :',np.mean(scores['train_score']))\n",
    "print('교차검증 Test score:',np.mean(scores['test_score']))"
   ]
  },
  {
   "attachments": {},
   "cell_type": "markdown",
   "metadata": {},
   "source": [
    "# 점수가 조금 좋아졌다고 판단하여 채택하기로 한다."
   ]
  },
  {
   "attachments": {},
   "cell_type": "markdown",
   "metadata": {},
   "source": [
    "최종 컬럼은 'hair growth', 'Skin darkening', 'Weight gain','BMI','Waist','Fast food','Pimples' 으로 결정했다."
   ]
  },
  {
   "cell_type": "code",
   "execution_count": 45,
   "metadata": {},
   "outputs": [
    {
     "data": {
      "text/html": [
       "<div>\n",
       "<style scoped>\n",
       "    .dataframe tbody tr th:only-of-type {\n",
       "        vertical-align: middle;\n",
       "    }\n",
       "\n",
       "    .dataframe tbody tr th {\n",
       "        vertical-align: top;\n",
       "    }\n",
       "\n",
       "    .dataframe thead th {\n",
       "        text-align: right;\n",
       "    }\n",
       "</style>\n",
       "<table border=\"1\" class=\"dataframe\">\n",
       "  <thead>\n",
       "    <tr style=\"text-align: right;\">\n",
       "      <th></th>\n",
       "      <th>PCOS</th>\n",
       "      <th>hair growth</th>\n",
       "      <th>Skin darkening</th>\n",
       "      <th>Weight gain</th>\n",
       "      <th>BMI</th>\n",
       "      <th>Waist</th>\n",
       "      <th>Fast food</th>\n",
       "      <th>Pimples</th>\n",
       "    </tr>\n",
       "  </thead>\n",
       "  <tbody>\n",
       "    <tr>\n",
       "      <th>0</th>\n",
       "      <td>0.0</td>\n",
       "      <td>1.0</td>\n",
       "      <td>1.0</td>\n",
       "      <td>1.0</td>\n",
       "      <td>23.437500</td>\n",
       "      <td>32.0</td>\n",
       "      <td>0.0</td>\n",
       "      <td>1.0</td>\n",
       "    </tr>\n",
       "    <tr>\n",
       "      <th>1</th>\n",
       "      <td>0.0</td>\n",
       "      <td>1.0</td>\n",
       "      <td>1.0</td>\n",
       "      <td>1.0</td>\n",
       "      <td>30.110279</td>\n",
       "      <td>36.0</td>\n",
       "      <td>1.0</td>\n",
       "      <td>1.0</td>\n",
       "    </tr>\n",
       "    <tr>\n",
       "      <th>2</th>\n",
       "      <td>0.0</td>\n",
       "      <td>1.0</td>\n",
       "      <td>1.0</td>\n",
       "      <td>1.0</td>\n",
       "      <td>19.606329</td>\n",
       "      <td>32.0</td>\n",
       "      <td>1.0</td>\n",
       "      <td>1.0</td>\n",
       "    </tr>\n",
       "  </tbody>\n",
       "</table>\n",
       "</div>"
      ],
      "text/plain": [
       "   PCOS  hair growth  Skin darkening  Weight gain        BMI  Waist  \\\n",
       "0   0.0          1.0             1.0          1.0  23.437500   32.0   \n",
       "1   0.0          1.0             1.0          1.0  30.110279   36.0   \n",
       "2   0.0          1.0             1.0          1.0  19.606329   32.0   \n",
       "\n",
       "   Fast food  Pimples  \n",
       "0        0.0      1.0  \n",
       "1        1.0      1.0  \n",
       "2        1.0      1.0  "
      ]
     },
     "execution_count": 45,
     "metadata": {},
     "output_type": "execute_result"
    }
   ],
   "source": [
    "pcos_final_select = pcos[['PCOS','hair growth', 'Skin darkening', 'Weight gain','BMI','Waist','Fast food','Pimples']]\n",
    "pcos_final_select.head(3)"
   ]
  },
  {
   "cell_type": "code",
   "execution_count": null,
   "metadata": {},
   "outputs": [],
   "source": [
    "pcos_final_select.to_csv('../Data/pcos_final_select.csv',index=None)"
   ]
  }
 ],
 "metadata": {
  "kernelspec": {
   "display_name": "tensorflow",
   "language": "python",
   "name": "python3"
  },
  "language_info": {
   "codemirror_mode": {
    "name": "ipython",
    "version": 3
   },
   "file_extension": ".py",
   "mimetype": "text/x-python",
   "name": "python",
   "nbconvert_exporter": "python",
   "pygments_lexer": "ipython3",
   "version": "3.9.13"
  },
  "orig_nbformat": 4,
  "vscode": {
   "interpreter": {
    "hash": "75f222f31d8106ed7e1b9fc13cea3e71535ba3320824bf9a24772f72bb580fe7"
   }
  }
 },
 "nbformat": 4,
 "nbformat_minor": 2
}

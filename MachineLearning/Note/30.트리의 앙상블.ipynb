{
 "cells": [
  {
   "cell_type": "code",
   "execution_count": 1,
   "metadata": {},
   "outputs": [],
   "source": [
    "# Warning 생략\n",
    "import warnings\n",
    "warnings.filterwarnings('ignore')\n",
    "# Pandas\n",
    "import pandas as pd\n",
    "# Numpy\n",
    "import numpy as np\n",
    "# ML 저장\n",
    "import joblib\n",
    "# 그래프\n",
    "import matplotlib.pyplot as plt\n",
    "# Seaborn\n",
    "import seaborn as sns\n",
    "\n",
    "# ML Data 나누기\n",
    "from sklearn.model_selection import train_test_split\n",
    "# Decision Tree\n",
    "from sklearn.tree import DecisionTreeClassifier\n",
    "from sklearn import tree\n",
    "# Random Forest\n",
    "from sklearn.ensemble import RandomForestClassifier\n",
    "# SVM\n",
    "from sklearn import svm\n",
    "from sklearn.svm import SVC\n",
    "# Neural Net\n",
    "from sklearn.neural_network import MLPClassifier\n",
    "# QDA\n",
    "from sklearn.discriminant_analysis import QuadraticDiscriminantAnalysis\n",
    "# Naive Bayes\n",
    "from sklearn.naive_bayes import GaussianNB\n",
    "# AdaBoost\n",
    "from sklearn.ensemble import AdaBoostClassifier\n",
    "# Gaussian Process\n",
    "from sklearn.gaussian_process import GaussianProcessClassifier\n",
    "# KNN\n",
    "from sklearn.neighbors import KNeighborsClassifier\n",
    "# 회귀모델\n",
    "from sklearn.neighbors import KNeighborsRegressor\n",
    "# 선형회귀\n",
    "from sklearn.linear_model import LinearRegression\n",
    "# 표준화\n",
    "from sklearn.preprocessing import StandardScaler\n",
    "# 로지스틱 회귀 모델\n",
    "from sklearn.linear_model import LogisticRegression\n",
    "# KFold\n",
    "from sklearn.model_selection import StratifiedKFold\n",
    "# Gradient Boosting\n",
    "from sklearn.ensemble import GradientBoostingClassifier\n",
    "# 히스토그램기반 gradient boosting\n",
    "from sklearn.experimental import enable_hist_gradient_boosting\n",
    "from sklearn.ensemble import HistGradientBoostingClassifier\n",
    "# xgboost classifier\n",
    "from xgboost import XGBClassifier\n",
    "\n",
    "# 평균 절대값 오차\n",
    "from sklearn.metrics import mean_absolute_error\n",
    "\n",
    "from sklearn.model_selection import cross_val_score\n",
    "\n",
    "# 확률적 경사하강법의 분류 알고리즘 적용\n",
    "from sklearn.linear_model import SGDClassifier\n",
    "\n",
    "# 교차 검증\n",
    "from sklearn.model_selection import cross_validate\n",
    "\n",
    "\n",
    "# Cluster\n",
    "from sklearn.cluster import KMeans\n",
    "# Voting\n",
    "from sklearn.ensemble import VotingClassifier\n",
    "# 정확도 측정\n",
    "from sklearn.metrics import accuracy_score\n",
    "\n",
    "# 한글 폰트 문제 해결 \n",
    "# matplotlib은 한글 폰트를 지원하지 않음\n",
    "# os정보\n",
    "import platform\n",
    "\n",
    "# font_manager : 폰트 관리 모듈\n",
    "# rc : 폰트 변경 모듈\n",
    "from matplotlib import font_manager, rc\n",
    "# unicode 설정\n",
    "plt.rcParams['axes.unicode_minus'] = False\n",
    "\n",
    "if platform.system() == 'Darwin':\n",
    "    rc('font', family='AppleGothic') # os가 macos\n",
    "elif platform.system() == 'Windows':\n",
    "    path = 'c:/Windows/Fonts/malgun.ttf' # os가 windows\n",
    "    font_name = font_manager.FontProperties(fname=path).get_name()\n",
    "    rc('font', family=font_name)\n",
    "else:\n",
    "    print(\"Unknown System\")"
   ]
  },
  {
   "attachments": {},
   "cell_type": "markdown",
   "metadata": {},
   "source": [
    "### 앙상블(Ensemble)\n",
    "- 여러개의 분류 모델을 조합해서 더 나은 성능을 내는 방법\n",
    "- Decision Tree 모델을 증가시켜 나온 RandomForest가 대표적임."
   ]
  },
  {
   "attachments": {},
   "cell_type": "markdown",
   "metadata": {},
   "source": [
    "- bootstrap: 첫 번째 트리에서 데이터 뽑아서 사용하고 또 집어넣고 뽑아 쓰는 방식"
   ]
  },
  {
   "attachments": {},
   "cell_type": "markdown",
   "metadata": {},
   "source": [
    "#### RandomForest       \n",
    "- 부트스트랩 샘플을 사용합니다. 부트스트랩 샘플링은 중복을 허용하는 샘플링 방법     \n",
    "- 샘플링 후에 샘플을 다시 복구하고 다시 샘플링하는 방법입니다.      \n",
    "- 이와 같이 진행하는 이유는 결정트리에서 과대적합을 방지할 수 있기 때문이다.       \n",
    "- 각 결정트리에서 나오는 확률의 합을 트리개수로 나누어 결정짓는 모델        \n",
    "- 특성의 개수를 제곱근으로 합니다. (데이터 뽑을 때 개수: 루트를 씌워서 해당 개수만큼 뽑는다.)       "
   ]
  },
  {
   "cell_type": "code",
   "execution_count": 2,
   "metadata": {},
   "outputs": [
    {
     "data": {
      "text/html": [
       "<div>\n",
       "<style scoped>\n",
       "    .dataframe tbody tr th:only-of-type {\n",
       "        vertical-align: middle;\n",
       "    }\n",
       "\n",
       "    .dataframe tbody tr th {\n",
       "        vertical-align: top;\n",
       "    }\n",
       "\n",
       "    .dataframe thead th {\n",
       "        text-align: right;\n",
       "    }\n",
       "</style>\n",
       "<table border=\"1\" class=\"dataframe\">\n",
       "  <thead>\n",
       "    <tr style=\"text-align: right;\">\n",
       "      <th></th>\n",
       "      <th>alcohol</th>\n",
       "      <th>sugar</th>\n",
       "      <th>pH</th>\n",
       "      <th>class</th>\n",
       "    </tr>\n",
       "  </thead>\n",
       "  <tbody>\n",
       "    <tr>\n",
       "      <th>0</th>\n",
       "      <td>9.4</td>\n",
       "      <td>1.9</td>\n",
       "      <td>3.51</td>\n",
       "      <td>0.0</td>\n",
       "    </tr>\n",
       "    <tr>\n",
       "      <th>1</th>\n",
       "      <td>9.8</td>\n",
       "      <td>2.6</td>\n",
       "      <td>3.20</td>\n",
       "      <td>0.0</td>\n",
       "    </tr>\n",
       "    <tr>\n",
       "      <th>2</th>\n",
       "      <td>9.8</td>\n",
       "      <td>2.3</td>\n",
       "      <td>3.26</td>\n",
       "      <td>0.0</td>\n",
       "    </tr>\n",
       "    <tr>\n",
       "      <th>3</th>\n",
       "      <td>9.8</td>\n",
       "      <td>1.9</td>\n",
       "      <td>3.16</td>\n",
       "      <td>0.0</td>\n",
       "    </tr>\n",
       "    <tr>\n",
       "      <th>4</th>\n",
       "      <td>9.4</td>\n",
       "      <td>1.9</td>\n",
       "      <td>3.51</td>\n",
       "      <td>0.0</td>\n",
       "    </tr>\n",
       "  </tbody>\n",
       "</table>\n",
       "</div>"
      ],
      "text/plain": [
       "   alcohol  sugar    pH  class\n",
       "0      9.4    1.9  3.51    0.0\n",
       "1      9.8    2.6  3.20    0.0\n",
       "2      9.8    2.3  3.26    0.0\n",
       "3      9.8    1.9  3.16    0.0\n",
       "4      9.4    1.9  3.51    0.0"
      ]
     },
     "execution_count": 2,
     "metadata": {},
     "output_type": "execute_result"
    }
   ],
   "source": [
    "wine = pd.read_csv(\"../Data/wine.csv\")\n",
    "wine.head()"
   ]
  },
  {
   "cell_type": "code",
   "execution_count": 3,
   "metadata": {},
   "outputs": [],
   "source": [
    "# feature, target\n",
    "data = wine[['alcohol', 'sugar', 'pH']].to_numpy()\n",
    "target = wine['class'].to_numpy()"
   ]
  },
  {
   "cell_type": "code",
   "execution_count": 4,
   "metadata": {},
   "outputs": [],
   "source": [
    "# Train, Test\n",
    "train_input, test_input, train_target, test_target = \\\n",
    "    train_test_split(data, target, test_size=0.2, random_state=42)"
   ]
  },
  {
   "cell_type": "code",
   "execution_count": 6,
   "metadata": {},
   "outputs": [
    {
     "name": "stdout",
     "output_type": "stream",
     "text": [
      "0.9973541965122431 0.8905151032797809\n"
     ]
    }
   ],
   "source": [
    "rf = RandomForestClassifier(n_jobs=-1, random_state=42)\n",
    "scores = cross_validate(rf, train_input, train_target, return_train_score=True, n_jobs=-1)\n",
    "print(np.mean(scores['train_score']), np.mean(scores['test_score']))"
   ]
  },
  {
   "cell_type": "code",
   "execution_count": 7,
   "metadata": {},
   "outputs": [
    {
     "name": "stdout",
     "output_type": "stream",
     "text": [
      "[0.23167441 0.50039841 0.26792718]\n"
     ]
    }
   ],
   "source": [
    "# 주요 Feature 확인\n",
    "rf.fit(train_input, train_target)\n",
    "print(rf.feature_importances_)      # sugar가 중요하다.(중간, 슈가 값이 높음)"
   ]
  },
  {
   "cell_type": "code",
   "execution_count": 8,
   "metadata": {},
   "outputs": [
    {
     "data": {
      "text/plain": [
       "0.8934000384837406"
      ]
     },
     "execution_count": 8,
     "metadata": {},
     "output_type": "execute_result"
    }
   ],
   "source": [
    "# 부트스트랩 결정 시 남는 샘플(oob: out of back)도 특성으로 구분할 수 있다.\n",
    "# 만약 샘플 100개 중 10개를 뽑아서 사용했다면 나머지 90개 가지고도 예측할 수 있다.\n",
    "# 검증세트, valid 역할 할 수 있다.\n",
    "rf = RandomForestClassifier(oob_score=True, n_jobs=-1, random_state=42)\n",
    "rf.fit(train_input, train_target)\n",
    "rf.oob_score_"
   ]
  },
  {
   "attachments": {},
   "cell_type": "markdown",
   "metadata": {},
   "source": [
    "> oob를 사용해도 90%의 예측이 나온다        \n",
    "> 따로 검증셋을 구성하지 않아도 oob로 검증세트의 역할을 대신할 수 있다."
   ]
  },
  {
   "attachments": {},
   "cell_type": "markdown",
   "metadata": {},
   "source": [
    "> RandomForest는 기본값 만으로도 높은 성능을 발휘하므로 자주 사용되는 모델(알고리즘) 중 하나이다."
   ]
  },
  {
   "attachments": {},
   "cell_type": "markdown",
   "metadata": {},
   "source": [
    "---\n",
    "### Extra Tree\n",
    "- 기본적으로 100개의 트리를 사용        \n",
    "- 노드 분할 시 특성의 제곱근을 개수로 사용      \n",
    "- 특성의 선택을 랜덤하게 선택한다.      \n",
    "- 특성의 선택을 랜덤하게 하므로 속도는 랜덤포레스트보다 빠르다.     "
   ]
  },
  {
   "attachments": {},
   "cell_type": "markdown",
   "metadata": {},
   "source": []
  },
  {
   "cell_type": "code",
   "execution_count": 9,
   "metadata": {},
   "outputs": [
    {
     "name": "stdout",
     "output_type": "stream",
     "text": [
      "0.9974503966084433 0.8887848893166506\n"
     ]
    }
   ],
   "source": [
    "from sklearn.ensemble import ExtraTreesClassifier\n",
    "\n",
    "et = ExtraTreesClassifier(n_jobs=-1, random_state=42)\n",
    "scores = cross_validate(et, train_input, train_target, return_train_score=True, n_jobs=-1)\n",
    "print(np.mean(scores['train_score']), np.mean(scores['test_score']))"
   ]
  },
  {
   "cell_type": "code",
   "execution_count": 10,
   "metadata": {},
   "outputs": [
    {
     "data": {
      "text/plain": [
       "array([0.20183568, 0.52242907, 0.27573525])"
      ]
     },
     "execution_count": 10,
     "metadata": {},
     "output_type": "execute_result"
    }
   ],
   "source": [
    "et.fit(train_input, train_target)\n",
    "et.feature_importances_     # 역시 설탕이 높다"
   ]
  },
  {
   "attachments": {},
   "cell_type": "markdown",
   "metadata": {},
   "source": [
    "---\n",
    "### Gradient Boostring\n",
    "- 가장 유명한 알고리즘 중 하나이다.     \n",
    "- 경사하강법처럼 손실함수를 사용.       \n",
    "- 손실함수를 보고 트리를 추가하여 최적의 값 도출하는 방법       \n",
    "- 경사를 이동하면서 경사의 이동거리를 제어하는 learning-rate(default: 0.1)를 사용한다.     *learning-rate: 경사 이동률(증가율)\n",
    "- max depth를 3으로 제어하여 깊이가 낮으므로 과대적합 방지\n",
    "- 단점은 손실함수를 보고 트리를 추가하면서 진행하는 모델이므로 병렬처리를 할 수 없다.(multi-processing 못함)"
   ]
  },
  {
   "cell_type": "code",
   "execution_count": 11,
   "metadata": {},
   "outputs": [
    {
     "name": "stdout",
     "output_type": "stream",
     "text": [
      "0.8881086892152563 0.8720430147331015\n"
     ]
    }
   ],
   "source": [
    "from sklearn.ensemble import GradientBoostingClassifier\n",
    "gb = GradientBoostingClassifier(random_state=42)\n",
    "scores = cross_validate(gb, train_input, train_target, return_train_score=True, n_jobs=-1)\n",
    "print(np.mean(scores['train_score']), np.mean(scores['test_score']))"
   ]
  },
  {
   "attachments": {},
   "cell_type": "markdown",
   "metadata": {},
   "source": [
    "tree 추가를 500개까지하고 learning rate를 0.2로 변경"
   ]
  },
  {
   "cell_type": "code",
   "execution_count": 12,
   "metadata": {},
   "outputs": [
    {
     "name": "stdout",
     "output_type": "stream",
     "text": [
      "0.9464595437171814 0.8780082549788999\n"
     ]
    }
   ],
   "source": [
    "gb = GradientBoostingClassifier(n_estimators=500, learning_rate=0.2, random_state=42)\n",
    "scores = cross_validate(gb, train_input, train_target, return_train_score=True, n_jobs=-1)\n",
    "print(np.mean(scores['train_score']), np.mean(scores['test_score']))"
   ]
  },
  {
   "cell_type": "code",
   "execution_count": 13,
   "metadata": {},
   "outputs": [
    {
     "data": {
      "text/plain": [
       "array([0.15872278, 0.68010884, 0.16116839])"
      ]
     },
     "execution_count": 13,
     "metadata": {},
     "output_type": "execute_result"
    }
   ],
   "source": [
    "gb.fit(train_input, train_target)\n",
    "gb.feature_importances_     # 역시 설탕이 높다"
   ]
  },
  {
   "attachments": {},
   "cell_type": "markdown",
   "metadata": {},
   "source": [
    "---\n",
    "### 히스토그램 기반 그래디언트 부스팅(Histogram gradient boosting)\n",
    "- 훈련데이터를 256개 구간으로 나누어서 훈련시키는 방법.\n",
    "- 특성의 범위가 제한되어 있어 빠른 속도를 제공한다.\n",
    "- 제한된 구간이므로 과대적합을 방지한다.\n",
    "- 아직은 실험단계인 모델이다."
   ]
  },
  {
   "cell_type": "code",
   "execution_count": 16,
   "metadata": {},
   "outputs": [
    {
     "name": "stdout",
     "output_type": "stream",
     "text": [
      "0.9321723946453317 0.8801241948619236\n"
     ]
    }
   ],
   "source": [
    "# from sklearn.experimental import enable_hist_gradient_boosting\n",
    "# from sklearn.ensemble import HistGradientBoostingClassifier\n",
    "\n",
    "hgb = HistGradientBoostingClassifier(random_state=42)\n",
    "scores = cross_validate(hgb, train_input, train_target, return_train_score=True, n_jobs=-1)\n",
    "print(np.mean(scores['train_score']), np.mean(scores['test_score']))"
   ]
  },
  {
   "attachments": {},
   "cell_type": "markdown",
   "metadata": {},
   "source": [
    "### XGBoost\n",
    "- kaggle에서 많이 사용\n",
    "- 왠만한 xgboost는 랜덤포레스트 이김 "
   ]
  },
  {
   "cell_type": "code",
   "execution_count": 17,
   "metadata": {},
   "outputs": [
    {
     "name": "stdout",
     "output_type": "stream",
     "text": [
      "Collecting xgboost\n",
      "  Downloading xgboost-1.7.3-py3-none-macosx_12_0_arm64.whl (1.6 MB)\n",
      "\u001b[2K     \u001b[90m━━━━━━━━━━━━━━━━━━━━━━━━━━━━━━━━━━━━━━━━\u001b[0m \u001b[32m1.6/1.6 MB\u001b[0m \u001b[31m13.7 MB/s\u001b[0m eta \u001b[36m0:00:00\u001b[0m00:01\u001b[0m00:01\u001b[0m\n",
      "\u001b[?25hRequirement already satisfied: scipy in /Users/annakim/miniforge3/envs/tensorflow/lib/python3.9/site-packages (from xgboost) (1.10.0)\n",
      "Requirement already satisfied: numpy in /Users/annakim/miniforge3/envs/tensorflow/lib/python3.9/site-packages (from xgboost) (1.23.2)\n",
      "Installing collected packages: xgboost\n",
      "Successfully installed xgboost-1.7.3\n"
     ]
    }
   ],
   "source": [
    "# !pip install xgboost"
   ]
  },
  {
   "cell_type": "code",
   "execution_count": 19,
   "metadata": {},
   "outputs": [
    {
     "name": "stdout",
     "output_type": "stream",
     "text": [
      "[18:10:03] WARNING: /Users/runner/work/xgboost/xgboost/python-package/build/temp.macosx-11.0-arm64-cpython-38/xgboost/src/learner.cc:767: \n",
      "Parameters: { \"eval_metrics\" } are not used.\n",
      "[18:10:03] WARNING: /Users/runner/work/xgboost/xgboost/python-package/build/temp.macosx-11.0-arm64-cpython-38/xgboost/src/learner.cc:767: \n",
      "Parameters: { \"eval_metrics\" } are not used.\n",
      "\n",
      "\n",
      "[18:10:03] WARNING: /Users/runner/work/xgboost/xgboost/python-package/build/temp.macosx-11.0-arm64-cpython-38/xgboost/src/learner.cc:767: \n",
      "Parameters: { \"eval_metrics\" } are not used.\n",
      "\n",
      "[18:10:04] WARNING: /Users/runner/work/xgboost/xgboost/python-package/build/temp.macosx-11.0-arm64-cpython-38/xgboost/src/learner.cc:767: \n",
      "Parameters: { \"eval_metrics\" } are not used.\n",
      "\n",
      "[18:10:04] WARNING: /Users/runner/work/xgboost/xgboost/python-package/build/temp.macosx-11.0-arm64-cpython-38/xgboost/src/learner.cc:767: \n",
      "Parameters: { \"eval_metrics\" } are not used.\n",
      "\n",
      "0.9555033709953124 0.8799326275264677\n"
     ]
    }
   ],
   "source": [
    "from xgboost import XGBClassifier\n",
    "\n",
    "xgb = XGBClassifier(\n",
    "    tree_method = 'hist',\n",
    "    random_state = 42,\n",
    "    use_label_encoder = False,\n",
    "    eval_metrics = 'logloss',   #히스토그램 모듈(히스토그램 그레디언트 부스팅) 가져다 쓰겠다. \n",
    ")\n",
    "scores = cross_validate(xgb, train_input, train_target, return_train_score=True, n_jobs=-1)\n",
    "print(np.mean(scores['train_score']), np.mean(scores['test_score']))"
   ]
  },
  {
   "attachments": {},
   "cell_type": "markdown",
   "metadata": {},
   "source": [
    "---\n",
    "# 번외 기능 - feature 컬럼 선택할 때 사용하면 좋다.\n",
    "#### Permutation Importance(치환 중요도)\n",
    "- 어느 Feature 컬럼이 중요한 지 파악하는 것이 중요하다.\n",
    "- 각 Feature별 Sample을 섞어서 계산을 한 후에 원래 Sample들과의 차이를 계산해서 차이가 많이 나는 Feature가 중요하다고 판단.\n",
    "- 즉, 어느 Feature가 중요한 지 파악하는 방법\n",
    "- 어떤 모델에도 사용가능하며 특성을 파악하는 주요 기준으로 사용된다. (권장사항)\n"
   ]
  },
  {
   "cell_type": "code",
   "execution_count": 22,
   "metadata": {},
   "outputs": [
    {
     "name": "stdout",
     "output_type": "stream",
     "text": [
      "[18:18:05] WARNING: /Users/runner/work/xgboost/xgboost/python-package/build/temp.macosx-11.0-arm64-cpython-38/xgboost/src/learner.cc:767: \n",
      "Parameters: { \"eval_metrics\" } are not used.\n",
      "\n"
     ]
    },
    {
     "data": {
      "text/plain": [
       "array([0.11306523, 0.25508947, 0.10696556])"
      ]
     },
     "execution_count": 22,
     "metadata": {},
     "output_type": "execute_result"
    }
   ],
   "source": [
    "from sklearn.inspection import permutation_importance\n",
    "\n",
    "xgb.fit(train_input, train_target)\n",
    "result = permutation_importance(xgb, train_input, train_target, n_repeats=10, random_state=42, n_jobs=-1)\n",
    "result.importances_mean"
   ]
  },
  {
   "cell_type": "code",
   "execution_count": 23,
   "metadata": {},
   "outputs": [
    {
     "data": {
      "text/plain": [
       "array([0.09661343, 0.24265923, 0.09120647])"
      ]
     },
     "execution_count": 23,
     "metadata": {},
     "output_type": "execute_result"
    }
   ],
   "source": [
    "gb.fit(train_input, train_target)\n",
    "result = permutation_importance(gb, train_input, train_target, n_repeats=10, random_state=42, n_jobs=-1)\n",
    "result.importances_mean"
   ]
  },
  {
   "attachments": {},
   "cell_type": "markdown",
   "metadata": {},
   "source": [
    "---\n",
    "# 앙상블 정리\n",
    "- 앙상블 학습은 정형데이터에서 가장 뛰어난 성능을 내는 머신러닝 알고리즘 중 하나입니다.\n",
    "        \n",
    "#### 랜덤포레스트\n",
    ": 부트스트랩 샘플 사용, 대표 앙상블 학습 알고리즘   \n",
    "\n",
    "#### 엑스트라 트리\n",
    ": 결정트리의 노드를 랜덤하게 분할함.    \n",
    "\n",
    "#### 그레디언트 부스팅\n",
    ": 트리의 손실을 보완하는 식으로 얕은 결정트리를 연속하여 추가함.\n",
    "\n",
    "#### 히스토그램 기반 그레디언트 부스팅\n",
    ": 훈련 데이터를 256개 정수 구간으로 나누어 빠르고 높은 성능을 냄.\n",
    "\n",
    "#### 기타\n",
    "- XGBoost"
   ]
  },
  {
   "cell_type": "code",
   "execution_count": null,
   "metadata": {},
   "outputs": [],
   "source": []
  }
 ],
 "metadata": {
  "kernelspec": {
   "display_name": "tensorflow",
   "language": "python",
   "name": "python3"
  },
  "language_info": {
   "codemirror_mode": {
    "name": "ipython",
    "version": 3
   },
   "file_extension": ".py",
   "mimetype": "text/x-python",
   "name": "python",
   "nbconvert_exporter": "python",
   "pygments_lexer": "ipython3",
   "version": "3.9.13"
  },
  "orig_nbformat": 4,
  "vscode": {
   "interpreter": {
    "hash": "75f222f31d8106ed7e1b9fc13cea3e71535ba3320824bf9a24772f72bb580fe7"
   }
  }
 },
 "nbformat": 4,
 "nbformat_minor": 2
}

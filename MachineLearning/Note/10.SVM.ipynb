{
 "cells": [
  {
   "attachments": {},
   "cell_type": "markdown",
   "id": "84eae75d",
   "metadata": {},
   "source": [
    "### SVM을 활용한 비만도(BMI) 측정 예측\n",
    "- BMI = 몸무게(kg) / (키(m)*키(m))\n",
    "- BMI가 18.5이상 25미만 일때가 표준 몸무게 입니다."
   ]
  },
  {
   "cell_type": "code",
   "execution_count": 41,
   "id": "708573aa",
   "metadata": {},
   "outputs": [
    {
     "name": "stdout",
     "output_type": "stream",
     "text": [
      "ok {'thin': 6460, 'normal': 5961, 'fat': 7579}\n"
     ]
    }
   ],
   "source": [
    "# 키(cm), 몸무게(kg), Label: thin, normal, fat\n",
    "\n",
    "# 데이터 만들기\n",
    "import random\n",
    "\n",
    "def calc_bmi(h, w):\n",
    "    bmi = w / (h/100)**2\n",
    "    if bmi < 18.5: return 'thin'\n",
    "    if bmi < 25: return 'normal'\n",
    "    return 'fat'\n",
    "\n",
    "# 출력 파일 준비\n",
    "fp = open(\"../Data/bmi.csv\", 'w', encoding='utf-8')\n",
    "fp.write('height,weight,label\\r\\n')\n",
    "\n",
    "# 무작위로 데이터 생성하기\n",
    "cnt = {'thin':0, 'normal':0, 'fat':0}\n",
    "\n",
    "for i in range(20000):\n",
    "    h = random.randint(120, 200)\n",
    "    w = random.randint(35, 80)\n",
    "    label = calc_bmi(h,w)\n",
    "    cnt[label] += 1\n",
    "    fp.write('{0}, {1}, {2}\\r\\n'.format(h,w,label))\n",
    "fp.close()\n",
    "print('ok', cnt)"
   ]
  },
  {
   "attachments": {},
   "cell_type": "markdown",
   "id": "1bc0b0f4",
   "metadata": {},
   "source": [
    "--- \n",
    "## BMI 예측"
   ]
  },
  {
   "cell_type": "code",
   "execution_count": 39,
   "id": "31512e97",
   "metadata": {},
   "outputs": [],
   "source": [
    "import pandas as pd"
   ]
  },
  {
   "cell_type": "code",
   "execution_count": 42,
   "id": "e24b92fe",
   "metadata": {},
   "outputs": [],
   "source": [
    "tbl = pd.read_csv(\"../Data/bmi.csv\")\n",
    "\n",
    "label = tbl.label\n",
    "w = tbl.weight\n",
    "h = tbl.height\n",
    "wh = pd.concat([w,h], axis=1)"
   ]
  },
  {
   "cell_type": "code",
   "execution_count": 43,
   "id": "3e8589ac",
   "metadata": {},
   "outputs": [],
   "source": [
    "from sklearn.model_selection import train_test_split\n",
    "train_data, test_data, train_label, test_label = train_test_split(wh, label, stratify=label)"
   ]
  },
  {
   "cell_type": "code",
   "execution_count": 45,
   "id": "83b981e4",
   "metadata": {},
   "outputs": [
    {
     "data": {
      "text/plain": [
       "0.9932"
      ]
     },
     "execution_count": 45,
     "metadata": {},
     "output_type": "execute_result"
    }
   ],
   "source": [
    "from sklearn import svm\n",
    "clf = svm.SVC()\n",
    "clf.fit(train_data, train_label)\n",
    "clf.score(test_data, test_label)"
   ]
  },
  {
   "cell_type": "code",
   "execution_count": null,
   "id": "513289fe",
   "metadata": {},
   "outputs": [],
   "source": []
  }
 ],
 "metadata": {
  "kernelspec": {
   "display_name": "tensorflow",
   "language": "python",
   "name": "python3"
  },
  "language_info": {
   "codemirror_mode": {
    "name": "ipython",
    "version": 3
   },
   "file_extension": ".py",
   "mimetype": "text/x-python",
   "name": "python",
   "nbconvert_exporter": "python",
   "pygments_lexer": "ipython3",
   "version": "3.9.13"
  },
  "vscode": {
   "interpreter": {
    "hash": "75f222f31d8106ed7e1b9fc13cea3e71535ba3320824bf9a24772f72bb580fe7"
   }
  }
 },
 "nbformat": 4,
 "nbformat_minor": 5
}

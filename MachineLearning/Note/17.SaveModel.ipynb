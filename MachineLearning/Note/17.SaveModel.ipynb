{
 "cells": [
  {
   "cell_type": "code",
   "execution_count": 1,
   "metadata": {},
   "outputs": [],
   "source": [
    "import pandas as pd"
   ]
  },
  {
   "cell_type": "code",
   "execution_count": 2,
   "id": "fa33619b",
   "metadata": {},
   "outputs": [
    {
     "data": {
      "text/plain": [
       "0.9736842105263158"
      ]
     },
     "execution_count": 2,
     "metadata": {},
     "output_type": "execute_result"
    }
   ],
   "source": [
    "csv = pd.read_csv(\"../Data/iris.csv\")\n",
    "\n",
    "csv_data = csv[['SepalLength', 'SepalWidth', 'PetalLength', 'PetalWidth']]\n",
    "csv_label = csv['Name']\n",
    "\n",
    "from sklearn.model_selection import train_test_split\n",
    "train_data, test_data, train_label, test_label = train_test_split(csv_data, csv_label, \n",
    "                                    stratify=csv_label)\n",
    "\n",
    "from sklearn.ensemble import RandomForestClassifier\n",
    "clf = RandomForestClassifier()\n",
    "clf.fit(train_data, train_label)\n",
    "clf.score(test_data, test_label)"
   ]
  },
  {
   "cell_type": "code",
   "execution_count": 3,
   "id": "4bdbeb00",
   "metadata": {},
   "outputs": [
    {
     "data": {
      "text/plain": [
       "['../Data/rf_iris.h5']"
      ]
     },
     "execution_count": 3,
     "metadata": {},
     "output_type": "execute_result"
    }
   ],
   "source": [
    "# 모델 저장하기\n",
    "import joblib\n",
    "filename = \"../Data/rf_iris.h5\"\n",
    "joblib.dump(clf, filename)"
   ]
  },
  {
   "attachments": {},
   "cell_type": "markdown",
   "id": "55fa52e9",
   "metadata": {},
   "source": [
    "HDF5를 이해하는 가장 중요한 개념은 그룹, 데이터셋, 속성\n",
    "그룹 = 디렉토리, 데이터셋 = 파일, 속성 = 메타데이터(이미지 - 장소, 위도, 경도 등등 다양한 정보 담고 있음)"
   ]
  },
  {
   "cell_type": "code",
   "execution_count": null,
   "id": "885edb06",
   "metadata": {},
   "outputs": [],
   "source": []
  }
 ],
 "metadata": {
  "kernelspec": {
   "display_name": "tensorflow",
   "language": "python",
   "name": "python3"
  },
  "language_info": {
   "codemirror_mode": {
    "name": "ipython",
    "version": 3
   },
   "file_extension": ".py",
   "mimetype": "text/x-python",
   "name": "python",
   "nbconvert_exporter": "python",
   "pygments_lexer": "ipython3",
   "version": "3.9.13"
  },
  "vscode": {
   "interpreter": {
    "hash": "75f222f31d8106ed7e1b9fc13cea3e71535ba3320824bf9a24772f72bb580fe7"
   }
  }
 },
 "nbformat": 4,
 "nbformat_minor": 5
}

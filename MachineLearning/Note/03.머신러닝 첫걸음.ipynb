{
 "cells": [
  {
   "attachments": {},
   "cell_type": "markdown",
   "id": "0e1c8dae",
   "metadata": {},
   "source": [
    "### 머신러닝 프레임 워크 : scikit-learn\n",
    ": 다양한 분류기(model, ex: randomforest 등등)를 지원하며 검증하는 기능, 분류, 회귀, 클러스터링, 차원축소법이 가능하며 샘플 데이터도 제공한다. "
   ]
  },
  {
   "cell_type": "code",
   "execution_count": 4,
   "metadata": {},
   "outputs": [
    {
     "data": {
      "text/plain": [
       "[[0, 0, 0], [0, 1, 1], [1, 0, 1], [1, 1, 0]]"
      ]
     },
     "execution_count": 4,
     "metadata": {},
     "output_type": "execute_result"
    }
   ],
   "source": [
    "# XOR(exclusive Or) 연산 학습해 보기\n",
    "xor_input = [\n",
    "    [0,0,0],  #0, 0일때 답은 0\n",
    "    [0,1,1],\n",
    "    [1,0,1],\n",
    "    [1,1,0],\n",
    "]\n",
    "xor_input"
   ]
  },
  {
   "cell_type": "code",
   "execution_count": 3,
   "id": "2ec36ca5",
   "metadata": {},
   "outputs": [],
   "source": [
    "# 학습 전용 데이터와 테스트 전용 데이터로 분류\n",
    "import pandas as pd"
   ]
  },
  {
   "cell_type": "code",
   "execution_count": 8,
   "id": "7199caff",
   "metadata": {},
   "outputs": [
    {
     "data": {
      "text/html": [
       "<div>\n",
       "<style scoped>\n",
       "    .dataframe tbody tr th:only-of-type {\n",
       "        vertical-align: middle;\n",
       "    }\n",
       "\n",
       "    .dataframe tbody tr th {\n",
       "        vertical-align: top;\n",
       "    }\n",
       "\n",
       "    .dataframe thead th {\n",
       "        text-align: right;\n",
       "    }\n",
       "</style>\n",
       "<table border=\"1\" class=\"dataframe\">\n",
       "  <thead>\n",
       "    <tr style=\"text-align: right;\">\n",
       "      <th></th>\n",
       "      <th>0</th>\n",
       "      <th>1</th>\n",
       "      <th>2</th>\n",
       "    </tr>\n",
       "  </thead>\n",
       "  <tbody>\n",
       "    <tr>\n",
       "      <th>0</th>\n",
       "      <td>0</td>\n",
       "      <td>0</td>\n",
       "      <td>0</td>\n",
       "    </tr>\n",
       "    <tr>\n",
       "      <th>1</th>\n",
       "      <td>0</td>\n",
       "      <td>1</td>\n",
       "      <td>1</td>\n",
       "    </tr>\n",
       "    <tr>\n",
       "      <th>2</th>\n",
       "      <td>1</td>\n",
       "      <td>0</td>\n",
       "      <td>1</td>\n",
       "    </tr>\n",
       "    <tr>\n",
       "      <th>3</th>\n",
       "      <td>1</td>\n",
       "      <td>1</td>\n",
       "      <td>0</td>\n",
       "    </tr>\n",
       "  </tbody>\n",
       "</table>\n",
       "</div>"
      ],
      "text/plain": [
       "   0  1  2\n",
       "0  0  0  0\n",
       "1  0  1  1\n",
       "2  1  0  1\n",
       "3  1  1  0"
      ]
     },
     "execution_count": 8,
     "metadata": {},
     "output_type": "execute_result"
    }
   ],
   "source": [
    "xor_df"
   ]
  },
  {
   "cell_type": "code",
   "execution_count": 11,
   "id": "faa45ccb",
   "metadata": {},
   "outputs": [
    {
     "name": "stdout",
     "output_type": "stream",
     "text": [
      "   0  1\n",
      "0  0  0\n",
      "1  0  1\n",
      "2  1  0\n",
      "3  1  1\n",
      "----------\n",
      "0    0\n",
      "1    1\n",
      "2    1\n",
      "3    0\n",
      "Name: 2, dtype: int64\n"
     ]
    }
   ],
   "source": [
    "xor_df = pd.DataFrame(xor_input)\n",
    "xor_data = xor_df.iloc[:,0:2]\n",
    "xor_label = xor_df.iloc[:,2]\n",
    "\n",
    "print(xor_data)\n",
    "print(\"-\" * 10)\n",
    "print(xor_label)"
   ]
  },
  {
   "cell_type": "code",
   "execution_count": 9,
   "id": "fcb91288",
   "metadata": {},
   "outputs": [],
   "source": [
    "# 데이터 학습과 예측하기\n",
    "from sklearn import svm, metrics\n",
    "# metrics: ??"
   ]
  },
  {
   "cell_type": "code",
   "execution_count": 12,
   "id": "d47edc19",
   "metadata": {},
   "outputs": [
    {
     "data": {
      "text/plain": [
       "array([0, 1, 1, 0])"
      ]
     },
     "execution_count": 12,
     "metadata": {},
     "output_type": "execute_result"
    }
   ],
   "source": [
    "#python 은 instance 만들어서 작업 한다.\n",
    "#SVC(classification), SVR(Regression)\n",
    "clf = svm.SVC()\n",
    "clf.fit(xor_data, xor_label)    # 공부시킨다.\n",
    "pred = clf.predict(xor_data)    # 예측\n",
    "pred"
   ]
  },
  {
   "cell_type": "code",
   "execution_count": 14,
   "id": "3914ec0f",
   "metadata": {},
   "outputs": [
    {
     "data": {
      "text/plain": [
       "1.0"
      ]
     },
     "execution_count": 14,
     "metadata": {},
     "output_type": "execute_result"
    }
   ],
   "source": [
    "# 정답율 구하기\n",
    "metrics.accuracy_score(xor_label, pred)     #(원래 답, 내가 구한 답), R 방식"
   ]
  },
  {
   "cell_type": "code",
   "execution_count": 18,
   "id": "2d73f37f",
   "metadata": {},
   "outputs": [
    {
     "data": {
      "text/plain": [
       "1.0"
      ]
     },
     "execution_count": 18,
     "metadata": {},
     "output_type": "execute_result"
    }
   ],
   "source": [
    "clf = svm.SVC()\n",
    "clf.fit(xor_data, xor_label)    # 공부시킨다.\n",
    "clf.score(xor_data, xor_label)  # python은 pred 없이도 바로 정답율 구할 수 있다. "
   ]
  },
  {
   "cell_type": "code",
   "execution_count": null,
   "id": "c0f7d20f",
   "metadata": {},
   "outputs": [],
   "source": []
  }
 ],
 "metadata": {
  "kernelspec": {
   "display_name": "tensorflow",
   "language": "python",
   "name": "python3"
  },
  "language_info": {
   "codemirror_mode": {
    "name": "ipython",
    "version": 3
   },
   "file_extension": ".py",
   "mimetype": "text/x-python",
   "name": "python",
   "nbconvert_exporter": "python",
   "pygments_lexer": "ipython3",
   "version": "3.9.13"
  },
  "vscode": {
   "interpreter": {
    "hash": "75f222f31d8106ed7e1b9fc13cea3e71535ba3320824bf9a24772f72bb580fe7"
   }
  }
 },
 "nbformat": 4,
 "nbformat_minor": 5
}

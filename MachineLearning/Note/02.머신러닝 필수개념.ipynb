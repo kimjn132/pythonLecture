{
 "cells": [
  {
   "attachments": {},
   "cell_type": "markdown",
   "metadata": {},
   "source": [
    "# 지도학습과 비지도 학습\n",
    "학습 : 데이터를 특별한 알고리즘에 적용해 MachineLearning(ML)모델을 정의된 문제에 최적화(가장 근접한 답을 내놓는 것 - 정답을 찾는 것이 아니다(y^ 값)) 시키는 과정"
   ]
  },
  {
   "attachments": {},
   "cell_type": "markdown",
   "metadata": {},
   "source": [
    "### 지도학습(SL, Supervised Learning)\n",
    "- 비지도학습을 제외하고는 모두 지도학습(지도학습 예시: iris품종)\n",
    "- 정답을 알려주면서 진행하는 학습\n",
    "- 데이터의 원래값 : 실제값, 정답 - 레이블(label), 타겟(Target) - 클래스, y값\n",
    "- ML 모델을 통해 예측한 값: 예측값, 분류값, y^(hat)\n",
    "- 예) 분류, 회귀"
   ]
  },
  {
   "attachments": {},
   "cell_type": "markdown",
   "metadata": {},
   "source": [
    "### 비지도학습(UL, Unsupervised Learning)\n",
    "- 정답(레이블) 없이 진행하는 학습\n",
    "- 데이터 자체에서 패턴을 찾아내야 할 때 사용\n",
    "- 예) 군집화(clustering), 차원축소(dimension reduction, princomp - 주성분 분석 for 퍼포먼스, 속도: 예) 자율주행차 빠른 속도를 위해)"
   ]
  },
  {
   "attachments": {},
   "cell_type": "markdown",
   "metadata": {},
   "source": [
    "### 분류와 회귀\n",
    "- 분류는 범주형 데이터로 예측: 객관식\n",
    "- 회귀는 연속형 데이터로 예측: 주관식"
   ]
  },
  {
   "attachments": {},
   "cell_type": "markdown",
   "metadata": {},
   "source": [
    "##### 분류 (Classification)\n",
    "- 데이터가 입력 되었을 때 지도학습을 통해 학습된 Label(정답, 타겟, 클래스)중 하나 또는 여러개의 Label로 예측\n",
    "- 이진분류(binary classification)\n",
    ": 둘 중 하나의 값으로 분류하는 경우 (sigmoid함수) ex) titanic - Survived(0,1)\n",
    "- 다중분류(multi classification) \n",
    ": 여러 개의 분류값 중 하나로 예측 (softmax 함수) ex)iris-setosa, versicolor 등등"
   ]
  },
  {
   "attachments": {},
   "cell_type": "markdown",
   "metadata": {},
   "source": [
    "------\n",
    "## 과대적합(overfitting) vs. 과소적합(underfitting)\n",
    "- 과대적합 : 필요 이상의 특징(column: 중복되는 컬럼이 많은 경우)으로 학습하는 경우 (Training 예측력 > Test 예측력)\n",
    "- 과소적합 : 데이터에서 충분히 특징을 찾아 내지 못하고 ML모델을 학습할 경우(Training 예측력 < Test 예측력): 쓰면 안됨"
   ]
  },
  {
   "attachments": {},
   "cell_type": "markdown",
   "metadata": {},
   "source": [
    "#### 과소적합\n",
    "- 보통 테스트 데이터뿐만 아니라 학습 데이터에 대해서도 정확도가 낮게 나올경우, 과소적합 모델이 나올 가능성이 높음\n",
    "- 과소적합은 드문 일이고, 절대 사용하면 안된다. 차라리 과대적합에서 맞춰가는 게 낫다."
   ]
  },
  {
   "attachments": {},
   "cell_type": "markdown",
   "metadata": {},
   "source": [
    "#### 과대적합\n",
    "- 학습 데이터 외의 데이터에서 정확도가 낮게 나오는 모델(배운 건 잘하고 실전에 약한 경우)\n",
    "- 데이터 특징들의 수치값을 정규화 함으로써 특정 특징에 의한 편향(bias : y = ax + b에서 b)을 줄이는 것이 과대적합을 피하는 좋은 방법\n",
    "- 딥러닝의 경우 조기종료(early stopping), 드롭아웃(drop out)을 사용해 과대적합을 피할 수 있다.\n",
    "    - 조기 종료: 함수선이 점점 예측값에 가까워지는 과정에서 조기 종료\n",
    "    - 드롭 아웃: 데이터 예측력이 과대적합이라 컬럼을 일부 제거해서 예측"
   ]
  },
  {
   "attachments": {},
   "cell_type": "markdown",
   "metadata": {},
   "source": [
    "---\n",
    "### 혼동행렬(confusion matrix)\n",
    "- 모델의 성능을 평가할 때 사용하는 지표(예측값 - 실제값으로 정오표 테이블)\n",
    "- 실제값과 예측값을 비교하여 실제값에 예측값이 얼마나 일치하는지 파악\n",
    "- 모델의 성능은 혼동행렬에 기반한 단 하나의 수치로 표현 가능"
   ]
  },
  {
   "attachments": {},
   "cell_type": "markdown",
   "metadata": {},
   "source": [
    "### 머신러닝 모델의 성능 평가\n",
    "- TP(True Positive): 맞는 것을 올바르게 예측한 것\n",
    "- TN(True Negative): 틀린 것을 올바르게 예측한 것\n",
    "- FP(False Positive): 틀린 것을 맞다고 잘못 예측한 것\n",
    "- FN(False Negative): 맞는 것을 틀렸다고 잘못 예측한 것"
   ]
  },
  {
   "attachments": {},
   "cell_type": "markdown",
   "metadata": {},
   "source": [
    "### 정확도(Accuracy)\n",
    "- 혼동행렬 상 TP를 전체 셀로 나눈 값(TP/All)"
   ]
  },
  {
   "attachments": {},
   "cell_type": "markdown",
   "metadata": {},
   "source": [
    "<img width=\"673\" alt=\"머신러닝 모델의 성능평가\" src=\"https://user-images.githubusercontent.com/104209276/216758574-6e9d8d34-89d8-4f4f-bf2a-a48169681fa7.png\">"
   ]
  },
  {
   "cell_type": "code",
   "execution_count": 1,
   "metadata": {},
   "outputs": [
    {
     "name": "stdout",
     "output_type": "stream",
     "text": [
      "정확도: 78.75%\n"
     ]
    }
   ],
   "source": [
    "print(f'정확도: {(9+15+24+15) / 80 * 100}%')"
   ]
  },
  {
   "attachments": {},
   "cell_type": "markdown",
   "metadata": {},
   "source": [
    "### 정밀도(Precision)\n",
    "- 각 모델의 예측값이 얼마나 정확하게 예측되었는가를 나타내는 지표\n",
    "- TP/(TP+FP)"
   ]
  },
  {
   "attachments": {},
   "cell_type": "markdown",
   "metadata": {},
   "source": [
    "<img width=\"623\" alt=\"머신러닝 모델의 성능 평가(1)\" src=\"https://user-images.githubusercontent.com/104209276/216758694-24d24f8f-9fdf-419c-8740-2bbd2973f19d.png\">"
   ]
  },
  {
   "cell_type": "code",
   "execution_count": 6,
   "metadata": {},
   "outputs": [
    {
     "name": "stdout",
     "output_type": "stream",
     "text": [
      "A 모델 암환자 정밀도: 0.23076923076923078\n",
      "B 모델 암환자 정밀도: 0.047619047619047616\n"
     ]
    }
   ],
   "source": [
    "print(f'A 모델 암환자 정밀도: {(9) / (9+30)}')\n",
    "print(f'B 모델 암환자 정밀도: {(1) / (1+20)}')"
   ]
  },
  {
   "attachments": {},
   "cell_type": "markdown",
   "metadata": {},
   "source": [
    "### 재현율(Recall)\n",
    "- 실제값 중에서 모델이 검출한 실제값의 비율을 나타내는 지표\n",
    "- 실제 암환자 중에서 암환자로 예측한 값\n",
    "TP/(TP+FN)"
   ]
  },
  {
   "cell_type": "code",
   "execution_count": 7,
   "metadata": {},
   "outputs": [
    {
     "name": "stdout",
     "output_type": "stream",
     "text": [
      "A 모델 암환자 재현율: 0.9\n",
      "B 모델 암환자 재현율: 0.1\n"
     ]
    }
   ],
   "source": [
    "print(f'A 모델 암환자 재현율: {(9) / (9+1)}')\n",
    "print(f'B 모델 암환자 재현율: {(1) / (1+9)}')"
   ]
  },
  {
   "attachments": {},
   "cell_type": "markdown",
   "metadata": {},
   "source": [
    "### F1 점수(F1 Score)\n",
    "조화평균 = (ab/(a+b)*2), 2 * 재현율 * 정밀도 / (재현율 + 정밀도)        #정확도는 안들어감  "
   ]
  },
  {
   "cell_type": "code",
   "execution_count": 10,
   "metadata": {},
   "outputs": [
    {
     "name": "stdout",
     "output_type": "stream",
     "text": [
      "A 모델 F1 Score: 0.3672592199522419\n",
      "B 모델 F2 Score: 0.06449864498644986\n"
     ]
    }
   ],
   "source": [
    "print(f'A 모델 F1 Score: {(0.9*0.2307)*2 / (0.9+0.2307)}')\n",
    "print(f'B 모델 F2 Score: {(0.1*0.0476)*2 / (0.1+0.0476)}')"
   ]
  },
  {
   "attachments": {},
   "cell_type": "markdown",
   "metadata": {},
   "source": [
    "---\n",
    "## K-fold 교차 검증(k-fold cross validation)\n",
    "- 머신러닝에 필수다"
   ]
  },
  {
   "cell_type": "code",
   "execution_count": null,
   "metadata": {},
   "outputs": [],
   "source": []
  }
 ],
 "metadata": {
  "kernelspec": {
   "display_name": "tensorflow",
   "language": "python",
   "name": "python3"
  },
  "language_info": {
   "codemirror_mode": {
    "name": "ipython",
    "version": 3
   },
   "file_extension": ".py",
   "mimetype": "text/x-python",
   "name": "python",
   "nbconvert_exporter": "python",
   "pygments_lexer": "ipython3",
   "version": "3.9.13"
  },
  "orig_nbformat": 4,
  "vscode": {
   "interpreter": {
    "hash": "75f222f31d8106ed7e1b9fc13cea3e71535ba3320824bf9a24772f72bb580fe7"
   }
  }
 },
 "nbformat": 4,
 "nbformat_minor": 2
}

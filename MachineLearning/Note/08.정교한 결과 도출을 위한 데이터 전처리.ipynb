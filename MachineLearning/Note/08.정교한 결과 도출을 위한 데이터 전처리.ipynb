{
 "cells": [
  {
   "cell_type": "code",
   "execution_count": 2,
   "metadata": {},
   "outputs": [
    {
     "data": {
      "text/html": [
       "<div>\n",
       "<style scoped>\n",
       "    .dataframe tbody tr th:only-of-type {\n",
       "        vertical-align: middle;\n",
       "    }\n",
       "\n",
       "    .dataframe tbody tr th {\n",
       "        vertical-align: top;\n",
       "    }\n",
       "\n",
       "    .dataframe thead th {\n",
       "        text-align: right;\n",
       "    }\n",
       "</style>\n",
       "<table border=\"1\" class=\"dataframe\">\n",
       "  <thead>\n",
       "    <tr style=\"text-align: right;\">\n",
       "      <th></th>\n",
       "      <th>length</th>\n",
       "      <th>weight</th>\n",
       "      <th>name</th>\n",
       "    </tr>\n",
       "  </thead>\n",
       "  <tbody>\n",
       "    <tr>\n",
       "      <th>0</th>\n",
       "      <td>25.4</td>\n",
       "      <td>242.0</td>\n",
       "      <td>apple</td>\n",
       "    </tr>\n",
       "    <tr>\n",
       "      <th>1</th>\n",
       "      <td>26.3</td>\n",
       "      <td>290.0</td>\n",
       "      <td>apple</td>\n",
       "    </tr>\n",
       "    <tr>\n",
       "      <th>2</th>\n",
       "      <td>26.5</td>\n",
       "      <td>340.0</td>\n",
       "      <td>apple</td>\n",
       "    </tr>\n",
       "    <tr>\n",
       "      <th>3</th>\n",
       "      <td>29.0</td>\n",
       "      <td>363.0</td>\n",
       "      <td>apple</td>\n",
       "    </tr>\n",
       "    <tr>\n",
       "      <th>4</th>\n",
       "      <td>29.0</td>\n",
       "      <td>430.0</td>\n",
       "      <td>apple</td>\n",
       "    </tr>\n",
       "  </tbody>\n",
       "</table>\n",
       "</div>"
      ],
      "text/plain": [
       "   length  weight   name\n",
       "0    25.4   242.0  apple\n",
       "1    26.3   290.0  apple\n",
       "2    26.5   340.0  apple\n",
       "3    29.0   363.0  apple\n",
       "4    29.0   430.0  apple"
      ]
     },
     "execution_count": 2,
     "metadata": {},
     "output_type": "execute_result"
    }
   ],
   "source": [
    "import pandas as pd\n",
    "\n",
    "fruits = pd.read_csv(\"../Data/fruits.csv\")\n",
    "fruits.head()"
   ]
  },
  {
   "attachments": {},
   "cell_type": "markdown",
   "id": "7916404d",
   "metadata": {},
   "source": [
    "### Feature Set과 Target Set을 Numpy Array로 변경"
   ]
  },
  {
   "cell_type": "code",
   "execution_count": 3,
   "id": "2d93ca87",
   "metadata": {},
   "outputs": [],
   "source": [
    "import numpy as np"
   ]
  },
  {
   "cell_type": "code",
   "execution_count": 4,
   "id": "4b523811",
   "metadata": {},
   "outputs": [],
   "source": [
    "testA = np.array([1,2,3,4])\n",
    "testB = np.array([10,20,30,40])"
   ]
  },
  {
   "cell_type": "code",
   "execution_count": 5,
   "id": "2f0c4d7e",
   "metadata": {},
   "outputs": [
    {
     "data": {
      "text/plain": [
       "array([[ 1, 10],\n",
       "       [ 2, 20],\n",
       "       [ 3, 30],\n",
       "       [ 4, 40]])"
      ]
     },
     "execution_count": 5,
     "metadata": {},
     "output_type": "execute_result"
    }
   ],
   "source": [
    "# 2개의 Array를 묶어서 컬럼기반 하나의 array로 만들기\n",
    "combineA = [[i,j] for i, j in zip(testA, testB)]\n",
    "np.array(combineA)"
   ]
  },
  {
   "cell_type": "code",
   "execution_count": 6,
   "id": "d62d5e8e",
   "metadata": {},
   "outputs": [
    {
     "data": {
      "text/plain": [
       "array([[ 1, 10],\n",
       "       [ 2, 20],\n",
       "       [ 3, 30],\n",
       "       [ 4, 40]])"
      ]
     },
     "execution_count": 6,
     "metadata": {},
     "output_type": "execute_result"
    }
   ],
   "source": [
    "combineB = np.column_stack((testA, testB))\n",
    "combineB"
   ]
  },
  {
   "cell_type": "code",
   "execution_count": 7,
   "id": "bfcb32cb",
   "metadata": {},
   "outputs": [
    {
     "data": {
      "text/plain": [
       "array([[ 1,  2,  3,  4],\n",
       "       [10, 20, 30, 40]])"
      ]
     },
     "execution_count": 7,
     "metadata": {},
     "output_type": "execute_result"
    }
   ],
   "source": [
    "combineC = np.row_stack((testA, testB))\n",
    "combineC"
   ]
  },
  {
   "cell_type": "code",
   "execution_count": 8,
   "id": "c0b215e3",
   "metadata": {},
   "outputs": [
    {
     "data": {
      "text/plain": [
       "array([[ 25.4, 242. ],\n",
       "       [ 26.3, 290. ],\n",
       "       [ 26.5, 340. ],\n",
       "       [ 29. , 363. ],\n",
       "       [ 29. , 430. ]])"
      ]
     },
     "execution_count": 8,
     "metadata": {},
     "output_type": "execute_result"
    }
   ],
   "source": [
    "fruit_data = np.column_stack((fruits.length, fruits.weight))\n",
    "fruit_data[:5]"
   ]
  },
  {
   "cell_type": "code",
   "execution_count": 9,
   "id": "e30034ca",
   "metadata": {},
   "outputs": [
    {
     "data": {
      "text/plain": [
       "array(['apple', 'apple', 'apple', 'apple', 'apple', 'apple', 'apple',\n",
       "       'apple', 'apple', 'apple', 'apple', 'apple', 'apple', 'apple',\n",
       "       'apple', 'apple', 'apple', 'apple', 'apple', 'apple', 'apple',\n",
       "       'apple', 'apple', 'apple', 'apple', 'apple', 'apple', 'apple',\n",
       "       'apple', 'apple', 'apple', 'apple', 'apple', 'apple', 'apple',\n",
       "       'berry', 'berry', 'berry', 'berry', 'berry', 'berry', 'berry',\n",
       "       'berry', 'berry', 'berry', 'berry', 'berry', 'berry', 'berry'],\n",
       "      dtype=object)"
      ]
     },
     "execution_count": 9,
     "metadata": {},
     "output_type": "execute_result"
    }
   ],
   "source": [
    "# pandas > numpy : numpy가 퍼포먼스가 더 좋다\n",
    "fruit_target = np.array(fruits['name'])\n",
    "fruit_target"
   ]
  },
  {
   "cell_type": "code",
   "execution_count": 10,
   "id": "1e1a0524",
   "metadata": {},
   "outputs": [],
   "source": [
    "# train과 test로 분리\n",
    "from sklearn.model_selection import train_test_split"
   ]
  },
  {
   "cell_type": "code",
   "execution_count": 11,
   "id": "b0dbebf1",
   "metadata": {},
   "outputs": [],
   "source": [
    "train_input, test_input, train_target, test_target = train_test_split(\n",
    "    fruit_data,\n",
    "    fruit_target,\n",
    "    stratify=fruit_target,\n",
    "    random_state=42\n",
    ")"
   ]
  },
  {
   "cell_type": "code",
   "execution_count": 12,
   "id": "9a37da45",
   "metadata": {},
   "outputs": [
    {
     "data": {
      "text/plain": [
       "1.0"
      ]
     },
     "execution_count": 12,
     "metadata": {},
     "output_type": "execute_result"
    }
   ],
   "source": [
    "# KNN\n",
    "from sklearn.neighbors import KNeighborsClassifier\n",
    "kn = KNeighborsClassifier()\n",
    "kn.fit(train_input, train_target)\n",
    "kn.score(test_input, test_target)"
   ]
  },
  {
   "cell_type": "code",
   "execution_count": 13,
   "id": "d88d6239",
   "metadata": {},
   "outputs": [
    {
     "data": {
      "text/html": [
       "<div>\n",
       "<style scoped>\n",
       "    .dataframe tbody tr th:only-of-type {\n",
       "        vertical-align: middle;\n",
       "    }\n",
       "\n",
       "    .dataframe tbody tr th {\n",
       "        vertical-align: top;\n",
       "    }\n",
       "\n",
       "    .dataframe thead th {\n",
       "        text-align: right;\n",
       "    }\n",
       "</style>\n",
       "<table border=\"1\" class=\"dataframe\">\n",
       "  <thead>\n",
       "    <tr style=\"text-align: right;\">\n",
       "      <th></th>\n",
       "      <th>length</th>\n",
       "      <th>weight</th>\n",
       "      <th>name</th>\n",
       "    </tr>\n",
       "  </thead>\n",
       "  <tbody>\n",
       "    <tr>\n",
       "      <th>0</th>\n",
       "      <td>25.4</td>\n",
       "      <td>242.0</td>\n",
       "      <td>apple</td>\n",
       "    </tr>\n",
       "    <tr>\n",
       "      <th>1</th>\n",
       "      <td>26.3</td>\n",
       "      <td>290.0</td>\n",
       "      <td>apple</td>\n",
       "    </tr>\n",
       "    <tr>\n",
       "      <th>2</th>\n",
       "      <td>26.5</td>\n",
       "      <td>340.0</td>\n",
       "      <td>apple</td>\n",
       "    </tr>\n",
       "    <tr>\n",
       "      <th>3</th>\n",
       "      <td>29.0</td>\n",
       "      <td>363.0</td>\n",
       "      <td>apple</td>\n",
       "    </tr>\n",
       "    <tr>\n",
       "      <th>4</th>\n",
       "      <td>29.0</td>\n",
       "      <td>430.0</td>\n",
       "      <td>apple</td>\n",
       "    </tr>\n",
       "    <tr>\n",
       "      <th>5</th>\n",
       "      <td>29.7</td>\n",
       "      <td>450.0</td>\n",
       "      <td>apple</td>\n",
       "    </tr>\n",
       "    <tr>\n",
       "      <th>6</th>\n",
       "      <td>29.7</td>\n",
       "      <td>500.0</td>\n",
       "      <td>apple</td>\n",
       "    </tr>\n",
       "    <tr>\n",
       "      <th>7</th>\n",
       "      <td>30.0</td>\n",
       "      <td>390.0</td>\n",
       "      <td>apple</td>\n",
       "    </tr>\n",
       "    <tr>\n",
       "      <th>8</th>\n",
       "      <td>30.0</td>\n",
       "      <td>450.0</td>\n",
       "      <td>apple</td>\n",
       "    </tr>\n",
       "    <tr>\n",
       "      <th>9</th>\n",
       "      <td>30.7</td>\n",
       "      <td>500.0</td>\n",
       "      <td>apple</td>\n",
       "    </tr>\n",
       "    <tr>\n",
       "      <th>10</th>\n",
       "      <td>31.0</td>\n",
       "      <td>475.0</td>\n",
       "      <td>apple</td>\n",
       "    </tr>\n",
       "    <tr>\n",
       "      <th>11</th>\n",
       "      <td>31.0</td>\n",
       "      <td>500.0</td>\n",
       "      <td>apple</td>\n",
       "    </tr>\n",
       "    <tr>\n",
       "      <th>12</th>\n",
       "      <td>31.5</td>\n",
       "      <td>500.0</td>\n",
       "      <td>apple</td>\n",
       "    </tr>\n",
       "    <tr>\n",
       "      <th>13</th>\n",
       "      <td>32.0</td>\n",
       "      <td>340.0</td>\n",
       "      <td>apple</td>\n",
       "    </tr>\n",
       "    <tr>\n",
       "      <th>14</th>\n",
       "      <td>32.0</td>\n",
       "      <td>600.0</td>\n",
       "      <td>apple</td>\n",
       "    </tr>\n",
       "    <tr>\n",
       "      <th>15</th>\n",
       "      <td>32.0</td>\n",
       "      <td>600.0</td>\n",
       "      <td>apple</td>\n",
       "    </tr>\n",
       "    <tr>\n",
       "      <th>16</th>\n",
       "      <td>33.0</td>\n",
       "      <td>700.0</td>\n",
       "      <td>apple</td>\n",
       "    </tr>\n",
       "    <tr>\n",
       "      <th>17</th>\n",
       "      <td>33.0</td>\n",
       "      <td>700.0</td>\n",
       "      <td>apple</td>\n",
       "    </tr>\n",
       "    <tr>\n",
       "      <th>18</th>\n",
       "      <td>33.5</td>\n",
       "      <td>610.0</td>\n",
       "      <td>apple</td>\n",
       "    </tr>\n",
       "    <tr>\n",
       "      <th>19</th>\n",
       "      <td>33.5</td>\n",
       "      <td>650.0</td>\n",
       "      <td>apple</td>\n",
       "    </tr>\n",
       "    <tr>\n",
       "      <th>20</th>\n",
       "      <td>34.0</td>\n",
       "      <td>575.0</td>\n",
       "      <td>apple</td>\n",
       "    </tr>\n",
       "    <tr>\n",
       "      <th>21</th>\n",
       "      <td>34.0</td>\n",
       "      <td>685.0</td>\n",
       "      <td>apple</td>\n",
       "    </tr>\n",
       "    <tr>\n",
       "      <th>22</th>\n",
       "      <td>34.5</td>\n",
       "      <td>620.0</td>\n",
       "      <td>apple</td>\n",
       "    </tr>\n",
       "    <tr>\n",
       "      <th>23</th>\n",
       "      <td>35.0</td>\n",
       "      <td>680.0</td>\n",
       "      <td>apple</td>\n",
       "    </tr>\n",
       "    <tr>\n",
       "      <th>24</th>\n",
       "      <td>35.0</td>\n",
       "      <td>700.0</td>\n",
       "      <td>apple</td>\n",
       "    </tr>\n",
       "    <tr>\n",
       "      <th>25</th>\n",
       "      <td>35.0</td>\n",
       "      <td>725.0</td>\n",
       "      <td>apple</td>\n",
       "    </tr>\n",
       "    <tr>\n",
       "      <th>26</th>\n",
       "      <td>35.0</td>\n",
       "      <td>720.0</td>\n",
       "      <td>apple</td>\n",
       "    </tr>\n",
       "    <tr>\n",
       "      <th>27</th>\n",
       "      <td>36.0</td>\n",
       "      <td>714.0</td>\n",
       "      <td>apple</td>\n",
       "    </tr>\n",
       "    <tr>\n",
       "      <th>28</th>\n",
       "      <td>36.0</td>\n",
       "      <td>850.0</td>\n",
       "      <td>apple</td>\n",
       "    </tr>\n",
       "    <tr>\n",
       "      <th>29</th>\n",
       "      <td>37.0</td>\n",
       "      <td>1000.0</td>\n",
       "      <td>apple</td>\n",
       "    </tr>\n",
       "    <tr>\n",
       "      <th>30</th>\n",
       "      <td>38.5</td>\n",
       "      <td>920.0</td>\n",
       "      <td>apple</td>\n",
       "    </tr>\n",
       "    <tr>\n",
       "      <th>31</th>\n",
       "      <td>38.5</td>\n",
       "      <td>955.0</td>\n",
       "      <td>apple</td>\n",
       "    </tr>\n",
       "    <tr>\n",
       "      <th>32</th>\n",
       "      <td>39.5</td>\n",
       "      <td>925.0</td>\n",
       "      <td>apple</td>\n",
       "    </tr>\n",
       "    <tr>\n",
       "      <th>33</th>\n",
       "      <td>41.0</td>\n",
       "      <td>975.0</td>\n",
       "      <td>apple</td>\n",
       "    </tr>\n",
       "    <tr>\n",
       "      <th>34</th>\n",
       "      <td>41.0</td>\n",
       "      <td>950.0</td>\n",
       "      <td>apple</td>\n",
       "    </tr>\n",
       "    <tr>\n",
       "      <th>35</th>\n",
       "      <td>9.8</td>\n",
       "      <td>6.7</td>\n",
       "      <td>berry</td>\n",
       "    </tr>\n",
       "    <tr>\n",
       "      <th>36</th>\n",
       "      <td>10.5</td>\n",
       "      <td>7.5</td>\n",
       "      <td>berry</td>\n",
       "    </tr>\n",
       "    <tr>\n",
       "      <th>37</th>\n",
       "      <td>10.6</td>\n",
       "      <td>7.0</td>\n",
       "      <td>berry</td>\n",
       "    </tr>\n",
       "    <tr>\n",
       "      <th>38</th>\n",
       "      <td>11.0</td>\n",
       "      <td>9.7</td>\n",
       "      <td>berry</td>\n",
       "    </tr>\n",
       "    <tr>\n",
       "      <th>39</th>\n",
       "      <td>11.2</td>\n",
       "      <td>9.8</td>\n",
       "      <td>berry</td>\n",
       "    </tr>\n",
       "    <tr>\n",
       "      <th>40</th>\n",
       "      <td>11.3</td>\n",
       "      <td>8.7</td>\n",
       "      <td>berry</td>\n",
       "    </tr>\n",
       "    <tr>\n",
       "      <th>41</th>\n",
       "      <td>11.8</td>\n",
       "      <td>10.0</td>\n",
       "      <td>berry</td>\n",
       "    </tr>\n",
       "    <tr>\n",
       "      <th>42</th>\n",
       "      <td>11.8</td>\n",
       "      <td>9.9</td>\n",
       "      <td>berry</td>\n",
       "    </tr>\n",
       "    <tr>\n",
       "      <th>43</th>\n",
       "      <td>12.0</td>\n",
       "      <td>9.8</td>\n",
       "      <td>berry</td>\n",
       "    </tr>\n",
       "    <tr>\n",
       "      <th>44</th>\n",
       "      <td>12.2</td>\n",
       "      <td>12.2</td>\n",
       "      <td>berry</td>\n",
       "    </tr>\n",
       "    <tr>\n",
       "      <th>45</th>\n",
       "      <td>12.4</td>\n",
       "      <td>13.4</td>\n",
       "      <td>berry</td>\n",
       "    </tr>\n",
       "    <tr>\n",
       "      <th>46</th>\n",
       "      <td>13.0</td>\n",
       "      <td>12.2</td>\n",
       "      <td>berry</td>\n",
       "    </tr>\n",
       "    <tr>\n",
       "      <th>47</th>\n",
       "      <td>14.3</td>\n",
       "      <td>19.7</td>\n",
       "      <td>berry</td>\n",
       "    </tr>\n",
       "    <tr>\n",
       "      <th>48</th>\n",
       "      <td>15.0</td>\n",
       "      <td>19.9</td>\n",
       "      <td>berry</td>\n",
       "    </tr>\n",
       "  </tbody>\n",
       "</table>\n",
       "</div>"
      ],
      "text/plain": [
       "    length  weight   name\n",
       "0     25.4   242.0  apple\n",
       "1     26.3   290.0  apple\n",
       "2     26.5   340.0  apple\n",
       "3     29.0   363.0  apple\n",
       "4     29.0   430.0  apple\n",
       "5     29.7   450.0  apple\n",
       "6     29.7   500.0  apple\n",
       "7     30.0   390.0  apple\n",
       "8     30.0   450.0  apple\n",
       "9     30.7   500.0  apple\n",
       "10    31.0   475.0  apple\n",
       "11    31.0   500.0  apple\n",
       "12    31.5   500.0  apple\n",
       "13    32.0   340.0  apple\n",
       "14    32.0   600.0  apple\n",
       "15    32.0   600.0  apple\n",
       "16    33.0   700.0  apple\n",
       "17    33.0   700.0  apple\n",
       "18    33.5   610.0  apple\n",
       "19    33.5   650.0  apple\n",
       "20    34.0   575.0  apple\n",
       "21    34.0   685.0  apple\n",
       "22    34.5   620.0  apple\n",
       "23    35.0   680.0  apple\n",
       "24    35.0   700.0  apple\n",
       "25    35.0   725.0  apple\n",
       "26    35.0   720.0  apple\n",
       "27    36.0   714.0  apple\n",
       "28    36.0   850.0  apple\n",
       "29    37.0  1000.0  apple\n",
       "30    38.5   920.0  apple\n",
       "31    38.5   955.0  apple\n",
       "32    39.5   925.0  apple\n",
       "33    41.0   975.0  apple\n",
       "34    41.0   950.0  apple\n",
       "35     9.8     6.7  berry\n",
       "36    10.5     7.5  berry\n",
       "37    10.6     7.0  berry\n",
       "38    11.0     9.7  berry\n",
       "39    11.2     9.8  berry\n",
       "40    11.3     8.7  berry\n",
       "41    11.8    10.0  berry\n",
       "42    11.8     9.9  berry\n",
       "43    12.0     9.8  berry\n",
       "44    12.2    12.2  berry\n",
       "45    12.4    13.4  berry\n",
       "46    13.0    12.2  berry\n",
       "47    14.3    19.7  berry\n",
       "48    15.0    19.9  berry"
      ]
     },
     "execution_count": 13,
     "metadata": {},
     "output_type": "execute_result"
    }
   ],
   "source": [
    "fruits"
   ]
  },
  {
   "attachments": {},
   "cell_type": "markdown",
   "id": "a7f91711",
   "metadata": {},
   "source": [
    "---\n",
    "### 수상한 과일?"
   ]
  },
  {
   "cell_type": "code",
   "execution_count": 15,
   "id": "67f178f6",
   "metadata": {},
   "outputs": [
    {
     "data": {
      "text/plain": [
       "array(['berry'], dtype=object)"
      ]
     },
     "execution_count": 15,
     "metadata": {},
     "output_type": "execute_result"
    }
   ],
   "source": [
    "kn.predict([[25, 150]])"
   ]
  },
  {
   "cell_type": "code",
   "execution_count": 18,
   "id": "236bde68",
   "metadata": {},
   "outputs": [
    {
     "data": {
      "image/png": "[encoded data removed]",
      "text/plain": [
       "<Figure size 640x480 with 1 Axes>"
      ]
     },
     "metadata": {},
     "output_type": "display_data"
    }
   ],
   "source": [
    "import matplotlib.pyplot as plt\n",
    "plt.scatter(train_input[:,0], train_input[:,1])\n",
    "plt.scatter(25, 150, marker='^', c='red')\n",
    "\n",
    "plt.show()\n",
    "# x, y 데이터 범위가 다르다"
   ]
  },
  {
   "cell_type": "markdown",
   "id": "30470cba",
   "metadata": {},
   "source": [
    "### 이웃을 출력"
   ]
  },
  {
   "cell_type": "code",
   "execution_count": 19,
   "id": "e83ae7ac",
   "metadata": {},
   "outputs": [
    {
     "name": "stdout",
     "output_type": "stream",
     "text": [
      "[[11 20 13 22 15]]\n"
     ]
    }
   ],
   "source": [
    "distances, indexes = kn.kneighbors([[25, 150]])\n",
    "print(indexes)  # 가장 근처 데이터 인덱스번호 알려줌"
   ]
  },
  {
   "cell_type": "code",
   "execution_count": 20,
   "id": "1b1f2bb9",
   "metadata": {},
   "outputs": [
    {
     "data": {
      "text/plain": [
       "array([[[ 25.4, 242. ],\n",
       "        [ 14.3,  19.7],\n",
       "        [ 12.4,  13.4],\n",
       "        [ 12.2,  12.2],\n",
       "        [ 26.3, 290. ]]])"
      ]
     },
     "execution_count": 20,
     "metadata": {},
     "output_type": "execute_result"
    }
   ],
   "source": [
    "train_input[indexes]"
   ]
  },
  {
   "cell_type": "code",
   "execution_count": 21,
   "id": "63b85ec3",
   "metadata": {},
   "outputs": [
    {
     "data": {
      "image/png": "[encoded data removed]",
      "text/plain": [
       "<Figure size 640x480 with 1 Axes>"
      ]
     },
     "metadata": {},
     "output_type": "display_data"
    }
   ],
   "source": [
    "plt.scatter(train_input[:,0], train_input[:,1])\n",
    "plt.scatter(25, 150, marker='^', c='red')\n",
    "plt.scatter(train_input[indexes, 0], train_input[indexes, 1], marker='D')\n",
    "plt.show()"
   ]
  },
  {
   "cell_type": "code",
   "execution_count": 22,
   "id": "3930fbc4",
   "metadata": {},
   "outputs": [
    {
     "data": {
      "text/plain": [
       "array([['apple', 'berry', 'berry', 'berry', 'apple']], dtype=object)"
      ]
     },
     "execution_count": 22,
     "metadata": {},
     "output_type": "execute_result"
    }
   ],
   "source": [
    "train_target[indexes]"
   ]
  },
  {
   "attachments": {},
   "cell_type": "markdown",
   "id": "314eca43",
   "metadata": {},
   "source": [
    "## 기준을 맞춘다\n",
    "- x, y 축 데이터범위"
   ]
  },
  {
   "cell_type": "code",
   "execution_count": 23,
   "id": "d9ba1d4a",
   "metadata": {},
   "outputs": [
    {
     "data": {
      "image/png": "[encoded data removed]",
      "text/plain": [
       "<Figure size 640x480 with 1 Axes>"
      ]
     },
     "metadata": {},
     "output_type": "display_data"
    }
   ],
   "source": [
    "plt.scatter(train_input[:,0], train_input[:,1])\n",
    "plt.scatter(25, 150, marker='^', c='red')\n",
    "plt.scatter(train_input[indexes, 0], train_input[indexes, 1], marker='D')\n",
    "plt.xlim(0,1000)\n",
    "plt.show()"
   ]
  },
  {
   "cell_type": "code",
   "execution_count": 24,
   "id": "0713d40a",
   "metadata": {},
   "outputs": [
    {
     "name": "stdout",
     "output_type": "stream",
     "text": [
      "[ 26.93333333 441.98333333] [ 10.09141549 325.61300692]\n"
     ]
    }
   ],
   "source": [
    "# 표준편차 차이가 심하면 못 쓰는 데이터\n",
    "# length와 weight의 평균과 표준편차를 구해서 비교해보자\n",
    "mean = np.mean(train_input, axis=0)\n",
    "std = np.std(train_input, axis=0)\n",
    "print(mean, std)    # 평균과 표준편차가 심하다"
   ]
  },
  {
   "attachments": {},
   "cell_type": "markdown",
   "id": "66110ae7",
   "metadata": {},
   "source": [
    "---\n",
    "### train_data를 표준점수(Z점수) 변경하자\n",
    "표준점수 = (Feature - 평균) / 표준편차      # 변동계수"
   ]
  },
  {
   "cell_type": "code",
   "execution_count": 27,
   "id": "5865780b",
   "metadata": {},
   "outputs": [
    {
     "data": {
      "text/plain": [
       "array([[ 0.79935928,  0.85382543],\n",
       "       [ 0.20479453, -0.24256812],\n",
       "       [-1.54917151, -1.33066961],\n",
       "       [ 0.37325454,  0.17817675],\n",
       "       [-1.55908092, -1.32729137],\n",
       "       [ 1.14618873,  1.46805151],\n",
       "       [-1.49962444, -1.32698425],\n",
       "       [ 0.50207691,  0.48528979],\n",
       "       [-1.47980562, -1.32729137],\n",
       "       [ 0.89845341,  0.83539865],\n",
       "       [ 0.60117103,  0.79240283],\n",
       "       [-0.15194433, -0.61417489],\n",
       "       [ 0.99754754,  1.71374194],\n",
       "       [-1.44016797, -1.3162353 ],\n",
       "       [-1.69781269, -1.33681187],\n",
       "       [-0.06275961, -0.46676063],\n",
       "       [ 0.79935928,  0.73098022],\n",
       "       [ 0.40298278,  0.17817675],\n",
       "       [-1.57889974, -1.32759848],\n",
       "       [ 0.27416042,  0.02462023],\n",
       "       [-1.25188913, -1.29688718],\n",
       "       [ 0.79935928,  0.79240283],\n",
       "       [-1.45998679, -1.31992065],\n",
       "       [ 0.45252984,  0.17817675],\n",
       "       [ 1.39392404,  1.63696368],\n",
       "       [ 0.6507181 ,  0.63884631],\n",
       "       [ 0.60117103,  0.79240283],\n",
       "       [-1.62844681, -1.33435497],\n",
       "       [-0.04294079, -0.31320411],\n",
       "       [ 0.50207691, -0.31320411],\n",
       "       [ 1.24528285,  1.48340716],\n",
       "       [ 0.40298278,  0.10139849],\n",
       "       [ 0.30388865,  0.02462023],\n",
       "       [ 0.20479453, -0.03680238],\n",
       "       [ 1.14618873,  1.57554107],\n",
       "       [ 0.70026516,  0.74633587]])"
      ]
     },
     "execution_count": 27,
     "metadata": {},
     "output_type": "execute_result"
    }
   ],
   "source": [
    "train_scaled = (train_input - mean) / std\n",
    "train_scaled"
   ]
  },
  {
   "cell_type": "code",
   "execution_count": 26,
   "id": "1dc16d37",
   "metadata": {},
   "outputs": [
    {
     "data": {
      "text/plain": [
       "array([[ 0.79935928,  0.85382543],\n",
       "       [ 0.20479453, -0.24256812],\n",
       "       [-1.54917151, -1.33066961],\n",
       "       [ 0.37325454,  0.17817675],\n",
       "       [-1.55908092, -1.32729137],\n",
       "       [ 1.14618873,  1.46805151],\n",
       "       [-1.49962444, -1.32698425],\n",
       "       [ 0.50207691,  0.48528979],\n",
       "       [-1.47980562, -1.32729137],\n",
       "       [ 0.89845341,  0.83539865],\n",
       "       [ 0.60117103,  0.79240283],\n",
       "       [-0.15194433, -0.61417489],\n",
       "       [ 0.99754754,  1.71374194],\n",
       "       [-1.44016797, -1.3162353 ],\n",
       "       [-1.69781269, -1.33681187],\n",
       "       [-0.06275961, -0.46676063],\n",
       "       [ 0.79935928,  0.73098022],\n",
       "       [ 0.40298278,  0.17817675],\n",
       "       [-1.57889974, -1.32759848],\n",
       "       [ 0.27416042,  0.02462023],\n",
       "       [-1.25188913, -1.29688718],\n",
       "       [ 0.79935928,  0.79240283],\n",
       "       [-1.45998679, -1.31992065],\n",
       "       [ 0.45252984,  0.17817675],\n",
       "       [ 1.39392404,  1.63696368],\n",
       "       [ 0.6507181 ,  0.63884631],\n",
       "       [ 0.60117103,  0.79240283],\n",
       "       [-1.62844681, -1.33435497],\n",
       "       [-0.04294079, -0.31320411],\n",
       "       [ 0.50207691, -0.31320411],\n",
       "       [ 1.24528285,  1.48340716],\n",
       "       [ 0.40298278,  0.10139849],\n",
       "       [ 0.30388865,  0.02462023],\n",
       "       [ 0.20479453, -0.03680238],\n",
       "       [ 1.14618873,  1.57554107],\n",
       "       [ 0.70026516,  0.74633587]])"
      ]
     },
     "execution_count": 26,
     "metadata": {},
     "output_type": "execute_result"
    }
   ],
   "source": [
    "# sklearn\n",
    "from sklearn.preprocessing import StandardScaler\n",
    "scaler = StandardScaler()\n",
    "scaler.fit(train_input)\n",
    "train_scaled = scaler.transform(train_input)\n",
    "train_scaled"
   ]
  },
  {
   "attachments": {},
   "cell_type": "markdown",
   "id": "7f029867",
   "metadata": {},
   "source": [
    "### 전처리 데이터로 모델 훈련하기"
   ]
  },
  {
   "cell_type": "code",
   "execution_count": 28,
   "id": "5f74e913",
   "metadata": {},
   "outputs": [
    {
     "data": {
      "image/png": "[encoded data removed]",
      "text/plain": [
       "<Figure size 640x480 with 1 Axes>"
      ]
     },
     "metadata": {},
     "output_type": "display_data"
    }
   ],
   "source": [
    "plt.scatter(train_scaled[:,0], train_scaled[:,1])\n",
    "plt.scatter(25, 150, marker='^', c='red')\n",
    "plt.show()"
   ]
  },
  {
   "cell_type": "code",
   "execution_count": 29,
   "id": "d72f4bd4",
   "metadata": {},
   "outputs": [
    {
     "data": {
      "text/plain": [
       "array([-0.19158198, -0.89671889])"
      ]
     },
     "execution_count": 29,
     "metadata": {},
     "output_type": "execute_result"
    }
   ],
   "source": [
    "# 예측할 데이터도 표준점수로 변경\n",
    "new = ([25, 150]-mean)/std\n",
    "new"
   ]
  },
  {
   "cell_type": "code",
   "execution_count": 30,
   "id": "c3f04bae",
   "metadata": {},
   "outputs": [
    {
     "data": {
      "image/png": "[encoded data removed]",
      "text/plain": [
       "<Figure size 640x480 with 1 Axes>"
      ]
     },
     "metadata": {},
     "output_type": "display_data"
    }
   ],
   "source": [
    "plt.scatter(train_scaled[:,0], train_scaled[:,1])\n",
    "plt.scatter(new[0], new[1], marker='^', c='red')\n",
    "\n",
    "plt.show()"
   ]
  },
  {
   "attachments": {},
   "cell_type": "markdown",
   "id": "ebb83485",
   "metadata": {},
   "source": [
    "## KNN"
   ]
  },
  {
   "cell_type": "code",
   "execution_count": 31,
   "id": "0611f9a9",
   "metadata": {},
   "outputs": [
    {
     "data": {
      "text/html": [
       "<style>#sk-container-id-1 {color: black;background-color: white;}#sk-container-id-1 pre{padding: 0;}#sk-container-id-1 div.sk-toggleable {background-color: white;}#sk-container-id-1 label.sk-toggleable__label {cursor: pointer;display: block;width: 100%;margin-bottom: 0;padding: 0.3em;box-sizing: border-box;text-align: center;}#sk-container-id-1 label.sk-toggleable__label-arrow:before {content: \"▸\";float: left;margin-right: 0.25em;color: #696969;}#sk-container-id-1 label.sk-toggleable__label-arrow:hover:before {color: black;}#sk-container-id-1 div.sk-estimator:hover label.sk-toggleable__label-arrow:before {color: black;}#sk-container-id-1 div.sk-toggleable__content {max-height: 0;max-width: 0;overflow: hidden;text-align: left;background-color: #f0f8ff;}#sk-container-id-1 div.sk-toggleable__content pre {margin: 0.2em;color: black;border-radius: 0.25em;background-color: #f0f8ff;}#sk-container-id-1 input.sk-toggleable__control:checked~div.sk-toggleable__content {max-height: 200px;max-width: 100%;overflow: auto;}#sk-container-id-1 input.sk-toggleable__control:checked~label.sk-toggleable__label-arrow:before {content: \"▾\";}#sk-container-id-1 div.sk-estimator input.sk-toggleable__control:checked~label.sk-toggleable__label {background-color: #d4ebff;}#sk-container-id-1 div.sk-label input.sk-toggleable__control:checked~label.sk-toggleable__label {background-color: #d4ebff;}#sk-container-id-1 input.sk-hidden--visually {border: 0;clip: rect(1px 1px 1px 1px);clip: rect(1px, 1px, 1px, 1px);height: 1px;margin: -1px;overflow: hidden;padding: 0;position: absolute;width: 1px;}#sk-container-id-1 div.sk-estimator {font-family: monospace;background-color: #f0f8ff;border: 1px dotted black;border-radius: 0.25em;box-sizing: border-box;margin-bottom: 0.5em;}#sk-container-id-1 div.sk-estimator:hover {background-color: #d4ebff;}#sk-container-id-1 div.sk-parallel-item::after {content: \"\";width: 100%;border-bottom: 1px solid gray;flex-grow: 1;}#sk-container-id-1 div.sk-label:hover label.sk-toggleable__label {background-color: #d4ebff;}#sk-container-id-1 div.sk-serial::before {content: \"\";position: absolute;border-left: 1px solid gray;box-sizing: border-box;top: 0;bottom: 0;left: 50%;z-index: 0;}#sk-container-id-1 div.sk-serial {display: flex;flex-direction: column;align-items: center;background-color: white;padding-right: 0.2em;padding-left: 0.2em;position: relative;}#sk-container-id-1 div.sk-item {position: relative;z-index: 1;}#sk-container-id-1 div.sk-parallel {display: flex;align-items: stretch;justify-content: center;background-color: white;position: relative;}#sk-container-id-1 div.sk-item::before, #sk-container-id-1 div.sk-parallel-item::before {content: \"\";position: absolute;border-left: 1px solid gray;box-sizing: border-box;top: 0;bottom: 0;left: 50%;z-index: -1;}#sk-container-id-1 div.sk-parallel-item {display: flex;flex-direction: column;z-index: 1;position: relative;background-color: white;}#sk-container-id-1 div.sk-parallel-item:first-child::after {align-self: flex-end;width: 50%;}#sk-container-id-1 div.sk-parallel-item:last-child::after {align-self: flex-start;width: 50%;}#sk-container-id-1 div.sk-parallel-item:only-child::after {width: 0;}#sk-container-id-1 div.sk-dashed-wrapped {border: 1px dashed gray;margin: 0 0.4em 0.5em 0.4em;box-sizing: border-box;padding-bottom: 0.4em;background-color: white;}#sk-container-id-1 div.sk-label label {font-family: monospace;font-weight: bold;display: inline-block;line-height: 1.2em;}#sk-container-id-1 div.sk-label-container {text-align: center;}#sk-container-id-1 div.sk-container {/* jupyter's `normalize.less` sets `[hidden] { display: none; }` but bootstrap.min.css set `[hidden] { display: none !important; }` so we also need the `!important` here to be able to override the default hidden behavior on the sphinx rendered scikit-learn.org. See: https://github.com/scikit-learn/scikit-learn/issues/21755 */display: inline-block !important;position: relative;}#sk-container-id-1 div.sk-text-repr-fallback {display: none;}</style><div id=\"sk-container-id-1\" class=\"sk-top-container\"><div class=\"sk-text-repr-fallback\"><pre>KNeighborsClassifier()</pre><b>In a Jupyter environment, please rerun this cell to show the HTML representation or trust the notebook. <br />On GitHub, the HTML representation is unable to render, please try loading this page with nbviewer.org.</b></div><div class=\"sk-container\" hidden><div class=\"sk-item\"><div class=\"sk-estimator sk-toggleable\"><input class=\"sk-toggleable__control sk-hidden--visually\" id=\"sk-estimator-id-1\" type=\"checkbox\" checked><label for=\"sk-estimator-id-1\" class=\"sk-toggleable__label sk-toggleable__label-arrow\">KNeighborsClassifier</label><div class=\"sk-toggleable__content\"><pre>KNeighborsClassifier()</pre></div></div></div></div></div>"
      ],
      "text/plain": [
       "KNeighborsClassifier()"
      ]
     },
     "execution_count": 31,
     "metadata": {},
     "output_type": "execute_result"
    }
   ],
   "source": [
    "kn.fit(train_scaled, train_target)"
   ]
  },
  {
   "cell_type": "code",
   "execution_count": 32,
   "id": "5bbf39c0",
   "metadata": {},
   "outputs": [],
   "source": [
    "test_scaled = (test_input - mean) / std         # train 데이터로 mean, std 구한다"
   ]
  },
  {
   "attachments": {},
   "cell_type": "markdown",
   "id": "2de0dc2e",
   "metadata": {},
   "source": [
    "> train한 데이터를 가지고 그대로 Test 하는 것!      \n",
    "> 따로 다시 test 구하면 전혀 틀린 데이터가 되므로 의미가 없다."
   ]
  },
  {
   "cell_type": "code",
   "execution_count": 33,
   "id": "ee52bb7e",
   "metadata": {},
   "outputs": [
    {
     "data": {
      "text/plain": [
       "1.0"
      ]
     },
     "execution_count": 33,
     "metadata": {},
     "output_type": "execute_result"
    }
   ],
   "source": [
    "# 정확도\n",
    "kn.score(test_scaled, test_target)"
   ]
  },
  {
   "cell_type": "code",
   "execution_count": 34,
   "id": "e5591ed3",
   "metadata": {},
   "outputs": [
    {
     "data": {
      "text/plain": [
       "array(['apple'], dtype=object)"
      ]
     },
     "execution_count": 34,
     "metadata": {},
     "output_type": "execute_result"
    }
   ],
   "source": [
    "kn.predict([new])   # 정답이 berry에서 apple로 바뀜"
   ]
  },
  {
   "cell_type": "code",
   "execution_count": 35,
   "id": "53ba1614",
   "metadata": {},
   "outputs": [
    {
     "data": {
      "image/png": "[encoded data removed]",
      "text/plain": [
       "<Figure size 640x480 with 1 Axes>"
      ]
     },
     "metadata": {},
     "output_type": "display_data"
    }
   ],
   "source": [
    "# 확인을 위해 이웃을 출력하자\n",
    "distancess, indexes = kn.kneighbors([new])\n",
    "\n",
    "plt.scatter(train_scaled[:,0], train_scaled[:,1])\n",
    "plt.scatter(new[0], new[1], marker='^', c='red')\n",
    "plt.scatter(train_scaled[indexes, 0], train_scaled[indexes,1], marker='D')\n",
    "plt.show()"
   ]
  },
  {
   "attachments": {},
   "cell_type": "markdown",
   "id": "e2c46918",
   "metadata": {},
   "source": [
    "> 표준점수 = 표준화"
   ]
  },
  {
   "cell_type": "code",
   "execution_count": null,
   "id": "6f037510",
   "metadata": {},
   "outputs": [],
   "source": []
  }
 ],
 "metadata": {
  "kernelspec": {
   "display_name": "tensorflow",
   "language": "python",
   "name": "python3"
  },
  "language_info": {
   "codemirror_mode": {
    "name": "ipython",
    "version": 3
   },
   "file_extension": ".py",
   "mimetype": "text/x-python",
   "name": "python",
   "nbconvert_exporter": "python",
   "pygments_lexer": "ipython3",
   "version": "3.9.13"
  },
  "vscode": {
   "interpreter": {
    "hash": "75f222f31d8106ed7e1b9fc13cea3e71535ba3320824bf9a24772f72bb580fe7"
   }
  }
 },
 "nbformat": 4,
 "nbformat_minor": 5
}

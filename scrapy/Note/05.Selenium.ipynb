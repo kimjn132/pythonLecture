{
 "cells": [
  {
   "cell_type": "code",
   "execution_count": 1,
   "metadata": {},
   "outputs": [
    {
     "name": "stdout",
     "output_type": "stream",
     "text": [
      "Requirement already satisfied: selenium in /Users/annakim/miniforge3/envs/tensorflow/lib/python3.9/site-packages (4.7.2)\n",
      "Requirement already satisfied: trio-websocket~=0.9 in /Users/annakim/miniforge3/envs/tensorflow/lib/python3.9/site-packages (from selenium) (0.9.2)\n",
      "Requirement already satisfied: trio~=0.17 in /Users/annakim/miniforge3/envs/tensorflow/lib/python3.9/site-packages (from selenium) (0.22.0)\n",
      "Requirement already satisfied: urllib3[socks]~=1.26 in /Users/annakim/miniforge3/envs/tensorflow/lib/python3.9/site-packages (from selenium) (1.26.14)\n",
      "Requirement already satisfied: certifi>=2021.10.8 in /Users/annakim/miniforge3/envs/tensorflow/lib/python3.9/site-packages (from selenium) (2022.12.7)\n",
      "Requirement already satisfied: sortedcontainers in /Users/annakim/miniforge3/envs/tensorflow/lib/python3.9/site-packages (from trio~=0.17->selenium) (2.4.0)\n",
      "Requirement already satisfied: idna in /Users/annakim/miniforge3/envs/tensorflow/lib/python3.9/site-packages (from trio~=0.17->selenium) (3.4)\n",
      "Requirement already satisfied: outcome in /Users/annakim/miniforge3/envs/tensorflow/lib/python3.9/site-packages (from trio~=0.17->selenium) (1.2.0)\n",
      "Requirement already satisfied: attrs>=19.2.0 in /Users/annakim/miniforge3/envs/tensorflow/lib/python3.9/site-packages (from trio~=0.17->selenium) (22.2.0)\n",
      "Requirement already satisfied: async-generator>=1.9 in /Users/annakim/miniforge3/envs/tensorflow/lib/python3.9/site-packages (from trio~=0.17->selenium) (1.10)\n",
      "Requirement already satisfied: sniffio in /Users/annakim/miniforge3/envs/tensorflow/lib/python3.9/site-packages (from trio~=0.17->selenium) (1.3.0)\n",
      "Requirement already satisfied: exceptiongroup>=1.0.0rc9 in /Users/annakim/miniforge3/envs/tensorflow/lib/python3.9/site-packages (from trio~=0.17->selenium) (1.1.0)\n",
      "Requirement already satisfied: wsproto>=0.14 in /Users/annakim/miniforge3/envs/tensorflow/lib/python3.9/site-packages (from trio-websocket~=0.9->selenium) (1.2.0)\n",
      "Requirement already satisfied: PySocks!=1.5.7,<2.0,>=1.5.6 in /Users/annakim/miniforge3/envs/tensorflow/lib/python3.9/site-packages (from urllib3[socks]~=1.26->selenium) (1.7.1)\n",
      "Requirement already satisfied: h11<1,>=0.9.0 in /Users/annakim/miniforge3/envs/tensorflow/lib/python3.9/site-packages (from wsproto>=0.14->trio-websocket~=0.9->selenium) (0.14.0)\n"
     ]
    }
   ],
   "source": [
    "# !pip install selenium"
   ]
  },
  {
   "cell_type": "code",
   "execution_count": 2,
   "metadata": {},
   "outputs": [
    {
     "name": "stdout",
     "output_type": "stream",
     "text": [
      "Requirement already satisfied: webdriver-manager in /Users/annakim/miniforge3/envs/tensorflow/lib/python3.9/site-packages (3.8.5)\n",
      "Requirement already satisfied: python-dotenv in /Users/annakim/miniforge3/envs/tensorflow/lib/python3.9/site-packages (from webdriver-manager) (0.21.0)\n",
      "Requirement already satisfied: requests in /Users/annakim/miniforge3/envs/tensorflow/lib/python3.9/site-packages (from webdriver-manager) (2.28.2)\n",
      "Requirement already satisfied: packaging in /Users/annakim/miniforge3/envs/tensorflow/lib/python3.9/site-packages (from webdriver-manager) (23.0)\n",
      "Requirement already satisfied: tqdm in /Users/annakim/miniforge3/envs/tensorflow/lib/python3.9/site-packages (from webdriver-manager) (4.64.1)\n",
      "Requirement already satisfied: idna<4,>=2.5 in /Users/annakim/miniforge3/envs/tensorflow/lib/python3.9/site-packages (from requests->webdriver-manager) (3.4)\n",
      "Requirement already satisfied: urllib3<1.27,>=1.21.1 in /Users/annakim/miniforge3/envs/tensorflow/lib/python3.9/site-packages (from requests->webdriver-manager) (1.26.14)\n",
      "Requirement already satisfied: charset-normalizer<4,>=2 in /Users/annakim/miniforge3/envs/tensorflow/lib/python3.9/site-packages (from requests->webdriver-manager) (3.0.1)\n",
      "Requirement already satisfied: certifi>=2017.4.17 in /Users/annakim/miniforge3/envs/tensorflow/lib/python3.9/site-packages (from requests->webdriver-manager) (2022.12.7)\n"
     ]
    }
   ],
   "source": [
    "# !pip install webdriver-manager"
   ]
  },
  {
   "cell_type": "code",
   "execution_count": 2,
   "metadata": {},
   "outputs": [],
   "source": [
    "from selenium import webdriver\n",
    "from selenium.webdriver.chrome.service import Service\n",
    "from webdriver_manager.chrome import ChromeDriverManager\n",
    "from selenium.webdriver.common.by import By"
   ]
  },
  {
   "cell_type": "code",
   "execution_count": 3,
   "metadata": {},
   "outputs": [],
   "source": [
    "# Chrome Browser와 Chrome Driver Version 확인하기\n",
    "chrom_options = webdriver.ChromeOptions()\n",
    "driver = webdriver.Chrome(service=Service(ChromeDriverManager().install()), options=chrom_options)\n",
    "driver.get(\"https://www.opinet.co.kr/searRgSelect.do\")"
   ]
  },
  {
   "cell_type": "code",
   "execution_count": 8,
   "metadata": {},
   "outputs": [
    {
     "data": {
      "text/plain": [
       "True"
      ]
     },
     "execution_count": 8,
     "metadata": {},
     "output_type": "execute_result"
    }
   ],
   "source": [
    "# 현재 화면 capture 하기\n",
    "# driver.save_screenshot(\"../Data/001.png\")"
   ]
  },
  {
   "cell_type": "markdown",
   "metadata": {},
   "source": [
    "----\n",
    "### 서울시 유가 정보 획득을 위한 Test"
   ]
  },
  {
   "cell_type": "code",
   "execution_count": 4,
   "metadata": {},
   "outputs": [
    {
     "ename": "NoSuchElementException",
     "evalue": "Message: no such element: Unable to locate element: {\"method\":\"xpath\",\"selector\":\"//*[@id=\"SIGUNGU_NM0\"]\"}\n  (Session info: chrome=108.0.5359.124)\nStacktrace:\n0   chromedriver                        0x00000001047c7b7c chromedriver + 4209532\n1   chromedriver                        0x0000000104753418 chromedriver + 3732504\n2   chromedriver                        0x0000000104406368 chromedriver + 271208\n3   chromedriver                        0x0000000104441fc8 chromedriver + 516040\n4   chromedriver                        0x0000000104479804 chromedriver + 743428\n5   chromedriver                        0x000000010443459c chromedriver + 460188\n6   chromedriver                        0x0000000104435644 chromedriver + 464452\n7   chromedriver                        0x000000010479930c chromedriver + 4018956\n8   chromedriver                        0x000000010479cfd8 chromedriver + 4034520\n9   chromedriver                        0x00000001047a311c chromedriver + 4059420\n10  chromedriver                        0x000000010479dbac chromedriver + 4037548\n11  chromedriver                        0x0000000104777bb0 chromedriver + 3881904\n12  chromedriver                        0x00000001047ba120 chromedriver + 4153632\n13  chromedriver                        0x00000001047ba274 chromedriver + 4153972\n14  chromedriver                        0x00000001047ce82c chromedriver + 4237356\n15  libsystem_pthread.dylib             0x000000018601506c _pthread_start + 148\n16  libsystem_pthread.dylib             0x000000018600fe2c thread_start + 8\n",
     "output_type": "error",
     "traceback": [
      "\u001b[0;31m---------------------------------------------------------------------------\u001b[0m",
      "\u001b[0;31mNoSuchElementException\u001b[0m                    Traceback (most recent call last)",
      "Cell \u001b[0;32mIn[4], line 3\u001b[0m\n\u001b[1;32m      1\u001b[0m \u001b[39m# 자치구명 정보 가져오기 : //*[@id=\"SIGUNGU_NM0\"]\u001b[39;00m\n\u001b[0;32m----> 3\u001b[0m gu_list_raw \u001b[39m=\u001b[39m driver\u001b[39m.\u001b[39;49mfind_element(By\u001b[39m.\u001b[39;49mXPATH, \u001b[39m'\u001b[39;49m\u001b[39m//*[@id=\u001b[39;49m\u001b[39m\"\u001b[39;49m\u001b[39mSIGUNGU_NM0\u001b[39;49m\u001b[39m\"\u001b[39;49m\u001b[39m]\u001b[39;49m\u001b[39m'\u001b[39;49m)\n\u001b[1;32m      4\u001b[0m gu_list \u001b[39m=\u001b[39m gu_list_raw\u001b[39m.\u001b[39mfind_elements(By\u001b[39m.\u001b[39mTAG_NAME, \u001b[39m'\u001b[39m\u001b[39moption\u001b[39m\u001b[39m'\u001b[39m) \u001b[39m#여러개 복수형 (-s)\u001b[39;00m\n\u001b[1;32m      5\u001b[0m gu_names \u001b[39m=\u001b[39m [option\u001b[39m.\u001b[39mget_attribute(\u001b[39m'\u001b[39m\u001b[39mvalue\u001b[39m\u001b[39m'\u001b[39m) \u001b[39mfor\u001b[39;00m option \u001b[39min\u001b[39;00m gu_list]\n",
      "File \u001b[0;32m~/miniforge3/envs/tensorflow/lib/python3.9/site-packages/selenium/webdriver/remote/webdriver.py:861\u001b[0m, in \u001b[0;36mWebDriver.find_element\u001b[0;34m(self, by, value)\u001b[0m\n\u001b[1;32m    858\u001b[0m     by \u001b[39m=\u001b[39m By\u001b[39m.\u001b[39mCSS_SELECTOR\n\u001b[1;32m    859\u001b[0m     value \u001b[39m=\u001b[39m \u001b[39m'\u001b[39m\u001b[39m[name=\u001b[39m\u001b[39m\"\u001b[39m\u001b[39m%s\u001b[39;00m\u001b[39m\"\u001b[39m\u001b[39m]\u001b[39m\u001b[39m'\u001b[39m \u001b[39m%\u001b[39m value\n\u001b[0;32m--> 861\u001b[0m \u001b[39mreturn\u001b[39;00m \u001b[39mself\u001b[39;49m\u001b[39m.\u001b[39;49mexecute(Command\u001b[39m.\u001b[39;49mFIND_ELEMENT, {\u001b[39m\"\u001b[39;49m\u001b[39musing\u001b[39;49m\u001b[39m\"\u001b[39;49m: by, \u001b[39m\"\u001b[39;49m\u001b[39mvalue\u001b[39;49m\u001b[39m\"\u001b[39;49m: value})[\u001b[39m\"\u001b[39m\u001b[39mvalue\u001b[39m\u001b[39m\"\u001b[39m]\n",
      "File \u001b[0;32m~/miniforge3/envs/tensorflow/lib/python3.9/site-packages/selenium/webdriver/remote/webdriver.py:444\u001b[0m, in \u001b[0;36mWebDriver.execute\u001b[0;34m(self, driver_command, params)\u001b[0m\n\u001b[1;32m    442\u001b[0m response \u001b[39m=\u001b[39m \u001b[39mself\u001b[39m\u001b[39m.\u001b[39mcommand_executor\u001b[39m.\u001b[39mexecute(driver_command, params)\n\u001b[1;32m    443\u001b[0m \u001b[39mif\u001b[39;00m response:\n\u001b[0;32m--> 444\u001b[0m     \u001b[39mself\u001b[39;49m\u001b[39m.\u001b[39;49merror_handler\u001b[39m.\u001b[39;49mcheck_response(response)\n\u001b[1;32m    445\u001b[0m     response[\u001b[39m\"\u001b[39m\u001b[39mvalue\u001b[39m\u001b[39m\"\u001b[39m] \u001b[39m=\u001b[39m \u001b[39mself\u001b[39m\u001b[39m.\u001b[39m_unwrap_value(response\u001b[39m.\u001b[39mget(\u001b[39m\"\u001b[39m\u001b[39mvalue\u001b[39m\u001b[39m\"\u001b[39m, \u001b[39mNone\u001b[39;00m))\n\u001b[1;32m    446\u001b[0m     \u001b[39mreturn\u001b[39;00m response\n",
      "File \u001b[0;32m~/miniforge3/envs/tensorflow/lib/python3.9/site-packages/selenium/webdriver/remote/errorhandler.py:249\u001b[0m, in \u001b[0;36mErrorHandler.check_response\u001b[0;34m(self, response)\u001b[0m\n\u001b[1;32m    247\u001b[0m         alert_text \u001b[39m=\u001b[39m value[\u001b[39m\"\u001b[39m\u001b[39malert\u001b[39m\u001b[39m\"\u001b[39m]\u001b[39m.\u001b[39mget(\u001b[39m\"\u001b[39m\u001b[39mtext\u001b[39m\u001b[39m\"\u001b[39m)\n\u001b[1;32m    248\u001b[0m     \u001b[39mraise\u001b[39;00m exception_class(message, screen, stacktrace, alert_text)  \u001b[39m# type: ignore[call-arg]  # mypy is not smart enough here\u001b[39;00m\n\u001b[0;32m--> 249\u001b[0m \u001b[39mraise\u001b[39;00m exception_class(message, screen, stacktrace)\n",
      "\u001b[0;31mNoSuchElementException\u001b[0m: Message: no such element: Unable to locate element: {\"method\":\"xpath\",\"selector\":\"//*[@id=\"SIGUNGU_NM0\"]\"}\n  (Session info: chrome=108.0.5359.124)\nStacktrace:\n0   chromedriver                        0x00000001047c7b7c chromedriver + 4209532\n1   chromedriver                        0x0000000104753418 chromedriver + 3732504\n2   chromedriver                        0x0000000104406368 chromedriver + 271208\n3   chromedriver                        0x0000000104441fc8 chromedriver + 516040\n4   chromedriver                        0x0000000104479804 chromedriver + 743428\n5   chromedriver                        0x000000010443459c chromedriver + 460188\n6   chromedriver                        0x0000000104435644 chromedriver + 464452\n7   chromedriver                        0x000000010479930c chromedriver + 4018956\n8   chromedriver                        0x000000010479cfd8 chromedriver + 4034520\n9   chromedriver                        0x00000001047a311c chromedriver + 4059420\n10  chromedriver                        0x000000010479dbac chromedriver + 4037548\n11  chromedriver                        0x0000000104777bb0 chromedriver + 3881904\n12  chromedriver                        0x00000001047ba120 chromedriver + 4153632\n13  chromedriver                        0x00000001047ba274 chromedriver + 4153972\n14  chromedriver                        0x00000001047ce82c chromedriver + 4237356\n15  libsystem_pthread.dylib             0x000000018601506c _pthread_start + 148\n16  libsystem_pthread.dylib             0x000000018600fe2c thread_start + 8\n"
     ]
    }
   ],
   "source": [
    "# 자치구명 정보 가져오기 : //*[@id=\"SIGUNGU_NM0\"]\n",
    "\n",
    "gu_list_raw = driver.find_element(By.XPATH, '//*[@id=\"SIGUNGU_NM0\"]')\n",
    "gu_list = gu_list_raw.find_elements(By.TAG_NAME, 'option') #여러개 복수형 (-s)\n",
    "gu_names = [option.get_attribute('value') for option in gu_list]\n",
    "gu_names.remove('') #빈 데이터 지우기\n",
    "gu_names\n"
   ]
  },
  {
   "cell_type": "code",
   "execution_count": 16,
   "metadata": {},
   "outputs": [],
   "source": [
    "# 조회버튼 click위해 Xpath 가져온다. : //*[@id=\"searRgSelect\"]/span\n",
    "xpath = '//*[@id=\"searRgSelect\"]/span'\n",
    "gu_list_raw = driver.find_element(By.XPATH, xpath).click()"
   ]
  },
  {
   "cell_type": "code",
   "execution_count": 17,
   "metadata": {},
   "outputs": [],
   "source": [
    "# 자치구 이름을 획득하여 1번자치구를 실행\n",
    "element = driver.find_element(By.ID, 'SIGUNGU_NM0')\n",
    "element.send_keys(gu_names[1])"
   ]
  },
  {
   "cell_type": "code",
   "execution_count": 18,
   "metadata": {},
   "outputs": [],
   "source": [
    "#조회 버튼 클릭\n",
    "xpath = '//*[@id=\"searRgSelect\"]/span'\n",
    "gu_list_raw = driver.find_element(By.XPATH, xpath).click()"
   ]
  },
  {
   "cell_type": "code",
   "execution_count": null,
   "metadata": {},
   "outputs": [],
   "source": [
    "# 엑셀 저장 버튼 click하여 엑셀 파일 저장하기 \n",
    "# //*[@id=\"glopopd_excel\"]/span"
   ]
  },
  {
   "cell_type": "code",
   "execution_count": 19,
   "metadata": {},
   "outputs": [],
   "source": [
    "xpath = '//*[@id=\"glopopd_excel\"]/span'\n",
    "gu_list_raw = driver.find_element(By.XPATH, xpath).click()"
   ]
  },
  {
   "attachments": {},
   "cell_type": "markdown",
   "metadata": {},
   "source": [
    "> 테스트 완료"
   ]
  },
  {
   "attachments": {},
   "cell_type": "markdown",
   "metadata": {},
   "source": [
    "-------\n",
    "### 데이터 수집"
   ]
  },
  {
   "cell_type": "code",
   "execution_count": 22,
   "metadata": {},
   "outputs": [
    {
     "ename": "ElementClickInterceptedException",
     "evalue": "Message: element click intercepted: Element <span>...</span> is not clickable at point (287, 618). Other element would receive the click: <div id=\"mpopup_bg\" style=\"position: absolute; z-index: 32001; top: 0px; left: 0px; width: 100%; height: 953px; margin: 0px; padding: 0px; border: 0px solid black; display: block;\">...</div>\n  (Session info: chrome=108.0.5359.124)\nStacktrace:\n0   chromedriver                        0x0000000100ffbb7c chromedriver + 4209532\n1   chromedriver                        0x0000000100f87418 chromedriver + 3732504\n2   chromedriver                        0x0000000100c3a368 chromedriver + 271208\n3   chromedriver                        0x0000000100c7d7c0 chromedriver + 546752\n4   chromedriver                        0x0000000100c7b2c0 chromedriver + 537280\n5   chromedriver                        0x0000000100c78aa8 chromedriver + 527016\n6   chromedriver                        0x0000000100c7799c chromedriver + 522652\n7   chromedriver                        0x0000000100c6a63c chromedriver + 468540\n8   chromedriver                        0x0000000100c69dec chromedriver + 466412\n9   chromedriver                        0x0000000100cad804 chromedriver + 743428\n10  chromedriver                        0x0000000100c6859c chromedriver + 460188\n11  chromedriver                        0x0000000100c69644 chromedriver + 464452\n12  chromedriver                        0x0000000100fcd30c chromedriver + 4018956\n13  chromedriver                        0x0000000100fd0fd8 chromedriver + 4034520\n14  chromedriver                        0x0000000100fd711c chromedriver + 4059420\n15  chromedriver                        0x0000000100fd1bac chromedriver + 4037548\n16  chromedriver                        0x0000000100fabbb0 chromedriver + 3881904\n17  chromedriver                        0x0000000100fee120 chromedriver + 4153632\n18  chromedriver                        0x0000000100fee274 chromedriver + 4153972\n19  chromedriver                        0x000000010100282c chromedriver + 4237356\n20  libsystem_pthread.dylib             0x00000001a2ded06c _pthread_start + 148\n21  libsystem_pthread.dylib             0x00000001a2de7e2c thread_start + 8\n",
     "output_type": "error",
     "traceback": [
      "\u001b[0;31m---------------------------------------------------------------------------\u001b[0m",
      "\u001b[0;31mElementClickInterceptedException\u001b[0m          Traceback (most recent call last)",
      "Cell \u001b[0;32mIn[22], line 15\u001b[0m\n\u001b[1;32m     12\u001b[0m time\u001b[39m.\u001b[39msleep(\u001b[39m1\u001b[39m)\n\u001b[1;32m     14\u001b[0m xpath \u001b[39m=\u001b[39m \u001b[39m'\u001b[39m\u001b[39m//*[@id=\u001b[39m\u001b[39m\"\u001b[39m\u001b[39mglopopd_excel\u001b[39m\u001b[39m\"\u001b[39m\u001b[39m]/span\u001b[39m\u001b[39m'\u001b[39m\n\u001b[0;32m---> 15\u001b[0m gu_list_raw \u001b[39m=\u001b[39m driver\u001b[39m.\u001b[39;49mfind_element(By\u001b[39m.\u001b[39;49mXPATH, xpath)\u001b[39m.\u001b[39;49mclick()\n\u001b[1;32m     16\u001b[0m time\u001b[39m.\u001b[39msleep(\u001b[39m1\u001b[39m)\n",
      "File \u001b[0;32m~/miniforge3/envs/tensorflow/lib/python3.9/site-packages/selenium/webdriver/remote/webelement.py:93\u001b[0m, in \u001b[0;36mWebElement.click\u001b[0;34m(self)\u001b[0m\n\u001b[1;32m     91\u001b[0m \u001b[39mdef\u001b[39;00m \u001b[39mclick\u001b[39m(\u001b[39mself\u001b[39m) \u001b[39m-\u001b[39m\u001b[39m>\u001b[39m \u001b[39mNone\u001b[39;00m:\n\u001b[1;32m     92\u001b[0m \u001b[39m    \u001b[39m\u001b[39m\"\"\"Clicks the element.\"\"\"\u001b[39;00m\n\u001b[0;32m---> 93\u001b[0m     \u001b[39mself\u001b[39;49m\u001b[39m.\u001b[39;49m_execute(Command\u001b[39m.\u001b[39;49mCLICK_ELEMENT)\n",
      "File \u001b[0;32m~/miniforge3/envs/tensorflow/lib/python3.9/site-packages/selenium/webdriver/remote/webelement.py:410\u001b[0m, in \u001b[0;36mWebElement._execute\u001b[0;34m(self, command, params)\u001b[0m\n\u001b[1;32m    408\u001b[0m     params \u001b[39m=\u001b[39m {}\n\u001b[1;32m    409\u001b[0m params[\u001b[39m\"\u001b[39m\u001b[39mid\u001b[39m\u001b[39m\"\u001b[39m] \u001b[39m=\u001b[39m \u001b[39mself\u001b[39m\u001b[39m.\u001b[39m_id\n\u001b[0;32m--> 410\u001b[0m \u001b[39mreturn\u001b[39;00m \u001b[39mself\u001b[39;49m\u001b[39m.\u001b[39;49m_parent\u001b[39m.\u001b[39;49mexecute(command, params)\n",
      "File \u001b[0;32m~/miniforge3/envs/tensorflow/lib/python3.9/site-packages/selenium/webdriver/remote/webdriver.py:444\u001b[0m, in \u001b[0;36mWebDriver.execute\u001b[0;34m(self, driver_command, params)\u001b[0m\n\u001b[1;32m    442\u001b[0m response \u001b[39m=\u001b[39m \u001b[39mself\u001b[39m\u001b[39m.\u001b[39mcommand_executor\u001b[39m.\u001b[39mexecute(driver_command, params)\n\u001b[1;32m    443\u001b[0m \u001b[39mif\u001b[39;00m response:\n\u001b[0;32m--> 444\u001b[0m     \u001b[39mself\u001b[39;49m\u001b[39m.\u001b[39;49merror_handler\u001b[39m.\u001b[39;49mcheck_response(response)\n\u001b[1;32m    445\u001b[0m     response[\u001b[39m\"\u001b[39m\u001b[39mvalue\u001b[39m\u001b[39m\"\u001b[39m] \u001b[39m=\u001b[39m \u001b[39mself\u001b[39m\u001b[39m.\u001b[39m_unwrap_value(response\u001b[39m.\u001b[39mget(\u001b[39m\"\u001b[39m\u001b[39mvalue\u001b[39m\u001b[39m\"\u001b[39m, \u001b[39mNone\u001b[39;00m))\n\u001b[1;32m    446\u001b[0m     \u001b[39mreturn\u001b[39;00m response\n",
      "File \u001b[0;32m~/miniforge3/envs/tensorflow/lib/python3.9/site-packages/selenium/webdriver/remote/errorhandler.py:249\u001b[0m, in \u001b[0;36mErrorHandler.check_response\u001b[0;34m(self, response)\u001b[0m\n\u001b[1;32m    247\u001b[0m         alert_text \u001b[39m=\u001b[39m value[\u001b[39m\"\u001b[39m\u001b[39malert\u001b[39m\u001b[39m\"\u001b[39m]\u001b[39m.\u001b[39mget(\u001b[39m\"\u001b[39m\u001b[39mtext\u001b[39m\u001b[39m\"\u001b[39m)\n\u001b[1;32m    248\u001b[0m     \u001b[39mraise\u001b[39;00m exception_class(message, screen, stacktrace, alert_text)  \u001b[39m# type: ignore[call-arg]  # mypy is not smart enough here\u001b[39;00m\n\u001b[0;32m--> 249\u001b[0m \u001b[39mraise\u001b[39;00m exception_class(message, screen, stacktrace)\n",
      "\u001b[0;31mElementClickInterceptedException\u001b[0m: Message: element click intercepted: Element <span>...</span> is not clickable at point (287, 618). Other element would receive the click: <div id=\"mpopup_bg\" style=\"position: absolute; z-index: 32001; top: 0px; left: 0px; width: 100%; height: 953px; margin: 0px; padding: 0px; border: 0px solid black; display: block;\">...</div>\n  (Session info: chrome=108.0.5359.124)\nStacktrace:\n0   chromedriver                        0x0000000100ffbb7c chromedriver + 4209532\n1   chromedriver                        0x0000000100f87418 chromedriver + 3732504\n2   chromedriver                        0x0000000100c3a368 chromedriver + 271208\n3   chromedriver                        0x0000000100c7d7c0 chromedriver + 546752\n4   chromedriver                        0x0000000100c7b2c0 chromedriver + 537280\n5   chromedriver                        0x0000000100c78aa8 chromedriver + 527016\n6   chromedriver                        0x0000000100c7799c chromedriver + 522652\n7   chromedriver                        0x0000000100c6a63c chromedriver + 468540\n8   chromedriver                        0x0000000100c69dec chromedriver + 466412\n9   chromedriver                        0x0000000100cad804 chromedriver + 743428\n10  chromedriver                        0x0000000100c6859c chromedriver + 460188\n11  chromedriver                        0x0000000100c69644 chromedriver + 464452\n12  chromedriver                        0x0000000100fcd30c chromedriver + 4018956\n13  chromedriver                        0x0000000100fd0fd8 chromedriver + 4034520\n14  chromedriver                        0x0000000100fd711c chromedriver + 4059420\n15  chromedriver                        0x0000000100fd1bac chromedriver + 4037548\n16  chromedriver                        0x0000000100fabbb0 chromedriver + 3881904\n17  chromedriver                        0x0000000100fee120 chromedriver + 4153632\n18  chromedriver                        0x0000000100fee274 chromedriver + 4153972\n19  chromedriver                        0x000000010100282c chromedriver + 4237356\n20  libsystem_pthread.dylib             0x00000001a2ded06c _pthread_start + 148\n21  libsystem_pthread.dylib             0x00000001a2de7e2c thread_start + 8\n"
     ]
    }
   ],
   "source": [
    "# 화면에 그림을 그리는 시간이 필요하므로 이를 delay 시키도록 한다.\n",
    "import time\n",
    "\n",
    "for gu in gu_names:\n",
    "    element = driver.find_element(By.ID, 'SIGUNGU_NM0')\n",
    "    element.send_keys(gu)\n",
    "    #조회 누르면 화면이 지도를 그리는 시간이 필요\n",
    "    time.sleep(2)\n",
    "    \n",
    "    xpath = '//*[@id=\"searRgSelect\"]/span'\n",
    "    gu_list_raw = driver.find_element(By.XPATH, xpath).click()\n",
    "    time.sleep(1)\n",
    "    \n",
    "    xpath = '//*[@id=\"glopopd_excel\"]/span'\n",
    "    gu_list_raw = driver.find_element(By.XPATH, xpath).click()\n",
    "    time.sleep(1)"
   ]
  },
  {
   "cell_type": "code",
   "execution_count": null,
   "metadata": {},
   "outputs": [],
   "source": []
  }
 ],
 "metadata": {
  "kernelspec": {
   "display_name": "tensorflow",
   "language": "python",
   "name": "python3"
  },
  "language_info": {
   "codemirror_mode": {
    "name": "ipython",
    "version": 3
   },
   "file_extension": ".py",
   "mimetype": "text/x-python",
   "name": "python",
   "nbconvert_exporter": "python",
   "pygments_lexer": "ipython3",
   "version": "3.9.13 | packaged by conda-forge | (main, May 27 2022, 17:01:00) \n[Clang 13.0.1 ]"
  },
  "orig_nbformat": 4,
  "vscode": {
   "interpreter": {
    "hash": "75f222f31d8106ed7e1b9fc13cea3e71535ba3320824bf9a24772f72bb580fe7"
   }
  }
 },
 "nbformat": 4,
 "nbformat_minor": 2
}
